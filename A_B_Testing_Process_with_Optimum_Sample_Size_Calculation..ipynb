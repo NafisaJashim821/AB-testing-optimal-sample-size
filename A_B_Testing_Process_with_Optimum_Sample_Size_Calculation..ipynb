{
 "cells": [
  {
   "cell_type": "code",
   "execution_count": 1,
   "id": "7a8a3a92-6125-47d3-8c97-9009783ac861",
   "metadata": {},
   "outputs": [],
   "source": [
    "import pandas as pd\n",
    "import numpy as np\n",
    "import altair as alt\n",
    "alt.data_transformers.disable_max_rows()\n",
    "from datetime import datetime"
   ]
  },
  {
   "cell_type": "code",
   "execution_count": 2,
   "id": "657c3d94-daca-4cc7-9548-569891c15a51",
   "metadata": {},
   "outputs": [
    {
     "name": "stdout",
     "output_type": "stream",
     "text": [
      "Requirement already satisfied: altair in c:\\users\\hp\\appdata\\local\\programs\\python\\python312\\lib\\site-packages (5.5.0)\n",
      "Requirement already satisfied: jinja2 in c:\\users\\hp\\appdata\\local\\programs\\python\\python312\\lib\\site-packages (from altair) (3.1.4)\n",
      "Requirement already satisfied: jsonschema>=3.0 in c:\\users\\hp\\appdata\\local\\programs\\python\\python312\\lib\\site-packages (from altair) (4.21.1)\n",
      "Requirement already satisfied: narwhals>=1.14.2 in c:\\users\\hp\\appdata\\local\\programs\\python\\python312\\lib\\site-packages (from altair) (1.31.0)\n",
      "Requirement already satisfied: packaging in c:\\users\\hp\\appdata\\local\\programs\\python\\python312\\lib\\site-packages (from altair) (24.0)\n",
      "Requirement already satisfied: typing-extensions>=4.10.0 in c:\\users\\hp\\appdata\\local\\programs\\python\\python312\\lib\\site-packages (from altair) (4.12.2)\n",
      "Requirement already satisfied: attrs>=22.2.0 in c:\\users\\hp\\appdata\\local\\programs\\python\\python312\\lib\\site-packages (from jsonschema>=3.0->altair) (23.2.0)\n",
      "Requirement already satisfied: jsonschema-specifications>=2023.03.6 in c:\\users\\hp\\appdata\\local\\programs\\python\\python312\\lib\\site-packages (from jsonschema>=3.0->altair) (2023.12.1)\n",
      "Requirement already satisfied: referencing>=0.28.4 in c:\\users\\hp\\appdata\\local\\programs\\python\\python312\\lib\\site-packages (from jsonschema>=3.0->altair) (0.33.0)\n",
      "Requirement already satisfied: rpds-py>=0.7.1 in c:\\users\\hp\\appdata\\local\\programs\\python\\python312\\lib\\site-packages (from jsonschema>=3.0->altair) (0.18.0)\n",
      "Requirement already satisfied: MarkupSafe>=2.0 in c:\\users\\hp\\appdata\\local\\programs\\python\\python312\\lib\\site-packages (from jinja2->altair) (2.1.5)\n"
     ]
    },
    {
     "name": "stderr",
     "output_type": "stream",
     "text": [
      "\n",
      "[notice] A new release of pip is available: 24.0 -> 25.0.1\n",
      "[notice] To update, run: python.exe -m pip install --upgrade pip\n"
     ]
    }
   ],
   "source": [
    "!pip install altair\n"
   ]
  },
  {
   "cell_type": "markdown",
   "id": "3fb0e8b5-ef12-4f55-a176-7a0231de653c",
   "metadata": {},
   "source": [
    "# Pre-test Metrics Calculation"
   ]
  },
  {
   "cell_type": "markdown",
   "id": "09adc742-1e85-45e4-bd24-a76721bd51b2",
   "metadata": {},
   "source": [
    "#  User Activity"
   ]
  },
  {
   "cell_type": "code",
   "execution_count": 3,
   "id": "c6b276b7-69c0-4b27-8e5b-eb97d196dcb0",
   "metadata": {},
   "outputs": [
    {
     "data": {
      "text/html": [
       "<div>\n",
       "<style scoped>\n",
       "    .dataframe tbody tr th:only-of-type {\n",
       "        vertical-align: middle;\n",
       "    }\n",
       "\n",
       "    .dataframe tbody tr th {\n",
       "        vertical-align: top;\n",
       "    }\n",
       "\n",
       "    .dataframe thead th {\n",
       "        text-align: right;\n",
       "    }\n",
       "</style>\n",
       "<table border=\"1\" class=\"dataframe\">\n",
       "  <thead>\n",
       "    <tr style=\"text-align: right;\">\n",
       "      <th></th>\n",
       "      <th>userid</th>\n",
       "      <th>dt</th>\n",
       "      <th>activity_level</th>\n",
       "    </tr>\n",
       "  </thead>\n",
       "  <tbody>\n",
       "    <tr>\n",
       "      <th>0</th>\n",
       "      <td>a5b70ae7-f07c-4773-9df4-ce112bc9dc48</td>\n",
       "      <td>2021-10-01</td>\n",
       "      <td>0</td>\n",
       "    </tr>\n",
       "    <tr>\n",
       "      <th>1</th>\n",
       "      <td>d2646662-269f-49de-aab1-8776afced9a3</td>\n",
       "      <td>2021-10-01</td>\n",
       "      <td>0</td>\n",
       "    </tr>\n",
       "    <tr>\n",
       "      <th>2</th>\n",
       "      <td>c4d1cfa8-283d-49ad-a894-90aedc39c798</td>\n",
       "      <td>2021-10-01</td>\n",
       "      <td>0</td>\n",
       "    </tr>\n",
       "    <tr>\n",
       "      <th>3</th>\n",
       "      <td>6889f87f-5356-4904-a35a-6ea5020011db</td>\n",
       "      <td>2021-10-01</td>\n",
       "      <td>0</td>\n",
       "    </tr>\n",
       "    <tr>\n",
       "      <th>4</th>\n",
       "      <td>dbee604c-474a-4c9d-b013-508e5a0e3059</td>\n",
       "      <td>2021-10-01</td>\n",
       "      <td>0</td>\n",
       "    </tr>\n",
       "  </tbody>\n",
       "</table>\n",
       "</div>"
      ],
      "text/plain": [
       "                                 userid          dt  activity_level\n",
       "0  a5b70ae7-f07c-4773-9df4-ce112bc9dc48  2021-10-01               0\n",
       "1  d2646662-269f-49de-aab1-8776afced9a3  2021-10-01               0\n",
       "2  c4d1cfa8-283d-49ad-a894-90aedc39c798  2021-10-01               0\n",
       "3  6889f87f-5356-4904-a35a-6ea5020011db  2021-10-01               0\n",
       "4  dbee604c-474a-4c9d-b013-508e5a0e3059  2021-10-01               0"
      ]
     },
     "execution_count": 3,
     "metadata": {},
     "output_type": "execute_result"
    }
   ],
   "source": [
    "data = pd.read_csv(\"Activity_pretest.csv\")\n",
    "data.head()"
   ]
  },
  {
   "cell_type": "code",
   "execution_count": 4,
   "id": "c282d35f-d686-4b26-aa42-d938347b4752",
   "metadata": {},
   "outputs": [
    {
     "data": {
      "text/html": [
       "<div>\n",
       "<style scoped>\n",
       "    .dataframe tbody tr th:only-of-type {\n",
       "        vertical-align: middle;\n",
       "    }\n",
       "\n",
       "    .dataframe tbody tr th {\n",
       "        vertical-align: top;\n",
       "    }\n",
       "\n",
       "    .dataframe thead th {\n",
       "        text-align: right;\n",
       "    }\n",
       "</style>\n",
       "<table border=\"1\" class=\"dataframe\">\n",
       "  <thead>\n",
       "    <tr style=\"text-align: right;\">\n",
       "      <th></th>\n",
       "      <th>userid</th>\n",
       "      <th>dt</th>\n",
       "      <th>activity_level</th>\n",
       "    </tr>\n",
       "  </thead>\n",
       "  <tbody>\n",
       "    <tr>\n",
       "      <th>909125</th>\n",
       "      <td>428070b0-083e-4c0e-8444-47bf91e99fff</td>\n",
       "      <td>2021-10-01</td>\n",
       "      <td>1</td>\n",
       "    </tr>\n",
       "    <tr>\n",
       "      <th>909126</th>\n",
       "      <td>93370f9c-56ef-437f-99ff-cb7c092d08a7</td>\n",
       "      <td>2021-10-01</td>\n",
       "      <td>1</td>\n",
       "    </tr>\n",
       "    <tr>\n",
       "      <th>909127</th>\n",
       "      <td>0fb7120a-53cf-4a51-8b52-bf07b8659bd6</td>\n",
       "      <td>2021-10-01</td>\n",
       "      <td>1</td>\n",
       "    </tr>\n",
       "    <tr>\n",
       "      <th>909128</th>\n",
       "      <td>ce64a9d8-07d9-4dca-908d-5e1e4568003d</td>\n",
       "      <td>2021-10-01</td>\n",
       "      <td>1</td>\n",
       "    </tr>\n",
       "    <tr>\n",
       "      <th>909129</th>\n",
       "      <td>e08332f0-3a5c-4ed2-b957-87e464e89b97</td>\n",
       "      <td>2021-10-01</td>\n",
       "      <td>1</td>\n",
       "    </tr>\n",
       "    <tr>\n",
       "      <th>909130</th>\n",
       "      <td>34ace777-5e9d-40b3-a859-4145d0c35c8d</td>\n",
       "      <td>2021-10-01</td>\n",
       "      <td>1</td>\n",
       "    </tr>\n",
       "    <tr>\n",
       "      <th>909131</th>\n",
       "      <td>420a60e9-6394-4324-b02c-ab372609968e</td>\n",
       "      <td>2021-10-01</td>\n",
       "      <td>1</td>\n",
       "    </tr>\n",
       "    <tr>\n",
       "      <th>909132</th>\n",
       "      <td>6f6b36ef-bd93-4399-a2f4-996c96d3e0a7</td>\n",
       "      <td>2021-10-01</td>\n",
       "      <td>1</td>\n",
       "    </tr>\n",
       "    <tr>\n",
       "      <th>909133</th>\n",
       "      <td>7dfbbc2e-6e71-4128-848d-be83df79b921</td>\n",
       "      <td>2021-10-01</td>\n",
       "      <td>1</td>\n",
       "    </tr>\n",
       "    <tr>\n",
       "      <th>909134</th>\n",
       "      <td>57fff942-6f0f-4de5-91c7-e7a42d518649</td>\n",
       "      <td>2021-10-01</td>\n",
       "      <td>1</td>\n",
       "    </tr>\n",
       "  </tbody>\n",
       "</table>\n",
       "</div>"
      ],
      "text/plain": [
       "                                      userid          dt  activity_level\n",
       "909125  428070b0-083e-4c0e-8444-47bf91e99fff  2021-10-01               1\n",
       "909126  93370f9c-56ef-437f-99ff-cb7c092d08a7  2021-10-01               1\n",
       "909127  0fb7120a-53cf-4a51-8b52-bf07b8659bd6  2021-10-01               1\n",
       "909128  ce64a9d8-07d9-4dca-908d-5e1e4568003d  2021-10-01               1\n",
       "909129  e08332f0-3a5c-4ed2-b957-87e464e89b97  2021-10-01               1\n",
       "909130  34ace777-5e9d-40b3-a859-4145d0c35c8d  2021-10-01               1\n",
       "909131  420a60e9-6394-4324-b02c-ab372609968e  2021-10-01               1\n",
       "909132  6f6b36ef-bd93-4399-a2f4-996c96d3e0a7  2021-10-01               1\n",
       "909133  7dfbbc2e-6e71-4128-848d-be83df79b921  2021-10-01               1\n",
       "909134  57fff942-6f0f-4de5-91c7-e7a42d518649  2021-10-01               1"
      ]
     },
     "execution_count": 4,
     "metadata": {},
     "output_type": "execute_result"
    }
   ],
   "source": [
    "data.query('activity_level > 0').head(10)"
   ]
  },
  {
   "cell_type": "code",
   "execution_count": 5,
   "id": "bb7588cb-70d7-4684-ad16-0f201f8ba3e1",
   "metadata": {},
   "outputs": [
    {
     "data": {
      "text/plain": [
       "activity_level\n",
       "0     909125\n",
       "5      49227\n",
       "2      49074\n",
       "18     48982\n",
       "10     48943\n",
       "16     48934\n",
       "12     48911\n",
       "6      48901\n",
       "19     48901\n",
       "11     48832\n",
       "9      48820\n",
       "1      48732\n",
       "3      48659\n",
       "14     48620\n",
       "15     48599\n",
       "4      48556\n",
       "13     48534\n",
       "8      48396\n",
       "17     48395\n",
       "7      48339\n",
       "20     24520\n",
       "Name: count, dtype: int64"
      ]
     },
     "execution_count": 5,
     "metadata": {},
     "output_type": "execute_result"
    }
   ],
   "source": [
    "data.activity_level.value_counts().sort_values(ascending=False)"
   ]
  },
  {
   "cell_type": "code",
   "execution_count": 6,
   "id": "0cd1ff29-4779-40b3-a0fe-99e838347133",
   "metadata": {},
   "outputs": [
    {
     "data": {
      "text/html": [
       "<div>\n",
       "<style scoped>\n",
       "    .dataframe tbody tr th:only-of-type {\n",
       "        vertical-align: middle;\n",
       "    }\n",
       "\n",
       "    .dataframe tbody tr th {\n",
       "        vertical-align: top;\n",
       "    }\n",
       "\n",
       "    .dataframe thead th {\n",
       "        text-align: right;\n",
       "    }\n",
       "</style>\n",
       "<table border=\"1\" class=\"dataframe\">\n",
       "  <thead>\n",
       "    <tr style=\"text-align: right;\">\n",
       "      <th></th>\n",
       "      <th>dt</th>\n",
       "      <th>activity_level</th>\n",
       "      <th>number_of_active_users</th>\n",
       "    </tr>\n",
       "  </thead>\n",
       "  <tbody>\n",
       "    <tr>\n",
       "      <th>0</th>\n",
       "      <td>2021-10-01</td>\n",
       "      <td>1</td>\n",
       "      <td>1602</td>\n",
       "    </tr>\n",
       "    <tr>\n",
       "      <th>1</th>\n",
       "      <td>2021-10-01</td>\n",
       "      <td>2</td>\n",
       "      <td>1507</td>\n",
       "    </tr>\n",
       "    <tr>\n",
       "      <th>2</th>\n",
       "      <td>2021-10-01</td>\n",
       "      <td>3</td>\n",
       "      <td>1587</td>\n",
       "    </tr>\n",
       "    <tr>\n",
       "      <th>3</th>\n",
       "      <td>2021-10-01</td>\n",
       "      <td>4</td>\n",
       "      <td>1551</td>\n",
       "    </tr>\n",
       "    <tr>\n",
       "      <th>4</th>\n",
       "      <td>2021-10-01</td>\n",
       "      <td>5</td>\n",
       "      <td>1586</td>\n",
       "    </tr>\n",
       "    <tr>\n",
       "      <th>5</th>\n",
       "      <td>2021-10-01</td>\n",
       "      <td>6</td>\n",
       "      <td>1640</td>\n",
       "    </tr>\n",
       "    <tr>\n",
       "      <th>6</th>\n",
       "      <td>2021-10-01</td>\n",
       "      <td>7</td>\n",
       "      <td>1508</td>\n",
       "    </tr>\n",
       "    <tr>\n",
       "      <th>7</th>\n",
       "      <td>2021-10-01</td>\n",
       "      <td>8</td>\n",
       "      <td>1571</td>\n",
       "    </tr>\n",
       "    <tr>\n",
       "      <th>8</th>\n",
       "      <td>2021-10-01</td>\n",
       "      <td>9</td>\n",
       "      <td>1576</td>\n",
       "    </tr>\n",
       "    <tr>\n",
       "      <th>9</th>\n",
       "      <td>2021-10-01</td>\n",
       "      <td>10</td>\n",
       "      <td>1593</td>\n",
       "    </tr>\n",
       "  </tbody>\n",
       "</table>\n",
       "</div>"
      ],
      "text/plain": [
       "           dt  activity_level  number_of_active_users\n",
       "0  2021-10-01               1                    1602\n",
       "1  2021-10-01               2                    1507\n",
       "2  2021-10-01               3                    1587\n",
       "3  2021-10-01               4                    1551\n",
       "4  2021-10-01               5                    1586\n",
       "5  2021-10-01               6                    1640\n",
       "6  2021-10-01               7                    1508\n",
       "7  2021-10-01               8                    1571\n",
       "8  2021-10-01               9                    1576\n",
       "9  2021-10-01              10                    1593"
      ]
     },
     "execution_count": 6,
     "metadata": {},
     "output_type": "execute_result"
    }
   ],
   "source": [
    "activity = data.query('activity_level > 0').groupby(['dt', 'activity_level'])[\"userid\"].nunique().reset_index().rename(columns={\"userid\":\"number_of_active_users\"})\n",
    "\n",
    "activity.head(10)"
   ]
  },
  {
   "cell_type": "code",
   "execution_count": 7,
   "id": "6c00dea9-9e4d-4137-abb4-c8ab57fc9c72",
   "metadata": {},
   "outputs": [
    {
     "data": {
      "text/html": [
       "\n",
       "<style>\n",
       "  #altair-viz-00789b2c5acb4bc49e2b48c14d762df4.vega-embed {\n",
       "    width: 100%;\n",
       "    display: flex;\n",
       "  }\n",
       "\n",
       "  #altair-viz-00789b2c5acb4bc49e2b48c14d762df4.vega-embed details,\n",
       "  #altair-viz-00789b2c5acb4bc49e2b48c14d762df4.vega-embed details summary {\n",
       "    position: relative;\n",
       "  }\n",
       "</style>\n",
       "<div id=\"altair-viz-00789b2c5acb4bc49e2b48c14d762df4\"></div>\n",
       "<script type=\"text/javascript\">\n",
       "  var VEGA_DEBUG = (typeof VEGA_DEBUG == \"undefined\") ? {} : VEGA_DEBUG;\n",
       "  (function(spec, embedOpt){\n",
       "    let outputDiv = document.currentScript.previousElementSibling;\n",
       "    if (outputDiv.id !== \"altair-viz-00789b2c5acb4bc49e2b48c14d762df4\") {\n",
       "      outputDiv = document.getElementById(\"altair-viz-00789b2c5acb4bc49e2b48c14d762df4\");\n",
       "    }\n",
       "\n",
       "    const paths = {\n",
       "      \"vega\": \"https://cdn.jsdelivr.net/npm/vega@5?noext\",\n",
       "      \"vega-lib\": \"https://cdn.jsdelivr.net/npm/vega-lib?noext\",\n",
       "      \"vega-lite\": \"https://cdn.jsdelivr.net/npm/vega-lite@5.20.1?noext\",\n",
       "      \"vega-embed\": \"https://cdn.jsdelivr.net/npm/vega-embed@6?noext\",\n",
       "    };\n",
       "\n",
       "    function maybeLoadScript(lib, version) {\n",
       "      var key = `${lib.replace(\"-\", \"\")}_version`;\n",
       "      return (VEGA_DEBUG[key] == version) ?\n",
       "        Promise.resolve(paths[lib]) :\n",
       "        new Promise(function(resolve, reject) {\n",
       "          var s = document.createElement('script');\n",
       "          document.getElementsByTagName(\"head\")[0].appendChild(s);\n",
       "          s.async = true;\n",
       "          s.onload = () => {\n",
       "            VEGA_DEBUG[key] = version;\n",
       "            return resolve(paths[lib]);\n",
       "          };\n",
       "          s.onerror = () => reject(`Error loading script: ${paths[lib]}`);\n",
       "          s.src = paths[lib];\n",
       "        });\n",
       "    }\n",
       "\n",
       "    function showError(err) {\n",
       "      outputDiv.innerHTML = `<div class=\"error\" style=\"color:red;\">${err}</div>`;\n",
       "      throw err;\n",
       "    }\n",
       "\n",
       "    function displayChart(vegaEmbed) {\n",
       "      vegaEmbed(outputDiv, spec, embedOpt)\n",
       "        .catch(err => showError(`Javascript Error: ${err.message}<br>This usually means there's a typo in your chart specification. See the javascript console for the full traceback.`));\n",
       "    }\n",
       "\n",
       "    if(typeof define === \"function\" && define.amd) {\n",
       "      requirejs.config({paths});\n",
       "      let deps = [\"vega-embed\"];\n",
       "      require(deps, displayChart, err => showError(`Error loading script: ${err.message}`));\n",
       "    } else {\n",
       "      maybeLoadScript(\"vega\", \"5\")\n",
       "        .then(() => maybeLoadScript(\"vega-lite\", \"5.20.1\"))\n",
       "        .then(() => maybeLoadScript(\"vega-embed\", \"6\"))\n",
       "        .catch(showError)\n",
       "        .then(() => displayChart(vegaEmbed));\n",
       "    }\n",
       "  })({\"config\": {\"view\": {\"continuousWidth\": 300, \"continuousHeight\": 300}}, \"data\": {\"name\": \"data-070f76c76fd19faf7558d610c3a363d8\"}, \"mark\": {\"type\": \"line\", \"size\": 1}, \"encoding\": {\"color\": {\"field\": \"activity_level\", \"title\": \"Activity Level\", \"type\": \"nominal\"}, \"tooltip\": [{\"field\": \"dt\", \"title\": \"Date\", \"type\": \"temporal\"}, {\"field\": \"number_of_active_users\", \"title\": \"Users\", \"type\": \"quantitative\"}, {\"field\": \"activity_level\", \"title\": \"Activity Level\", \"type\": \"nominal\"}], \"x\": {\"field\": \"dt\", \"title\": \"Date\", \"type\": \"temporal\"}, \"y\": {\"field\": \"number_of_active_users\", \"title\": \"Number of Users\", \"type\": \"quantitative\"}}, \"height\": 400, \"title\": \"Active Users Over Time by Activity Level\", \"width\": 600, \"$schema\": \"https://vega.github.io/schema/vega-lite/v5.20.1.json\", \"datasets\": {\"data-070f76c76fd19faf7558d610c3a363d8\": [{\"dt\": \"2021-10-01\", \"activity_level\": 1, \"number_of_active_users\": 1602}, {\"dt\": \"2021-10-01\", \"activity_level\": 2, \"number_of_active_users\": 1507}, {\"dt\": \"2021-10-01\", \"activity_level\": 3, \"number_of_active_users\": 1587}, {\"dt\": \"2021-10-01\", \"activity_level\": 4, \"number_of_active_users\": 1551}, {\"dt\": \"2021-10-01\", \"activity_level\": 5, \"number_of_active_users\": 1586}, {\"dt\": \"2021-10-01\", \"activity_level\": 6, \"number_of_active_users\": 1640}, {\"dt\": \"2021-10-01\", \"activity_level\": 7, \"number_of_active_users\": 1508}, {\"dt\": \"2021-10-01\", \"activity_level\": 8, \"number_of_active_users\": 1571}, {\"dt\": \"2021-10-01\", \"activity_level\": 9, \"number_of_active_users\": 1576}, {\"dt\": \"2021-10-01\", \"activity_level\": 10, \"number_of_active_users\": 1593}, {\"dt\": \"2021-10-01\", \"activity_level\": 11, \"number_of_active_users\": 1497}, {\"dt\": \"2021-10-01\", \"activity_level\": 12, \"number_of_active_users\": 1623}, {\"dt\": \"2021-10-01\", \"activity_level\": 13, \"number_of_active_users\": 1554}, {\"dt\": \"2021-10-01\", \"activity_level\": 14, \"number_of_active_users\": 1572}, {\"dt\": \"2021-10-01\", \"activity_level\": 15, \"number_of_active_users\": 1508}, {\"dt\": \"2021-10-01\", \"activity_level\": 16, \"number_of_active_users\": 1628}, {\"dt\": \"2021-10-01\", \"activity_level\": 17, \"number_of_active_users\": 1593}, {\"dt\": \"2021-10-01\", \"activity_level\": 18, \"number_of_active_users\": 1597}, {\"dt\": \"2021-10-01\", \"activity_level\": 19, \"number_of_active_users\": 1572}, {\"dt\": \"2021-10-01\", \"activity_level\": 20, \"number_of_active_users\": 769}, {\"dt\": \"2021-10-02\", \"activity_level\": 1, \"number_of_active_users\": 1582}, {\"dt\": \"2021-10-02\", \"activity_level\": 2, \"number_of_active_users\": 1543}, {\"dt\": \"2021-10-02\", \"activity_level\": 3, \"number_of_active_users\": 1545}, {\"dt\": \"2021-10-02\", \"activity_level\": 4, \"number_of_active_users\": 1618}, {\"dt\": \"2021-10-02\", \"activity_level\": 5, \"number_of_active_users\": 1607}, {\"dt\": \"2021-10-02\", \"activity_level\": 6, \"number_of_active_users\": 1563}, {\"dt\": \"2021-10-02\", \"activity_level\": 7, \"number_of_active_users\": 1560}, {\"dt\": \"2021-10-02\", \"activity_level\": 8, \"number_of_active_users\": 1557}, {\"dt\": \"2021-10-02\", \"activity_level\": 9, \"number_of_active_users\": 1602}, {\"dt\": \"2021-10-02\", \"activity_level\": 10, \"number_of_active_users\": 1593}, {\"dt\": \"2021-10-02\", \"activity_level\": 11, \"number_of_active_users\": 1590}, {\"dt\": \"2021-10-02\", \"activity_level\": 12, \"number_of_active_users\": 1579}, {\"dt\": \"2021-10-02\", \"activity_level\": 13, \"number_of_active_users\": 1572}, {\"dt\": \"2021-10-02\", \"activity_level\": 14, \"number_of_active_users\": 1532}, {\"dt\": \"2021-10-02\", \"activity_level\": 15, \"number_of_active_users\": 1587}, {\"dt\": \"2021-10-02\", \"activity_level\": 16, \"number_of_active_users\": 1620}, {\"dt\": \"2021-10-02\", \"activity_level\": 17, \"number_of_active_users\": 1545}, {\"dt\": \"2021-10-02\", \"activity_level\": 18, \"number_of_active_users\": 1611}, {\"dt\": \"2021-10-02\", \"activity_level\": 19, \"number_of_active_users\": 1611}, {\"dt\": \"2021-10-02\", \"activity_level\": 20, \"number_of_active_users\": 758}, {\"dt\": \"2021-10-03\", \"activity_level\": 1, \"number_of_active_users\": 1618}, {\"dt\": \"2021-10-03\", \"activity_level\": 2, \"number_of_active_users\": 1631}, {\"dt\": \"2021-10-03\", \"activity_level\": 3, \"number_of_active_users\": 1551}, {\"dt\": \"2021-10-03\", \"activity_level\": 4, \"number_of_active_users\": 1503}, {\"dt\": \"2021-10-03\", \"activity_level\": 5, \"number_of_active_users\": 1564}, {\"dt\": \"2021-10-03\", \"activity_level\": 6, \"number_of_active_users\": 1606}, {\"dt\": \"2021-10-03\", \"activity_level\": 7, \"number_of_active_users\": 1642}, {\"dt\": \"2021-10-03\", \"activity_level\": 8, \"number_of_active_users\": 1555}, {\"dt\": \"2021-10-03\", \"activity_level\": 9, \"number_of_active_users\": 1597}, {\"dt\": \"2021-10-03\", \"activity_level\": 10, \"number_of_active_users\": 1569}, {\"dt\": \"2021-10-03\", \"activity_level\": 11, \"number_of_active_users\": 1650}, {\"dt\": \"2021-10-03\", \"activity_level\": 12, \"number_of_active_users\": 1579}, {\"dt\": \"2021-10-03\", \"activity_level\": 13, \"number_of_active_users\": 1520}, {\"dt\": \"2021-10-03\", \"activity_level\": 14, \"number_of_active_users\": 1597}, {\"dt\": \"2021-10-03\", \"activity_level\": 15, \"number_of_active_users\": 1574}, {\"dt\": \"2021-10-03\", \"activity_level\": 16, \"number_of_active_users\": 1576}, {\"dt\": \"2021-10-03\", \"activity_level\": 17, \"number_of_active_users\": 1559}, {\"dt\": \"2021-10-03\", \"activity_level\": 18, \"number_of_active_users\": 1556}, {\"dt\": \"2021-10-03\", \"activity_level\": 19, \"number_of_active_users\": 1533}, {\"dt\": \"2021-10-03\", \"activity_level\": 20, \"number_of_active_users\": 805}, {\"dt\": \"2021-10-04\", \"activity_level\": 1, \"number_of_active_users\": 1576}, {\"dt\": \"2021-10-04\", \"activity_level\": 2, \"number_of_active_users\": 1566}, {\"dt\": \"2021-10-04\", \"activity_level\": 3, \"number_of_active_users\": 1529}, {\"dt\": \"2021-10-04\", \"activity_level\": 4, \"number_of_active_users\": 1579}, {\"dt\": \"2021-10-04\", \"activity_level\": 5, \"number_of_active_users\": 1553}, {\"dt\": \"2021-10-04\", \"activity_level\": 6, \"number_of_active_users\": 1525}, {\"dt\": \"2021-10-04\", \"activity_level\": 7, \"number_of_active_users\": 1579}, {\"dt\": \"2021-10-04\", \"activity_level\": 8, \"number_of_active_users\": 1566}, {\"dt\": \"2021-10-04\", \"activity_level\": 9, \"number_of_active_users\": 1586}, {\"dt\": \"2021-10-04\", \"activity_level\": 10, \"number_of_active_users\": 1540}, {\"dt\": \"2021-10-04\", \"activity_level\": 11, \"number_of_active_users\": 1569}, {\"dt\": \"2021-10-04\", \"activity_level\": 12, \"number_of_active_users\": 1589}, {\"dt\": \"2021-10-04\", \"activity_level\": 13, \"number_of_active_users\": 1586}, {\"dt\": \"2021-10-04\", \"activity_level\": 14, \"number_of_active_users\": 1574}, {\"dt\": \"2021-10-04\", \"activity_level\": 15, \"number_of_active_users\": 1580}, {\"dt\": \"2021-10-04\", \"activity_level\": 16, \"number_of_active_users\": 1539}, {\"dt\": \"2021-10-04\", \"activity_level\": 17, \"number_of_active_users\": 1586}, {\"dt\": \"2021-10-04\", \"activity_level\": 18, \"number_of_active_users\": 1577}, {\"dt\": \"2021-10-04\", \"activity_level\": 19, \"number_of_active_users\": 1617}, {\"dt\": \"2021-10-04\", \"activity_level\": 20, \"number_of_active_users\": 783}, {\"dt\": \"2021-10-05\", \"activity_level\": 1, \"number_of_active_users\": 1531}, {\"dt\": \"2021-10-05\", \"activity_level\": 2, \"number_of_active_users\": 1636}, {\"dt\": \"2021-10-05\", \"activity_level\": 3, \"number_of_active_users\": 1556}, {\"dt\": \"2021-10-05\", \"activity_level\": 4, \"number_of_active_users\": 1555}, {\"dt\": \"2021-10-05\", \"activity_level\": 5, \"number_of_active_users\": 1581}, {\"dt\": \"2021-10-05\", \"activity_level\": 6, \"number_of_active_users\": 1561}, {\"dt\": \"2021-10-05\", \"activity_level\": 7, \"number_of_active_users\": 1541}, {\"dt\": \"2021-10-05\", \"activity_level\": 8, \"number_of_active_users\": 1554}, {\"dt\": \"2021-10-05\", \"activity_level\": 9, \"number_of_active_users\": 1609}, {\"dt\": \"2021-10-05\", \"activity_level\": 10, \"number_of_active_users\": 1557}, {\"dt\": \"2021-10-05\", \"activity_level\": 11, \"number_of_active_users\": 1529}, {\"dt\": \"2021-10-05\", \"activity_level\": 12, \"number_of_active_users\": 1596}, {\"dt\": \"2021-10-05\", \"activity_level\": 13, \"number_of_active_users\": 1569}, {\"dt\": \"2021-10-05\", \"activity_level\": 14, \"number_of_active_users\": 1569}, {\"dt\": \"2021-10-05\", \"activity_level\": 15, \"number_of_active_users\": 1584}, {\"dt\": \"2021-10-05\", \"activity_level\": 16, \"number_of_active_users\": 1519}, {\"dt\": \"2021-10-05\", \"activity_level\": 17, \"number_of_active_users\": 1564}, {\"dt\": \"2021-10-05\", \"activity_level\": 18, \"number_of_active_users\": 1584}, {\"dt\": \"2021-10-05\", \"activity_level\": 19, \"number_of_active_users\": 1584}, {\"dt\": \"2021-10-05\", \"activity_level\": 20, \"number_of_active_users\": 809}, {\"dt\": \"2021-10-06\", \"activity_level\": 1, \"number_of_active_users\": 1585}, {\"dt\": \"2021-10-06\", \"activity_level\": 2, \"number_of_active_users\": 1644}, {\"dt\": \"2021-10-06\", \"activity_level\": 3, \"number_of_active_users\": 1588}, {\"dt\": \"2021-10-06\", \"activity_level\": 4, \"number_of_active_users\": 1558}, {\"dt\": \"2021-10-06\", \"activity_level\": 5, \"number_of_active_users\": 1529}, {\"dt\": \"2021-10-06\", \"activity_level\": 6, \"number_of_active_users\": 1591}, {\"dt\": \"2021-10-06\", \"activity_level\": 7, \"number_of_active_users\": 1625}, {\"dt\": \"2021-10-06\", \"activity_level\": 8, \"number_of_active_users\": 1562}, {\"dt\": \"2021-10-06\", \"activity_level\": 9, \"number_of_active_users\": 1573}, {\"dt\": \"2021-10-06\", \"activity_level\": 10, \"number_of_active_users\": 1546}, {\"dt\": \"2021-10-06\", \"activity_level\": 11, \"number_of_active_users\": 1587}, {\"dt\": \"2021-10-06\", \"activity_level\": 12, \"number_of_active_users\": 1606}, {\"dt\": \"2021-10-06\", \"activity_level\": 13, \"number_of_active_users\": 1544}, {\"dt\": \"2021-10-06\", \"activity_level\": 14, \"number_of_active_users\": 1500}, {\"dt\": \"2021-10-06\", \"activity_level\": 15, \"number_of_active_users\": 1542}, {\"dt\": \"2021-10-06\", \"activity_level\": 16, \"number_of_active_users\": 1554}, {\"dt\": \"2021-10-06\", \"activity_level\": 17, \"number_of_active_users\": 1545}, {\"dt\": \"2021-10-06\", \"activity_level\": 18, \"number_of_active_users\": 1561}, {\"dt\": \"2021-10-06\", \"activity_level\": 19, \"number_of_active_users\": 1600}, {\"dt\": \"2021-10-06\", \"activity_level\": 20, \"number_of_active_users\": 799}, {\"dt\": \"2021-10-07\", \"activity_level\": 1, \"number_of_active_users\": 1534}, {\"dt\": \"2021-10-07\", \"activity_level\": 2, \"number_of_active_users\": 1584}, {\"dt\": \"2021-10-07\", \"activity_level\": 3, \"number_of_active_users\": 1540}, {\"dt\": \"2021-10-07\", \"activity_level\": 4, \"number_of_active_users\": 1608}, {\"dt\": \"2021-10-07\", \"activity_level\": 5, \"number_of_active_users\": 1610}, {\"dt\": \"2021-10-07\", \"activity_level\": 6, \"number_of_active_users\": 1597}, {\"dt\": \"2021-10-07\", \"activity_level\": 7, \"number_of_active_users\": 1559}, {\"dt\": \"2021-10-07\", \"activity_level\": 8, \"number_of_active_users\": 1610}, {\"dt\": \"2021-10-07\", \"activity_level\": 9, \"number_of_active_users\": 1524}, {\"dt\": \"2021-10-07\", \"activity_level\": 10, \"number_of_active_users\": 1592}, {\"dt\": \"2021-10-07\", \"activity_level\": 11, \"number_of_active_users\": 1549}, {\"dt\": \"2021-10-07\", \"activity_level\": 12, \"number_of_active_users\": 1592}, {\"dt\": \"2021-10-07\", \"activity_level\": 13, \"number_of_active_users\": 1538}, {\"dt\": \"2021-10-07\", \"activity_level\": 14, \"number_of_active_users\": 1572}, {\"dt\": \"2021-10-07\", \"activity_level\": 15, \"number_of_active_users\": 1557}, {\"dt\": \"2021-10-07\", \"activity_level\": 16, \"number_of_active_users\": 1583}, {\"dt\": \"2021-10-07\", \"activity_level\": 17, \"number_of_active_users\": 1609}, {\"dt\": \"2021-10-07\", \"activity_level\": 18, \"number_of_active_users\": 1554}, {\"dt\": \"2021-10-07\", \"activity_level\": 19, \"number_of_active_users\": 1544}, {\"dt\": \"2021-10-07\", \"activity_level\": 20, \"number_of_active_users\": 781}, {\"dt\": \"2021-10-08\", \"activity_level\": 1, \"number_of_active_users\": 1580}, {\"dt\": \"2021-10-08\", \"activity_level\": 2, \"number_of_active_users\": 1592}, {\"dt\": \"2021-10-08\", \"activity_level\": 3, \"number_of_active_users\": 1518}, {\"dt\": \"2021-10-08\", \"activity_level\": 4, \"number_of_active_users\": 1533}, {\"dt\": \"2021-10-08\", \"activity_level\": 5, \"number_of_active_users\": 1615}, {\"dt\": \"2021-10-08\", \"activity_level\": 6, \"number_of_active_users\": 1438}, {\"dt\": \"2021-10-08\", \"activity_level\": 7, \"number_of_active_users\": 1595}, {\"dt\": \"2021-10-08\", \"activity_level\": 8, \"number_of_active_users\": 1518}, {\"dt\": \"2021-10-08\", \"activity_level\": 9, \"number_of_active_users\": 1621}, {\"dt\": \"2021-10-08\", \"activity_level\": 10, \"number_of_active_users\": 1518}, {\"dt\": \"2021-10-08\", \"activity_level\": 11, \"number_of_active_users\": 1583}, {\"dt\": \"2021-10-08\", \"activity_level\": 12, \"number_of_active_users\": 1581}, {\"dt\": \"2021-10-08\", \"activity_level\": 13, \"number_of_active_users\": 1631}, {\"dt\": \"2021-10-08\", \"activity_level\": 14, \"number_of_active_users\": 1610}, {\"dt\": \"2021-10-08\", \"activity_level\": 15, \"number_of_active_users\": 1529}, {\"dt\": \"2021-10-08\", \"activity_level\": 16, \"number_of_active_users\": 1650}, {\"dt\": \"2021-10-08\", \"activity_level\": 17, \"number_of_active_users\": 1516}, {\"dt\": \"2021-10-08\", \"activity_level\": 18, \"number_of_active_users\": 1649}, {\"dt\": \"2021-10-08\", \"activity_level\": 19, \"number_of_active_users\": 1510}, {\"dt\": \"2021-10-08\", \"activity_level\": 20, \"number_of_active_users\": 813}, {\"dt\": \"2021-10-09\", \"activity_level\": 1, \"number_of_active_users\": 1556}, {\"dt\": \"2021-10-09\", \"activity_level\": 2, \"number_of_active_users\": 1572}, {\"dt\": \"2021-10-09\", \"activity_level\": 3, \"number_of_active_users\": 1580}, {\"dt\": \"2021-10-09\", \"activity_level\": 4, \"number_of_active_users\": 1562}, {\"dt\": \"2021-10-09\", \"activity_level\": 5, \"number_of_active_users\": 1676}, {\"dt\": \"2021-10-09\", \"activity_level\": 6, \"number_of_active_users\": 1639}, {\"dt\": \"2021-10-09\", \"activity_level\": 7, \"number_of_active_users\": 1544}, {\"dt\": \"2021-10-09\", \"activity_level\": 8, \"number_of_active_users\": 1586}, {\"dt\": \"2021-10-09\", \"activity_level\": 9, \"number_of_active_users\": 1595}, {\"dt\": \"2021-10-09\", \"activity_level\": 10, \"number_of_active_users\": 1563}, {\"dt\": \"2021-10-09\", \"activity_level\": 11, \"number_of_active_users\": 1573}, {\"dt\": \"2021-10-09\", \"activity_level\": 12, \"number_of_active_users\": 1497}, {\"dt\": \"2021-10-09\", \"activity_level\": 13, \"number_of_active_users\": 1623}, {\"dt\": \"2021-10-09\", \"activity_level\": 14, \"number_of_active_users\": 1567}, {\"dt\": \"2021-10-09\", \"activity_level\": 15, \"number_of_active_users\": 1566}, {\"dt\": \"2021-10-09\", \"activity_level\": 16, \"number_of_active_users\": 1607}, {\"dt\": \"2021-10-09\", \"activity_level\": 17, \"number_of_active_users\": 1565}, {\"dt\": \"2021-10-09\", \"activity_level\": 18, \"number_of_active_users\": 1641}, {\"dt\": \"2021-10-09\", \"activity_level\": 19, \"number_of_active_users\": 1577}, {\"dt\": \"2021-10-09\", \"activity_level\": 20, \"number_of_active_users\": 813}, {\"dt\": \"2021-10-10\", \"activity_level\": 1, \"number_of_active_users\": 1605}, {\"dt\": \"2021-10-10\", \"activity_level\": 2, \"number_of_active_users\": 1485}, {\"dt\": \"2021-10-10\", \"activity_level\": 3, \"number_of_active_users\": 1586}, {\"dt\": \"2021-10-10\", \"activity_level\": 4, \"number_of_active_users\": 1534}, {\"dt\": \"2021-10-10\", \"activity_level\": 5, \"number_of_active_users\": 1603}, {\"dt\": \"2021-10-10\", \"activity_level\": 6, \"number_of_active_users\": 1576}, {\"dt\": \"2021-10-10\", \"activity_level\": 7, \"number_of_active_users\": 1554}, {\"dt\": \"2021-10-10\", \"activity_level\": 8, \"number_of_active_users\": 1527}, {\"dt\": \"2021-10-10\", \"activity_level\": 9, \"number_of_active_users\": 1535}, {\"dt\": \"2021-10-10\", \"activity_level\": 10, \"number_of_active_users\": 1548}, {\"dt\": \"2021-10-10\", \"activity_level\": 11, \"number_of_active_users\": 1635}, {\"dt\": \"2021-10-10\", \"activity_level\": 12, \"number_of_active_users\": 1558}, {\"dt\": \"2021-10-10\", \"activity_level\": 13, \"number_of_active_users\": 1584}, {\"dt\": \"2021-10-10\", \"activity_level\": 14, \"number_of_active_users\": 1544}, {\"dt\": \"2021-10-10\", \"activity_level\": 15, \"number_of_active_users\": 1578}, {\"dt\": \"2021-10-10\", \"activity_level\": 16, \"number_of_active_users\": 1627}, {\"dt\": \"2021-10-10\", \"activity_level\": 17, \"number_of_active_users\": 1579}, {\"dt\": \"2021-10-10\", \"activity_level\": 18, \"number_of_active_users\": 1568}, {\"dt\": \"2021-10-10\", \"activity_level\": 19, \"number_of_active_users\": 1555}, {\"dt\": \"2021-10-10\", \"activity_level\": 20, \"number_of_active_users\": 800}, {\"dt\": \"2021-10-11\", \"activity_level\": 1, \"number_of_active_users\": 1582}, {\"dt\": \"2021-10-11\", \"activity_level\": 2, \"number_of_active_users\": 1564}, {\"dt\": \"2021-10-11\", \"activity_level\": 3, \"number_of_active_users\": 1529}, {\"dt\": \"2021-10-11\", \"activity_level\": 4, \"number_of_active_users\": 1568}, {\"dt\": \"2021-10-11\", \"activity_level\": 5, \"number_of_active_users\": 1686}, {\"dt\": \"2021-10-11\", \"activity_level\": 6, \"number_of_active_users\": 1559}, {\"dt\": \"2021-10-11\", \"activity_level\": 7, \"number_of_active_users\": 1588}, {\"dt\": \"2021-10-11\", \"activity_level\": 8, \"number_of_active_users\": 1544}, {\"dt\": \"2021-10-11\", \"activity_level\": 9, \"number_of_active_users\": 1535}, {\"dt\": \"2021-10-11\", \"activity_level\": 10, \"number_of_active_users\": 1588}, {\"dt\": \"2021-10-11\", \"activity_level\": 11, \"number_of_active_users\": 1533}, {\"dt\": \"2021-10-11\", \"activity_level\": 12, \"number_of_active_users\": 1550}, {\"dt\": \"2021-10-11\", \"activity_level\": 13, \"number_of_active_users\": 1526}, {\"dt\": \"2021-10-11\", \"activity_level\": 14, \"number_of_active_users\": 1630}, {\"dt\": \"2021-10-11\", \"activity_level\": 15, \"number_of_active_users\": 1543}, {\"dt\": \"2021-10-11\", \"activity_level\": 16, \"number_of_active_users\": 1620}, {\"dt\": \"2021-10-11\", \"activity_level\": 17, \"number_of_active_users\": 1531}, {\"dt\": \"2021-10-11\", \"activity_level\": 18, \"number_of_active_users\": 1504}, {\"dt\": \"2021-10-11\", \"activity_level\": 19, \"number_of_active_users\": 1571}, {\"dt\": \"2021-10-11\", \"activity_level\": 20, \"number_of_active_users\": 738}, {\"dt\": \"2021-10-12\", \"activity_level\": 1, \"number_of_active_users\": 1546}, {\"dt\": \"2021-10-12\", \"activity_level\": 2, \"number_of_active_users\": 1628}, {\"dt\": \"2021-10-12\", \"activity_level\": 3, \"number_of_active_users\": 1555}, {\"dt\": \"2021-10-12\", \"activity_level\": 4, \"number_of_active_users\": 1612}, {\"dt\": \"2021-10-12\", \"activity_level\": 5, \"number_of_active_users\": 1614}, {\"dt\": \"2021-10-12\", \"activity_level\": 6, \"number_of_active_users\": 1528}, {\"dt\": \"2021-10-12\", \"activity_level\": 7, \"number_of_active_users\": 1519}, {\"dt\": \"2021-10-12\", \"activity_level\": 8, \"number_of_active_users\": 1513}, {\"dt\": \"2021-10-12\", \"activity_level\": 9, \"number_of_active_users\": 1527}, {\"dt\": \"2021-10-12\", \"activity_level\": 10, \"number_of_active_users\": 1634}, {\"dt\": \"2021-10-12\", \"activity_level\": 11, \"number_of_active_users\": 1542}, {\"dt\": \"2021-10-12\", \"activity_level\": 12, \"number_of_active_users\": 1628}, {\"dt\": \"2021-10-12\", \"activity_level\": 13, \"number_of_active_users\": 1619}, {\"dt\": \"2021-10-12\", \"activity_level\": 14, \"number_of_active_users\": 1606}, {\"dt\": \"2021-10-12\", \"activity_level\": 15, \"number_of_active_users\": 1560}, {\"dt\": \"2021-10-12\", \"activity_level\": 16, \"number_of_active_users\": 1630}, {\"dt\": \"2021-10-12\", \"activity_level\": 17, \"number_of_active_users\": 1554}, {\"dt\": \"2021-10-12\", \"activity_level\": 18, \"number_of_active_users\": 1535}, {\"dt\": \"2021-10-12\", \"activity_level\": 19, \"number_of_active_users\": 1595}, {\"dt\": \"2021-10-12\", \"activity_level\": 20, \"number_of_active_users\": 770}, {\"dt\": \"2021-10-13\", \"activity_level\": 1, \"number_of_active_users\": 1591}, {\"dt\": \"2021-10-13\", \"activity_level\": 2, \"number_of_active_users\": 1487}, {\"dt\": \"2021-10-13\", \"activity_level\": 3, \"number_of_active_users\": 1536}, {\"dt\": \"2021-10-13\", \"activity_level\": 4, \"number_of_active_users\": 1602}, {\"dt\": \"2021-10-13\", \"activity_level\": 5, \"number_of_active_users\": 1675}, {\"dt\": \"2021-10-13\", \"activity_level\": 6, \"number_of_active_users\": 1590}, {\"dt\": \"2021-10-13\", \"activity_level\": 7, \"number_of_active_users\": 1539}, {\"dt\": \"2021-10-13\", \"activity_level\": 8, \"number_of_active_users\": 1529}, {\"dt\": \"2021-10-13\", \"activity_level\": 9, \"number_of_active_users\": 1603}, {\"dt\": \"2021-10-13\", \"activity_level\": 10, \"number_of_active_users\": 1622}, {\"dt\": \"2021-10-13\", \"activity_level\": 11, \"number_of_active_users\": 1574}, {\"dt\": \"2021-10-13\", \"activity_level\": 12, \"number_of_active_users\": 1600}, {\"dt\": \"2021-10-13\", \"activity_level\": 13, \"number_of_active_users\": 1572}, {\"dt\": \"2021-10-13\", \"activity_level\": 14, \"number_of_active_users\": 1573}, {\"dt\": \"2021-10-13\", \"activity_level\": 15, \"number_of_active_users\": 1612}, {\"dt\": \"2021-10-13\", \"activity_level\": 16, \"number_of_active_users\": 1521}, {\"dt\": \"2021-10-13\", \"activity_level\": 17, \"number_of_active_users\": 1553}, {\"dt\": \"2021-10-13\", \"activity_level\": 18, \"number_of_active_users\": 1556}, {\"dt\": \"2021-10-13\", \"activity_level\": 19, \"number_of_active_users\": 1620}, {\"dt\": \"2021-10-13\", \"activity_level\": 20, \"number_of_active_users\": 806}, {\"dt\": \"2021-10-14\", \"activity_level\": 1, \"number_of_active_users\": 1542}, {\"dt\": \"2021-10-14\", \"activity_level\": 2, \"number_of_active_users\": 1665}, {\"dt\": \"2021-10-14\", \"activity_level\": 3, \"number_of_active_users\": 1563}, {\"dt\": \"2021-10-14\", \"activity_level\": 4, \"number_of_active_users\": 1550}, {\"dt\": \"2021-10-14\", \"activity_level\": 5, \"number_of_active_users\": 1604}, {\"dt\": \"2021-10-14\", \"activity_level\": 6, \"number_of_active_users\": 1644}, {\"dt\": \"2021-10-14\", \"activity_level\": 7, \"number_of_active_users\": 1622}, {\"dt\": \"2021-10-14\", \"activity_level\": 8, \"number_of_active_users\": 1641}, {\"dt\": \"2021-10-14\", \"activity_level\": 9, \"number_of_active_users\": 1578}, {\"dt\": \"2021-10-14\", \"activity_level\": 10, \"number_of_active_users\": 1625}, {\"dt\": \"2021-10-14\", \"activity_level\": 11, \"number_of_active_users\": 1544}, {\"dt\": \"2021-10-14\", \"activity_level\": 12, \"number_of_active_users\": 1525}, {\"dt\": \"2021-10-14\", \"activity_level\": 13, \"number_of_active_users\": 1493}, {\"dt\": \"2021-10-14\", \"activity_level\": 14, \"number_of_active_users\": 1627}, {\"dt\": \"2021-10-14\", \"activity_level\": 15, \"number_of_active_users\": 1590}, {\"dt\": \"2021-10-14\", \"activity_level\": 16, \"number_of_active_users\": 1537}, {\"dt\": \"2021-10-14\", \"activity_level\": 17, \"number_of_active_users\": 1514}, {\"dt\": \"2021-10-14\", \"activity_level\": 18, \"number_of_active_users\": 1548}, {\"dt\": \"2021-10-14\", \"activity_level\": 19, \"number_of_active_users\": 1548}, {\"dt\": \"2021-10-14\", \"activity_level\": 20, \"number_of_active_users\": 756}, {\"dt\": \"2021-10-15\", \"activity_level\": 1, \"number_of_active_users\": 1528}, {\"dt\": \"2021-10-15\", \"activity_level\": 2, \"number_of_active_users\": 1586}, {\"dt\": \"2021-10-15\", \"activity_level\": 3, \"number_of_active_users\": 1620}, {\"dt\": \"2021-10-15\", \"activity_level\": 4, \"number_of_active_users\": 1556}, {\"dt\": \"2021-10-15\", \"activity_level\": 5, \"number_of_active_users\": 1549}, {\"dt\": \"2021-10-15\", \"activity_level\": 6, \"number_of_active_users\": 1567}, {\"dt\": \"2021-10-15\", \"activity_level\": 7, \"number_of_active_users\": 1553}, {\"dt\": \"2021-10-15\", \"activity_level\": 8, \"number_of_active_users\": 1601}, {\"dt\": \"2021-10-15\", \"activity_level\": 9, \"number_of_active_users\": 1612}, {\"dt\": \"2021-10-15\", \"activity_level\": 10, \"number_of_active_users\": 1495}, {\"dt\": \"2021-10-15\", \"activity_level\": 11, \"number_of_active_users\": 1612}, {\"dt\": \"2021-10-15\", \"activity_level\": 12, \"number_of_active_users\": 1493}, {\"dt\": \"2021-10-15\", \"activity_level\": 13, \"number_of_active_users\": 1574}, {\"dt\": \"2021-10-15\", \"activity_level\": 14, \"number_of_active_users\": 1599}, {\"dt\": \"2021-10-15\", \"activity_level\": 15, \"number_of_active_users\": 1622}, {\"dt\": \"2021-10-15\", \"activity_level\": 16, \"number_of_active_users\": 1521}, {\"dt\": \"2021-10-15\", \"activity_level\": 17, \"number_of_active_users\": 1547}, {\"dt\": \"2021-10-15\", \"activity_level\": 18, \"number_of_active_users\": 1624}, {\"dt\": \"2021-10-15\", \"activity_level\": 19, \"number_of_active_users\": 1583}, {\"dt\": \"2021-10-15\", \"activity_level\": 20, \"number_of_active_users\": 795}, {\"dt\": \"2021-10-16\", \"activity_level\": 1, \"number_of_active_users\": 1585}, {\"dt\": \"2021-10-16\", \"activity_level\": 2, \"number_of_active_users\": 1609}, {\"dt\": \"2021-10-16\", \"activity_level\": 3, \"number_of_active_users\": 1575}, {\"dt\": \"2021-10-16\", \"activity_level\": 4, \"number_of_active_users\": 1577}, {\"dt\": \"2021-10-16\", \"activity_level\": 5, \"number_of_active_users\": 1529}, {\"dt\": \"2021-10-16\", \"activity_level\": 6, \"number_of_active_users\": 1573}, {\"dt\": \"2021-10-16\", \"activity_level\": 7, \"number_of_active_users\": 1514}, {\"dt\": \"2021-10-16\", \"activity_level\": 8, \"number_of_active_users\": 1572}, {\"dt\": \"2021-10-16\", \"activity_level\": 9, \"number_of_active_users\": 1599}, {\"dt\": \"2021-10-16\", \"activity_level\": 10, \"number_of_active_users\": 1590}, {\"dt\": \"2021-10-16\", \"activity_level\": 11, \"number_of_active_users\": 1613}, {\"dt\": \"2021-10-16\", \"activity_level\": 12, \"number_of_active_users\": 1616}, {\"dt\": \"2021-10-16\", \"activity_level\": 13, \"number_of_active_users\": 1550}, {\"dt\": \"2021-10-16\", \"activity_level\": 14, \"number_of_active_users\": 1560}, {\"dt\": \"2021-10-16\", \"activity_level\": 15, \"number_of_active_users\": 1562}, {\"dt\": \"2021-10-16\", \"activity_level\": 16, \"number_of_active_users\": 1565}, {\"dt\": \"2021-10-16\", \"activity_level\": 17, \"number_of_active_users\": 1537}, {\"dt\": \"2021-10-16\", \"activity_level\": 18, \"number_of_active_users\": 1578}, {\"dt\": \"2021-10-16\", \"activity_level\": 19, \"number_of_active_users\": 1614}, {\"dt\": \"2021-10-16\", \"activity_level\": 20, \"number_of_active_users\": 790}, {\"dt\": \"2021-10-17\", \"activity_level\": 1, \"number_of_active_users\": 1572}, {\"dt\": \"2021-10-17\", \"activity_level\": 2, \"number_of_active_users\": 1639}, {\"dt\": \"2021-10-17\", \"activity_level\": 3, \"number_of_active_users\": 1570}, {\"dt\": \"2021-10-17\", \"activity_level\": 4, \"number_of_active_users\": 1525}, {\"dt\": \"2021-10-17\", \"activity_level\": 5, \"number_of_active_users\": 1626}, {\"dt\": \"2021-10-17\", \"activity_level\": 6, \"number_of_active_users\": 1565}, {\"dt\": \"2021-10-17\", \"activity_level\": 7, \"number_of_active_users\": 1603}, {\"dt\": \"2021-10-17\", \"activity_level\": 8, \"number_of_active_users\": 1550}, {\"dt\": \"2021-10-17\", \"activity_level\": 9, \"number_of_active_users\": 1593}, {\"dt\": \"2021-10-17\", \"activity_level\": 10, \"number_of_active_users\": 1581}, {\"dt\": \"2021-10-17\", \"activity_level\": 11, \"number_of_active_users\": 1557}, {\"dt\": \"2021-10-17\", \"activity_level\": 12, \"number_of_active_users\": 1528}, {\"dt\": \"2021-10-17\", \"activity_level\": 13, \"number_of_active_users\": 1530}, {\"dt\": \"2021-10-17\", \"activity_level\": 14, \"number_of_active_users\": 1568}, {\"dt\": \"2021-10-17\", \"activity_level\": 15, \"number_of_active_users\": 1548}, {\"dt\": \"2021-10-17\", \"activity_level\": 16, \"number_of_active_users\": 1635}, {\"dt\": \"2021-10-17\", \"activity_level\": 17, \"number_of_active_users\": 1572}, {\"dt\": \"2021-10-17\", \"activity_level\": 18, \"number_of_active_users\": 1606}, {\"dt\": \"2021-10-17\", \"activity_level\": 19, \"number_of_active_users\": 1535}, {\"dt\": \"2021-10-17\", \"activity_level\": 20, \"number_of_active_users\": 838}, {\"dt\": \"2021-10-18\", \"activity_level\": 1, \"number_of_active_users\": 1573}, {\"dt\": \"2021-10-18\", \"activity_level\": 2, \"number_of_active_users\": 1643}, {\"dt\": \"2021-10-18\", \"activity_level\": 3, \"number_of_active_users\": 1596}, {\"dt\": \"2021-10-18\", \"activity_level\": 4, \"number_of_active_users\": 1565}, {\"dt\": \"2021-10-18\", \"activity_level\": 5, \"number_of_active_users\": 1580}, {\"dt\": \"2021-10-18\", \"activity_level\": 6, \"number_of_active_users\": 1584}, {\"dt\": \"2021-10-18\", \"activity_level\": 7, \"number_of_active_users\": 1566}, {\"dt\": \"2021-10-18\", \"activity_level\": 8, \"number_of_active_users\": 1594}, {\"dt\": \"2021-10-18\", \"activity_level\": 9, \"number_of_active_users\": 1589}, {\"dt\": \"2021-10-18\", \"activity_level\": 10, \"number_of_active_users\": 1542}, {\"dt\": \"2021-10-18\", \"activity_level\": 11, \"number_of_active_users\": 1608}, {\"dt\": \"2021-10-18\", \"activity_level\": 12, \"number_of_active_users\": 1559}, {\"dt\": \"2021-10-18\", \"activity_level\": 13, \"number_of_active_users\": 1508}, {\"dt\": \"2021-10-18\", \"activity_level\": 14, \"number_of_active_users\": 1515}, {\"dt\": \"2021-10-18\", \"activity_level\": 15, \"number_of_active_users\": 1526}, {\"dt\": \"2021-10-18\", \"activity_level\": 16, \"number_of_active_users\": 1536}, {\"dt\": \"2021-10-18\", \"activity_level\": 17, \"number_of_active_users\": 1613}, {\"dt\": \"2021-10-18\", \"activity_level\": 18, \"number_of_active_users\": 1626}, {\"dt\": \"2021-10-18\", \"activity_level\": 19, \"number_of_active_users\": 1591}, {\"dt\": \"2021-10-18\", \"activity_level\": 20, \"number_of_active_users\": 780}, {\"dt\": \"2021-10-19\", \"activity_level\": 1, \"number_of_active_users\": 1620}, {\"dt\": \"2021-10-19\", \"activity_level\": 2, \"number_of_active_users\": 1561}, {\"dt\": \"2021-10-19\", \"activity_level\": 3, \"number_of_active_users\": 1579}, {\"dt\": \"2021-10-19\", \"activity_level\": 4, \"number_of_active_users\": 1630}, {\"dt\": \"2021-10-19\", \"activity_level\": 5, \"number_of_active_users\": 1571}, {\"dt\": \"2021-10-19\", \"activity_level\": 6, \"number_of_active_users\": 1569}, {\"dt\": \"2021-10-19\", \"activity_level\": 7, \"number_of_active_users\": 1515}, {\"dt\": \"2021-10-19\", \"activity_level\": 8, \"number_of_active_users\": 1588}, {\"dt\": \"2021-10-19\", \"activity_level\": 9, \"number_of_active_users\": 1547}, {\"dt\": \"2021-10-19\", \"activity_level\": 10, \"number_of_active_users\": 1606}, {\"dt\": \"2021-10-19\", \"activity_level\": 11, \"number_of_active_users\": 1594}, {\"dt\": \"2021-10-19\", \"activity_level\": 12, \"number_of_active_users\": 1553}, {\"dt\": \"2021-10-19\", \"activity_level\": 13, \"number_of_active_users\": 1509}, {\"dt\": \"2021-10-19\", \"activity_level\": 14, \"number_of_active_users\": 1550}, {\"dt\": \"2021-10-19\", \"activity_level\": 15, \"number_of_active_users\": 1564}, {\"dt\": \"2021-10-19\", \"activity_level\": 16, \"number_of_active_users\": 1532}, {\"dt\": \"2021-10-19\", \"activity_level\": 17, \"number_of_active_users\": 1541}, {\"dt\": \"2021-10-19\", \"activity_level\": 18, \"number_of_active_users\": 1606}, {\"dt\": \"2021-10-19\", \"activity_level\": 19, \"number_of_active_users\": 1532}, {\"dt\": \"2021-10-19\", \"activity_level\": 20, \"number_of_active_users\": 820}, {\"dt\": \"2021-10-20\", \"activity_level\": 1, \"number_of_active_users\": 1545}, {\"dt\": \"2021-10-20\", \"activity_level\": 2, \"number_of_active_users\": 1650}, {\"dt\": \"2021-10-20\", \"activity_level\": 3, \"number_of_active_users\": 1644}, {\"dt\": \"2021-10-20\", \"activity_level\": 4, \"number_of_active_users\": 1572}, {\"dt\": \"2021-10-20\", \"activity_level\": 5, \"number_of_active_users\": 1597}, {\"dt\": \"2021-10-20\", \"activity_level\": 6, \"number_of_active_users\": 1570}, {\"dt\": \"2021-10-20\", \"activity_level\": 7, \"number_of_active_users\": 1578}, {\"dt\": \"2021-10-20\", \"activity_level\": 8, \"number_of_active_users\": 1482}, {\"dt\": \"2021-10-20\", \"activity_level\": 9, \"number_of_active_users\": 1629}, {\"dt\": \"2021-10-20\", \"activity_level\": 10, \"number_of_active_users\": 1531}, {\"dt\": \"2021-10-20\", \"activity_level\": 11, \"number_of_active_users\": 1576}, {\"dt\": \"2021-10-20\", \"activity_level\": 12, \"number_of_active_users\": 1615}, {\"dt\": \"2021-10-20\", \"activity_level\": 13, \"number_of_active_users\": 1608}, {\"dt\": \"2021-10-20\", \"activity_level\": 14, \"number_of_active_users\": 1535}, {\"dt\": \"2021-10-20\", \"activity_level\": 15, \"number_of_active_users\": 1573}, {\"dt\": \"2021-10-20\", \"activity_level\": 16, \"number_of_active_users\": 1577}, {\"dt\": \"2021-10-20\", \"activity_level\": 17, \"number_of_active_users\": 1576}, {\"dt\": \"2021-10-20\", \"activity_level\": 18, \"number_of_active_users\": 1596}, {\"dt\": \"2021-10-20\", \"activity_level\": 19, \"number_of_active_users\": 1567}, {\"dt\": \"2021-10-20\", \"activity_level\": 20, \"number_of_active_users\": 774}, {\"dt\": \"2021-10-21\", \"activity_level\": 1, \"number_of_active_users\": 1564}, {\"dt\": \"2021-10-21\", \"activity_level\": 2, \"number_of_active_users\": 1548}, {\"dt\": \"2021-10-21\", \"activity_level\": 3, \"number_of_active_users\": 1588}, {\"dt\": \"2021-10-21\", \"activity_level\": 4, \"number_of_active_users\": 1552}, {\"dt\": \"2021-10-21\", \"activity_level\": 5, \"number_of_active_users\": 1510}, {\"dt\": \"2021-10-21\", \"activity_level\": 6, \"number_of_active_users\": 1582}, {\"dt\": \"2021-10-21\", \"activity_level\": 7, \"number_of_active_users\": 1530}, {\"dt\": \"2021-10-21\", \"activity_level\": 8, \"number_of_active_users\": 1581}, {\"dt\": \"2021-10-21\", \"activity_level\": 9, \"number_of_active_users\": 1599}, {\"dt\": \"2021-10-21\", \"activity_level\": 10, \"number_of_active_users\": 1627}, {\"dt\": \"2021-10-21\", \"activity_level\": 11, \"number_of_active_users\": 1659}, {\"dt\": \"2021-10-21\", \"activity_level\": 12, \"number_of_active_users\": 1602}, {\"dt\": \"2021-10-21\", \"activity_level\": 13, \"number_of_active_users\": 1569}, {\"dt\": \"2021-10-21\", \"activity_level\": 14, \"number_of_active_users\": 1577}, {\"dt\": \"2021-10-21\", \"activity_level\": 15, \"number_of_active_users\": 1605}, {\"dt\": \"2021-10-21\", \"activity_level\": 16, \"number_of_active_users\": 1549}, {\"dt\": \"2021-10-21\", \"activity_level\": 17, \"number_of_active_users\": 1552}, {\"dt\": \"2021-10-21\", \"activity_level\": 18, \"number_of_active_users\": 1551}, {\"dt\": \"2021-10-21\", \"activity_level\": 19, \"number_of_active_users\": 1585}, {\"dt\": \"2021-10-21\", \"activity_level\": 20, \"number_of_active_users\": 775}, {\"dt\": \"2021-10-22\", \"activity_level\": 1, \"number_of_active_users\": 1609}, {\"dt\": \"2021-10-22\", \"activity_level\": 2, \"number_of_active_users\": 1523}, {\"dt\": \"2021-10-22\", \"activity_level\": 3, \"number_of_active_users\": 1572}, {\"dt\": \"2021-10-22\", \"activity_level\": 4, \"number_of_active_users\": 1526}, {\"dt\": \"2021-10-22\", \"activity_level\": 5, \"number_of_active_users\": 1584}, {\"dt\": \"2021-10-22\", \"activity_level\": 6, \"number_of_active_users\": 1532}, {\"dt\": \"2021-10-22\", \"activity_level\": 7, \"number_of_active_users\": 1583}, {\"dt\": \"2021-10-22\", \"activity_level\": 8, \"number_of_active_users\": 1559}, {\"dt\": \"2021-10-22\", \"activity_level\": 9, \"number_of_active_users\": 1559}, {\"dt\": \"2021-10-22\", \"activity_level\": 10, \"number_of_active_users\": 1572}, {\"dt\": \"2021-10-22\", \"activity_level\": 11, \"number_of_active_users\": 1506}, {\"dt\": \"2021-10-22\", \"activity_level\": 12, \"number_of_active_users\": 1519}, {\"dt\": \"2021-10-22\", \"activity_level\": 13, \"number_of_active_users\": 1637}, {\"dt\": \"2021-10-22\", \"activity_level\": 14, \"number_of_active_users\": 1549}, {\"dt\": \"2021-10-22\", \"activity_level\": 15, \"number_of_active_users\": 1523}, {\"dt\": \"2021-10-22\", \"activity_level\": 16, \"number_of_active_users\": 1601}, {\"dt\": \"2021-10-22\", \"activity_level\": 17, \"number_of_active_users\": 1622}, {\"dt\": \"2021-10-22\", \"activity_level\": 18, \"number_of_active_users\": 1567}, {\"dt\": \"2021-10-22\", \"activity_level\": 19, \"number_of_active_users\": 1638}, {\"dt\": \"2021-10-22\", \"activity_level\": 20, \"number_of_active_users\": 792}, {\"dt\": \"2021-10-23\", \"activity_level\": 1, \"number_of_active_users\": 1567}, {\"dt\": \"2021-10-23\", \"activity_level\": 2, \"number_of_active_users\": 1524}, {\"dt\": \"2021-10-23\", \"activity_level\": 3, \"number_of_active_users\": 1572}, {\"dt\": \"2021-10-23\", \"activity_level\": 4, \"number_of_active_users\": 1567}, {\"dt\": \"2021-10-23\", \"activity_level\": 5, \"number_of_active_users\": 1560}, {\"dt\": \"2021-10-23\", \"activity_level\": 6, \"number_of_active_users\": 1558}, {\"dt\": \"2021-10-23\", \"activity_level\": 7, \"number_of_active_users\": 1552}, {\"dt\": \"2021-10-23\", \"activity_level\": 8, \"number_of_active_users\": 1535}, {\"dt\": \"2021-10-23\", \"activity_level\": 9, \"number_of_active_users\": 1617}, {\"dt\": \"2021-10-23\", \"activity_level\": 10, \"number_of_active_users\": 1605}, {\"dt\": \"2021-10-23\", \"activity_level\": 11, \"number_of_active_users\": 1526}, {\"dt\": \"2021-10-23\", \"activity_level\": 12, \"number_of_active_users\": 1612}, {\"dt\": \"2021-10-23\", \"activity_level\": 13, \"number_of_active_users\": 1544}, {\"dt\": \"2021-10-23\", \"activity_level\": 14, \"number_of_active_users\": 1631}, {\"dt\": \"2021-10-23\", \"activity_level\": 15, \"number_of_active_users\": 1561}, {\"dt\": \"2021-10-23\", \"activity_level\": 16, \"number_of_active_users\": 1597}, {\"dt\": \"2021-10-23\", \"activity_level\": 17, \"number_of_active_users\": 1562}, {\"dt\": \"2021-10-23\", \"activity_level\": 18, \"number_of_active_users\": 1616}, {\"dt\": \"2021-10-23\", \"activity_level\": 19, \"number_of_active_users\": 1548}, {\"dt\": \"2021-10-23\", \"activity_level\": 20, \"number_of_active_users\": 791}, {\"dt\": \"2021-10-24\", \"activity_level\": 1, \"number_of_active_users\": 1572}, {\"dt\": \"2021-10-24\", \"activity_level\": 2, \"number_of_active_users\": 1632}, {\"dt\": \"2021-10-24\", \"activity_level\": 3, \"number_of_active_users\": 1586}, {\"dt\": \"2021-10-24\", \"activity_level\": 4, \"number_of_active_users\": 1524}, {\"dt\": \"2021-10-24\", \"activity_level\": 5, \"number_of_active_users\": 1616}, {\"dt\": \"2021-10-24\", \"activity_level\": 6, \"number_of_active_users\": 1519}, {\"dt\": \"2021-10-24\", \"activity_level\": 7, \"number_of_active_users\": 1554}, {\"dt\": \"2021-10-24\", \"activity_level\": 8, \"number_of_active_users\": 1562}, {\"dt\": \"2021-10-24\", \"activity_level\": 9, \"number_of_active_users\": 1550}, {\"dt\": \"2021-10-24\", \"activity_level\": 10, \"number_of_active_users\": 1559}, {\"dt\": \"2021-10-24\", \"activity_level\": 11, \"number_of_active_users\": 1657}, {\"dt\": \"2021-10-24\", \"activity_level\": 12, \"number_of_active_users\": 1638}, {\"dt\": \"2021-10-24\", \"activity_level\": 13, \"number_of_active_users\": 1581}, {\"dt\": \"2021-10-24\", \"activity_level\": 14, \"number_of_active_users\": 1576}, {\"dt\": \"2021-10-24\", \"activity_level\": 15, \"number_of_active_users\": 1564}, {\"dt\": \"2021-10-24\", \"activity_level\": 16, \"number_of_active_users\": 1651}, {\"dt\": \"2021-10-24\", \"activity_level\": 17, \"number_of_active_users\": 1560}, {\"dt\": \"2021-10-24\", \"activity_level\": 18, \"number_of_active_users\": 1564}, {\"dt\": \"2021-10-24\", \"activity_level\": 19, \"number_of_active_users\": 1572}, {\"dt\": \"2021-10-24\", \"activity_level\": 20, \"number_of_active_users\": 778}, {\"dt\": \"2021-10-25\", \"activity_level\": 1, \"number_of_active_users\": 1544}, {\"dt\": \"2021-10-25\", \"activity_level\": 2, \"number_of_active_users\": 1593}, {\"dt\": \"2021-10-25\", \"activity_level\": 3, \"number_of_active_users\": 1601}, {\"dt\": \"2021-10-25\", \"activity_level\": 4, \"number_of_active_users\": 1564}, {\"dt\": \"2021-10-25\", \"activity_level\": 5, \"number_of_active_users\": 1520}, {\"dt\": \"2021-10-25\", \"activity_level\": 6, \"number_of_active_users\": 1531}, {\"dt\": \"2021-10-25\", \"activity_level\": 7, \"number_of_active_users\": 1506}, {\"dt\": \"2021-10-25\", \"activity_level\": 8, \"number_of_active_users\": 1583}, {\"dt\": \"2021-10-25\", \"activity_level\": 9, \"number_of_active_users\": 1540}, {\"dt\": \"2021-10-25\", \"activity_level\": 10, \"number_of_active_users\": 1589}, {\"dt\": \"2021-10-25\", \"activity_level\": 11, \"number_of_active_users\": 1537}, {\"dt\": \"2021-10-25\", \"activity_level\": 12, \"number_of_active_users\": 1610}, {\"dt\": \"2021-10-25\", \"activity_level\": 13, \"number_of_active_users\": 1561}, {\"dt\": \"2021-10-25\", \"activity_level\": 14, \"number_of_active_users\": 1549}, {\"dt\": \"2021-10-25\", \"activity_level\": 15, \"number_of_active_users\": 1527}, {\"dt\": \"2021-10-25\", \"activity_level\": 16, \"number_of_active_users\": 1561}, {\"dt\": \"2021-10-25\", \"activity_level\": 17, \"number_of_active_users\": 1625}, {\"dt\": \"2021-10-25\", \"activity_level\": 18, \"number_of_active_users\": 1600}, {\"dt\": \"2021-10-25\", \"activity_level\": 19, \"number_of_active_users\": 1629}, {\"dt\": \"2021-10-25\", \"activity_level\": 20, \"number_of_active_users\": 846}, {\"dt\": \"2021-10-26\", \"activity_level\": 1, \"number_of_active_users\": 1554}, {\"dt\": \"2021-10-26\", \"activity_level\": 2, \"number_of_active_users\": 1644}, {\"dt\": \"2021-10-26\", \"activity_level\": 3, \"number_of_active_users\": 1543}, {\"dt\": \"2021-10-26\", \"activity_level\": 4, \"number_of_active_users\": 1523}, {\"dt\": \"2021-10-26\", \"activity_level\": 5, \"number_of_active_users\": 1607}, {\"dt\": \"2021-10-26\", \"activity_level\": 6, \"number_of_active_users\": 1615}, {\"dt\": \"2021-10-26\", \"activity_level\": 7, \"number_of_active_users\": 1575}, {\"dt\": \"2021-10-26\", \"activity_level\": 8, \"number_of_active_users\": 1588}, {\"dt\": \"2021-10-26\", \"activity_level\": 9, \"number_of_active_users\": 1534}, {\"dt\": \"2021-10-26\", \"activity_level\": 10, \"number_of_active_users\": 1545}, {\"dt\": \"2021-10-26\", \"activity_level\": 11, \"number_of_active_users\": 1584}, {\"dt\": \"2021-10-26\", \"activity_level\": 12, \"number_of_active_users\": 1520}, {\"dt\": \"2021-10-26\", \"activity_level\": 13, \"number_of_active_users\": 1564}, {\"dt\": \"2021-10-26\", \"activity_level\": 14, \"number_of_active_users\": 1563}, {\"dt\": \"2021-10-26\", \"activity_level\": 15, \"number_of_active_users\": 1633}, {\"dt\": \"2021-10-26\", \"activity_level\": 16, \"number_of_active_users\": 1603}, {\"dt\": \"2021-10-26\", \"activity_level\": 17, \"number_of_active_users\": 1557}, {\"dt\": \"2021-10-26\", \"activity_level\": 18, \"number_of_active_users\": 1592}, {\"dt\": \"2021-10-26\", \"activity_level\": 19, \"number_of_active_users\": 1545}, {\"dt\": \"2021-10-26\", \"activity_level\": 20, \"number_of_active_users\": 784}, {\"dt\": \"2021-10-27\", \"activity_level\": 1, \"number_of_active_users\": 1560}, {\"dt\": \"2021-10-27\", \"activity_level\": 2, \"number_of_active_users\": 1504}, {\"dt\": \"2021-10-27\", \"activity_level\": 3, \"number_of_active_users\": 1561}, {\"dt\": \"2021-10-27\", \"activity_level\": 4, \"number_of_active_users\": 1629}, {\"dt\": \"2021-10-27\", \"activity_level\": 5, \"number_of_active_users\": 1588}, {\"dt\": \"2021-10-27\", \"activity_level\": 6, \"number_of_active_users\": 1644}, {\"dt\": \"2021-10-27\", \"activity_level\": 7, \"number_of_active_users\": 1527}, {\"dt\": \"2021-10-27\", \"activity_level\": 8, \"number_of_active_users\": 1569}, {\"dt\": \"2021-10-27\", \"activity_level\": 9, \"number_of_active_users\": 1452}, {\"dt\": \"2021-10-27\", \"activity_level\": 10, \"number_of_active_users\": 1576}, {\"dt\": \"2021-10-27\", \"activity_level\": 11, \"number_of_active_users\": 1628}, {\"dt\": \"2021-10-27\", \"activity_level\": 12, \"number_of_active_users\": 1547}, {\"dt\": \"2021-10-27\", \"activity_level\": 13, \"number_of_active_users\": 1532}, {\"dt\": \"2021-10-27\", \"activity_level\": 14, \"number_of_active_users\": 1593}, {\"dt\": \"2021-10-27\", \"activity_level\": 15, \"number_of_active_users\": 1513}, {\"dt\": \"2021-10-27\", \"activity_level\": 16, \"number_of_active_users\": 1575}, {\"dt\": \"2021-10-27\", \"activity_level\": 17, \"number_of_active_users\": 1652}, {\"dt\": \"2021-10-27\", \"activity_level\": 18, \"number_of_active_users\": 1651}, {\"dt\": \"2021-10-27\", \"activity_level\": 19, \"number_of_active_users\": 1550}, {\"dt\": \"2021-10-27\", \"activity_level\": 20, \"number_of_active_users\": 810}, {\"dt\": \"2021-10-28\", \"activity_level\": 1, \"number_of_active_users\": 1608}, {\"dt\": \"2021-10-28\", \"activity_level\": 2, \"number_of_active_users\": 1635}, {\"dt\": \"2021-10-28\", \"activity_level\": 3, \"number_of_active_users\": 1663}, {\"dt\": \"2021-10-28\", \"activity_level\": 4, \"number_of_active_users\": 1558}, {\"dt\": \"2021-10-28\", \"activity_level\": 5, \"number_of_active_users\": 1531}, {\"dt\": \"2021-10-28\", \"activity_level\": 6, \"number_of_active_users\": 1626}, {\"dt\": \"2021-10-28\", \"activity_level\": 7, \"number_of_active_users\": 1615}, {\"dt\": \"2021-10-28\", \"activity_level\": 8, \"number_of_active_users\": 1607}, {\"dt\": \"2021-10-28\", \"activity_level\": 9, \"number_of_active_users\": 1572}, {\"dt\": \"2021-10-28\", \"activity_level\": 10, \"number_of_active_users\": 1563}, {\"dt\": \"2021-10-28\", \"activity_level\": 11, \"number_of_active_users\": 1584}, {\"dt\": \"2021-10-28\", \"activity_level\": 12, \"number_of_active_users\": 1518}, {\"dt\": \"2021-10-28\", \"activity_level\": 13, \"number_of_active_users\": 1597}, {\"dt\": \"2021-10-28\", \"activity_level\": 14, \"number_of_active_users\": 1540}, {\"dt\": \"2021-10-28\", \"activity_level\": 15, \"number_of_active_users\": 1582}, {\"dt\": \"2021-10-28\", \"activity_level\": 16, \"number_of_active_users\": 1593}, {\"dt\": \"2021-10-28\", \"activity_level\": 17, \"number_of_active_users\": 1506}, {\"dt\": \"2021-10-28\", \"activity_level\": 18, \"number_of_active_users\": 1506}, {\"dt\": \"2021-10-28\", \"activity_level\": 19, \"number_of_active_users\": 1530}, {\"dt\": \"2021-10-28\", \"activity_level\": 20, \"number_of_active_users\": 800}, {\"dt\": \"2021-10-29\", \"activity_level\": 1, \"number_of_active_users\": 1547}, {\"dt\": \"2021-10-29\", \"activity_level\": 2, \"number_of_active_users\": 1532}, {\"dt\": \"2021-10-29\", \"activity_level\": 3, \"number_of_active_users\": 1545}, {\"dt\": \"2021-10-29\", \"activity_level\": 4, \"number_of_active_users\": 1632}, {\"dt\": \"2021-10-29\", \"activity_level\": 5, \"number_of_active_users\": 1552}, {\"dt\": \"2021-10-29\", \"activity_level\": 6, \"number_of_active_users\": 1656}, {\"dt\": \"2021-10-29\", \"activity_level\": 7, \"number_of_active_users\": 1531}, {\"dt\": \"2021-10-29\", \"activity_level\": 8, \"number_of_active_users\": 1534}, {\"dt\": \"2021-10-29\", \"activity_level\": 9, \"number_of_active_users\": 1599}, {\"dt\": \"2021-10-29\", \"activity_level\": 10, \"number_of_active_users\": 1612}, {\"dt\": \"2021-10-29\", \"activity_level\": 11, \"number_of_active_users\": 1610}, {\"dt\": \"2021-10-29\", \"activity_level\": 12, \"number_of_active_users\": 1655}, {\"dt\": \"2021-10-29\", \"activity_level\": 13, \"number_of_active_users\": 1542}, {\"dt\": \"2021-10-29\", \"activity_level\": 14, \"number_of_active_users\": 1481}, {\"dt\": \"2021-10-29\", \"activity_level\": 15, \"number_of_active_users\": 1623}, {\"dt\": \"2021-10-29\", \"activity_level\": 16, \"number_of_active_users\": 1563}, {\"dt\": \"2021-10-29\", \"activity_level\": 17, \"number_of_active_users\": 1525}, {\"dt\": \"2021-10-29\", \"activity_level\": 18, \"number_of_active_users\": 1572}, {\"dt\": \"2021-10-29\", \"activity_level\": 19, \"number_of_active_users\": 1628}, {\"dt\": \"2021-10-29\", \"activity_level\": 20, \"number_of_active_users\": 784}, {\"dt\": \"2021-10-30\", \"activity_level\": 1, \"number_of_active_users\": 1588}, {\"dt\": \"2021-10-30\", \"activity_level\": 2, \"number_of_active_users\": 1562}, {\"dt\": \"2021-10-30\", \"activity_level\": 3, \"number_of_active_users\": 1560}, {\"dt\": \"2021-10-30\", \"activity_level\": 4, \"number_of_active_users\": 1585}, {\"dt\": \"2021-10-30\", \"activity_level\": 5, \"number_of_active_users\": 1592}, {\"dt\": \"2021-10-30\", \"activity_level\": 6, \"number_of_active_users\": 1558}, {\"dt\": \"2021-10-30\", \"activity_level\": 7, \"number_of_active_users\": 1581}, {\"dt\": \"2021-10-30\", \"activity_level\": 8, \"number_of_active_users\": 1550}, {\"dt\": \"2021-10-30\", \"activity_level\": 9, \"number_of_active_users\": 1568}, {\"dt\": \"2021-10-30\", \"activity_level\": 10, \"number_of_active_users\": 1616}, {\"dt\": \"2021-10-30\", \"activity_level\": 11, \"number_of_active_users\": 1570}, {\"dt\": \"2021-10-30\", \"activity_level\": 12, \"number_of_active_users\": 1570}, {\"dt\": \"2021-10-30\", \"activity_level\": 13, \"number_of_active_users\": 1595}, {\"dt\": \"2021-10-30\", \"activity_level\": 14, \"number_of_active_users\": 1531}, {\"dt\": \"2021-10-30\", \"activity_level\": 15, \"number_of_active_users\": 1600}, {\"dt\": \"2021-10-30\", \"activity_level\": 16, \"number_of_active_users\": 1565}, {\"dt\": \"2021-10-30\", \"activity_level\": 17, \"number_of_active_users\": 1501}, {\"dt\": \"2021-10-30\", \"activity_level\": 18, \"number_of_active_users\": 1555}, {\"dt\": \"2021-10-30\", \"activity_level\": 19, \"number_of_active_users\": 1601}, {\"dt\": \"2021-10-30\", \"activity_level\": 20, \"number_of_active_users\": 780}, {\"dt\": \"2021-10-31\", \"activity_level\": 1, \"number_of_active_users\": 1566}, {\"dt\": \"2021-10-31\", \"activity_level\": 2, \"number_of_active_users\": 1585}, {\"dt\": \"2021-10-31\", \"activity_level\": 3, \"number_of_active_users\": 1521}, {\"dt\": \"2021-10-31\", \"activity_level\": 4, \"number_of_active_users\": 1538}, {\"dt\": \"2021-10-31\", \"activity_level\": 5, \"number_of_active_users\": 1612}, {\"dt\": \"2021-10-31\", \"activity_level\": 6, \"number_of_active_users\": 1595}, {\"dt\": \"2021-10-31\", \"activity_level\": 7, \"number_of_active_users\": 1481}, {\"dt\": \"2021-10-31\", \"activity_level\": 8, \"number_of_active_users\": 1508}, {\"dt\": \"2021-10-31\", \"activity_level\": 9, \"number_of_active_users\": 1600}, {\"dt\": \"2021-10-31\", \"activity_level\": 10, \"number_of_active_users\": 1646}, {\"dt\": \"2021-10-31\", \"activity_level\": 11, \"number_of_active_users\": 1456}, {\"dt\": \"2021-10-31\", \"activity_level\": 12, \"number_of_active_users\": 1653}, {\"dt\": \"2021-10-31\", \"activity_level\": 13, \"number_of_active_users\": 1602}, {\"dt\": \"2021-10-31\", \"activity_level\": 14, \"number_of_active_users\": 1630}, {\"dt\": \"2021-10-31\", \"activity_level\": 15, \"number_of_active_users\": 1563}, {\"dt\": \"2021-10-31\", \"activity_level\": 16, \"number_of_active_users\": 1499}, {\"dt\": \"2021-10-31\", \"activity_level\": 17, \"number_of_active_users\": 1534}, {\"dt\": \"2021-10-31\", \"activity_level\": 18, \"number_of_active_users\": 1531}, {\"dt\": \"2021-10-31\", \"activity_level\": 19, \"number_of_active_users\": 1616}, {\"dt\": \"2021-10-31\", \"activity_level\": 20, \"number_of_active_users\": 783}]}}, {\"mode\": \"vega-lite\"});\n",
       "</script>"
      ],
      "text/plain": [
       "alt.Chart(...)"
      ]
     },
     "execution_count": 7,
     "metadata": {},
     "output_type": "execute_result"
    }
   ],
   "source": [
    "import altair as alt\n",
    "\n",
    "alt.Chart(activity).mark_line(size=1).encode(\n",
    "    x=alt.X('dt:T', title='Date'),\n",
    "    y=alt.Y('number_of_active_users:Q', title='Number of Users'),\n",
    "    color=alt.Color('activity_level:N', title='Activity Level'),\n",
    "    tooltip=[\n",
    "        alt.Tooltip('dt:T', title='Date'),\n",
    "        alt.Tooltip('number_of_active_users:Q', title='Users'),\n",
    "        alt.Tooltip('activity_level:N', title='Activity Level')\n",
    "    ]\n",
    ").properties(\n",
    "    width=600,\n",
    "    height=400,\n",
    "    title='Active Users Over Time by Activity Level'\n",
    ")\n"
   ]
  },
  {
   "cell_type": "markdown",
   "id": "46bea00a-70cb-497c-9f8d-895063cd438c",
   "metadata": {},
   "source": [
    "# Calculating Daily Active Users"
   ]
  },
  {
   "cell_type": "code",
   "execution_count": 8,
   "id": "4c4bc32e-5428-4bf6-9d06-585966ac6e12",
   "metadata": {},
   "outputs": [
    {
     "data": {
      "text/html": [
       "<div>\n",
       "<style scoped>\n",
       "    .dataframe tbody tr th:only-of-type {\n",
       "        vertical-align: middle;\n",
       "    }\n",
       "\n",
       "    .dataframe tbody tr th {\n",
       "        vertical-align: top;\n",
       "    }\n",
       "\n",
       "    .dataframe thead th {\n",
       "        text-align: right;\n",
       "    }\n",
       "</style>\n",
       "<table border=\"1\" class=\"dataframe\">\n",
       "  <thead>\n",
       "    <tr style=\"text-align: right;\">\n",
       "      <th></th>\n",
       "      <th>dt</th>\n",
       "      <th>number_of_active_users</th>\n",
       "    </tr>\n",
       "  </thead>\n",
       "  <tbody>\n",
       "    <tr>\n",
       "      <th>0</th>\n",
       "      <td>2021-10-01</td>\n",
       "      <td>30634</td>\n",
       "    </tr>\n",
       "    <tr>\n",
       "      <th>1</th>\n",
       "      <td>2021-10-02</td>\n",
       "      <td>30775</td>\n",
       "    </tr>\n",
       "    <tr>\n",
       "      <th>2</th>\n",
       "      <td>2021-10-03</td>\n",
       "      <td>30785</td>\n",
       "    </tr>\n",
       "    <tr>\n",
       "      <th>3</th>\n",
       "      <td>2021-10-04</td>\n",
       "      <td>30599</td>\n",
       "    </tr>\n",
       "    <tr>\n",
       "      <th>4</th>\n",
       "      <td>2021-10-05</td>\n",
       "      <td>30588</td>\n",
       "    </tr>\n",
       "  </tbody>\n",
       "</table>\n",
       "</div>"
      ],
      "text/plain": [
       "           dt  number_of_active_users\n",
       "0  2021-10-01                   30634\n",
       "1  2021-10-02                   30775\n",
       "2  2021-10-03                   30785\n",
       "3  2021-10-04                   30599\n",
       "4  2021-10-05                   30588"
      ]
     },
     "execution_count": 8,
     "metadata": {},
     "output_type": "execute_result"
    }
   ],
   "source": [
    "activity = data.query('activity_level > 0').groupby(['dt'])[\"userid\"].nunique().reset_index().rename(columns={\"userid\":\"number_of_active_users\"})\n",
    "activity.head()"
   ]
  },
  {
   "cell_type": "code",
   "execution_count": 9,
   "id": "9b35a50d-b96e-46eb-9ab9-69da2b556064",
   "metadata": {},
   "outputs": [
    {
     "data": {
      "text/html": [
       "<div>\n",
       "<style scoped>\n",
       "    .dataframe tbody tr th:only-of-type {\n",
       "        vertical-align: middle;\n",
       "    }\n",
       "\n",
       "    .dataframe tbody tr th {\n",
       "        vertical-align: top;\n",
       "    }\n",
       "\n",
       "    .dataframe thead th {\n",
       "        text-align: right;\n",
       "    }\n",
       "</style>\n",
       "<table border=\"1\" class=\"dataframe\">\n",
       "  <thead>\n",
       "    <tr style=\"text-align: right;\">\n",
       "      <th></th>\n",
       "      <th>number_of_active_users</th>\n",
       "    </tr>\n",
       "  </thead>\n",
       "  <tbody>\n",
       "    <tr>\n",
       "      <th>count</th>\n",
       "      <td>31.0</td>\n",
       "    </tr>\n",
       "    <tr>\n",
       "      <th>mean</th>\n",
       "      <td>30673.0</td>\n",
       "    </tr>\n",
       "    <tr>\n",
       "      <th>std</th>\n",
       "      <td>91.0</td>\n",
       "    </tr>\n",
       "    <tr>\n",
       "      <th>min</th>\n",
       "      <td>30489.0</td>\n",
       "    </tr>\n",
       "    <tr>\n",
       "      <th>25%</th>\n",
       "      <td>30608.0</td>\n",
       "    </tr>\n",
       "    <tr>\n",
       "      <th>50%</th>\n",
       "      <td>30661.0</td>\n",
       "    </tr>\n",
       "    <tr>\n",
       "      <th>75%</th>\n",
       "      <td>30728.0</td>\n",
       "    </tr>\n",
       "    <tr>\n",
       "      <th>max</th>\n",
       "      <td>30902.0</td>\n",
       "    </tr>\n",
       "  </tbody>\n",
       "</table>\n",
       "</div>"
      ],
      "text/plain": [
       "       number_of_active_users\n",
       "count                    31.0\n",
       "mean                  30673.0\n",
       "std                      91.0\n",
       "min                   30489.0\n",
       "25%                   30608.0\n",
       "50%                   30661.0\n",
       "75%                   30728.0\n",
       "max                   30902.0"
      ]
     },
     "execution_count": 9,
     "metadata": {},
     "output_type": "execute_result"
    }
   ],
   "source": [
    "activity.describe().round(0)"
   ]
  },
  {
   "cell_type": "markdown",
   "id": "eac50823-7672-4825-9c03-da561ba83786",
   "metadata": {},
   "source": [
    "## We have 31 Day's Data and the Mean Daily Active Users (DAU) is 30,673 with a Stanard Deviation of 91"
   ]
  },
  {
   "cell_type": "code",
   "execution_count": 10,
   "id": "c917d091-3f74-469d-b439-079558cc7073",
   "metadata": {},
   "outputs": [
    {
     "data": {
      "text/html": [
       "\n",
       "<style>\n",
       "  #altair-viz-1d9196f2beef469687140593a086ca07.vega-embed {\n",
       "    width: 100%;\n",
       "    display: flex;\n",
       "  }\n",
       "\n",
       "  #altair-viz-1d9196f2beef469687140593a086ca07.vega-embed details,\n",
       "  #altair-viz-1d9196f2beef469687140593a086ca07.vega-embed details summary {\n",
       "    position: relative;\n",
       "  }\n",
       "</style>\n",
       "<div id=\"altair-viz-1d9196f2beef469687140593a086ca07\"></div>\n",
       "<script type=\"text/javascript\">\n",
       "  var VEGA_DEBUG = (typeof VEGA_DEBUG == \"undefined\") ? {} : VEGA_DEBUG;\n",
       "  (function(spec, embedOpt){\n",
       "    let outputDiv = document.currentScript.previousElementSibling;\n",
       "    if (outputDiv.id !== \"altair-viz-1d9196f2beef469687140593a086ca07\") {\n",
       "      outputDiv = document.getElementById(\"altair-viz-1d9196f2beef469687140593a086ca07\");\n",
       "    }\n",
       "\n",
       "    const paths = {\n",
       "      \"vega\": \"https://cdn.jsdelivr.net/npm/vega@5?noext\",\n",
       "      \"vega-lib\": \"https://cdn.jsdelivr.net/npm/vega-lib?noext\",\n",
       "      \"vega-lite\": \"https://cdn.jsdelivr.net/npm/vega-lite@5.20.1?noext\",\n",
       "      \"vega-embed\": \"https://cdn.jsdelivr.net/npm/vega-embed@6?noext\",\n",
       "    };\n",
       "\n",
       "    function maybeLoadScript(lib, version) {\n",
       "      var key = `${lib.replace(\"-\", \"\")}_version`;\n",
       "      return (VEGA_DEBUG[key] == version) ?\n",
       "        Promise.resolve(paths[lib]) :\n",
       "        new Promise(function(resolve, reject) {\n",
       "          var s = document.createElement('script');\n",
       "          document.getElementsByTagName(\"head\")[0].appendChild(s);\n",
       "          s.async = true;\n",
       "          s.onload = () => {\n",
       "            VEGA_DEBUG[key] = version;\n",
       "            return resolve(paths[lib]);\n",
       "          };\n",
       "          s.onerror = () => reject(`Error loading script: ${paths[lib]}`);\n",
       "          s.src = paths[lib];\n",
       "        });\n",
       "    }\n",
       "\n",
       "    function showError(err) {\n",
       "      outputDiv.innerHTML = `<div class=\"error\" style=\"color:red;\">${err}</div>`;\n",
       "      throw err;\n",
       "    }\n",
       "\n",
       "    function displayChart(vegaEmbed) {\n",
       "      vegaEmbed(outputDiv, spec, embedOpt)\n",
       "        .catch(err => showError(`Javascript Error: ${err.message}<br>This usually means there's a typo in your chart specification. See the javascript console for the full traceback.`));\n",
       "    }\n",
       "\n",
       "    if(typeof define === \"function\" && define.amd) {\n",
       "      requirejs.config({paths});\n",
       "      let deps = [\"vega-embed\"];\n",
       "      require(deps, displayChart, err => showError(`Error loading script: ${err.message}`));\n",
       "    } else {\n",
       "      maybeLoadScript(\"vega\", \"5\")\n",
       "        .then(() => maybeLoadScript(\"vega-lite\", \"5.20.1\"))\n",
       "        .then(() => maybeLoadScript(\"vega-embed\", \"6\"))\n",
       "        .catch(showError)\n",
       "        .then(() => displayChart(vegaEmbed));\n",
       "    }\n",
       "  })({\"config\": {\"view\": {\"continuousWidth\": 300, \"continuousHeight\": 300}}, \"data\": {\"name\": \"data-1d91711da7ddfe71893cad68a246b0b6\"}, \"mark\": {\"type\": \"line\", \"size\": 4}, \"encoding\": {\"x\": {\"axis\": {\"title\": \"date\"}, \"field\": \"dt\", \"type\": \"temporal\"}, \"y\": {\"axis\": {\"title\": \"Number of Users\"}, \"field\": \"number_of_active_users\", \"type\": \"quantitative\"}}, \"height\": 400, \"title\": \"Daily Active Users\", \"width\": 600, \"$schema\": \"https://vega.github.io/schema/vega-lite/v5.20.1.json\", \"datasets\": {\"data-1d91711da7ddfe71893cad68a246b0b6\": [{\"dt\": \"2021-10-01\", \"number_of_active_users\": 30634}, {\"dt\": \"2021-10-02\", \"number_of_active_users\": 30775}, {\"dt\": \"2021-10-03\", \"number_of_active_users\": 30785}, {\"dt\": \"2021-10-04\", \"number_of_active_users\": 30599}, {\"dt\": \"2021-10-05\", \"number_of_active_users\": 30588}, {\"dt\": \"2021-10-06\", \"number_of_active_users\": 30639}, {\"dt\": \"2021-10-07\", \"number_of_active_users\": 30637}, {\"dt\": \"2021-10-08\", \"number_of_active_users\": 30600}, {\"dt\": \"2021-10-09\", \"number_of_active_users\": 30902}, {\"dt\": \"2021-10-10\", \"number_of_active_users\": 30581}, {\"dt\": \"2021-10-11\", \"number_of_active_users\": 30489}, {\"dt\": \"2021-10-12\", \"number_of_active_users\": 30715}, {\"dt\": \"2021-10-13\", \"number_of_active_users\": 30761}, {\"dt\": \"2021-10-14\", \"number_of_active_users\": 30716}, {\"dt\": \"2021-10-15\", \"number_of_active_users\": 30637}, {\"dt\": \"2021-10-16\", \"number_of_active_users\": 30708}, {\"dt\": \"2021-10-17\", \"number_of_active_users\": 30741}, {\"dt\": \"2021-10-18\", \"number_of_active_users\": 30694}, {\"dt\": \"2021-10-19\", \"number_of_active_users\": 30587}, {\"dt\": \"2021-10-20\", \"number_of_active_users\": 30795}, {\"dt\": \"2021-10-21\", \"number_of_active_users\": 30705}, {\"dt\": \"2021-10-22\", \"number_of_active_users\": 30573}, {\"dt\": \"2021-10-23\", \"number_of_active_users\": 30645}, {\"dt\": \"2021-10-24\", \"number_of_active_users\": 30815}, {\"dt\": \"2021-10-25\", \"number_of_active_users\": 30616}, {\"dt\": \"2021-10-26\", \"number_of_active_users\": 30673}, {\"dt\": \"2021-10-27\", \"number_of_active_users\": 30661}, {\"dt\": \"2021-10-28\", \"number_of_active_users\": 30734}, {\"dt\": \"2021-10-29\", \"number_of_active_users\": 30723}, {\"dt\": \"2021-10-30\", \"number_of_active_users\": 30628}, {\"dt\": \"2021-10-31\", \"number_of_active_users\": 30519}]}}, {\"mode\": \"vega-lite\"});\n",
       "</script>"
      ],
      "text/plain": [
       "alt.Chart(...)"
      ]
     },
     "execution_count": 10,
     "metadata": {},
     "output_type": "execute_result"
    }
   ],
   "source": [
    "alt.Chart(activity).mark_line(size=4).encode(\n",
    "    alt.X('dt:T', axis=alt.Axis(title = 'date')),\n",
    "    alt.Y('number_of_active_users:Q', axis=alt.Axis(title = 'Number of Users'))\n",
    ").properties(\n",
    "    width=600,\n",
    "    height=400,\n",
    "    title='Daily Active Users'\n",
    ")"
   ]
  },
  {
   "cell_type": "markdown",
   "id": "60486e20-ff8e-4c32-8440-2eddd8310151",
   "metadata": {},
   "source": [
    "# Click-through rate"
   ]
  },
  {
   "cell_type": "code",
   "execution_count": 11,
   "id": "495f8c0c-85a6-4586-9ce8-0d5e81c66788",
   "metadata": {},
   "outputs": [],
   "source": [
    "data1 = pd.read_csv(\"Ctr_pretest.csv\")"
   ]
  },
  {
   "cell_type": "code",
   "execution_count": 12,
   "id": "e79fa7ed-1006-458e-85f2-50d86e6a03ef",
   "metadata": {},
   "outputs": [
    {
     "data": {
      "text/html": [
       "<div>\n",
       "<style scoped>\n",
       "    .dataframe tbody tr th:only-of-type {\n",
       "        vertical-align: middle;\n",
       "    }\n",
       "\n",
       "    .dataframe tbody tr th {\n",
       "        vertical-align: top;\n",
       "    }\n",
       "\n",
       "    .dataframe thead th {\n",
       "        text-align: right;\n",
       "    }\n",
       "</style>\n",
       "<table border=\"1\" class=\"dataframe\">\n",
       "  <thead>\n",
       "    <tr style=\"text-align: right;\">\n",
       "      <th></th>\n",
       "      <th>userid</th>\n",
       "      <th>dt</th>\n",
       "      <th>ctr</th>\n",
       "    </tr>\n",
       "  </thead>\n",
       "  <tbody>\n",
       "    <tr>\n",
       "      <th>0</th>\n",
       "      <td>4b328144-df4b-47b1-a804-09834942dce0</td>\n",
       "      <td>2021-10-01</td>\n",
       "      <td>34.28</td>\n",
       "    </tr>\n",
       "    <tr>\n",
       "      <th>1</th>\n",
       "      <td>34ace777-5e9d-40b3-a859-4145d0c35c8d</td>\n",
       "      <td>2021-10-01</td>\n",
       "      <td>34.67</td>\n",
       "    </tr>\n",
       "    <tr>\n",
       "      <th>2</th>\n",
       "      <td>8028cccf-19c3-4c0e-b5b2-e707e15d2d83</td>\n",
       "      <td>2021-10-01</td>\n",
       "      <td>34.77</td>\n",
       "    </tr>\n",
       "    <tr>\n",
       "      <th>3</th>\n",
       "      <td>652b3c9c-5e29-4bf0-9373-924687b1567e</td>\n",
       "      <td>2021-10-01</td>\n",
       "      <td>35.42</td>\n",
       "    </tr>\n",
       "    <tr>\n",
       "      <th>4</th>\n",
       "      <td>45b57434-4666-4b57-9798-35489dc1092a</td>\n",
       "      <td>2021-10-01</td>\n",
       "      <td>35.04</td>\n",
       "    </tr>\n",
       "  </tbody>\n",
       "</table>\n",
       "</div>"
      ],
      "text/plain": [
       "                                 userid          dt    ctr\n",
       "0  4b328144-df4b-47b1-a804-09834942dce0  2021-10-01  34.28\n",
       "1  34ace777-5e9d-40b3-a859-4145d0c35c8d  2021-10-01  34.67\n",
       "2  8028cccf-19c3-4c0e-b5b2-e707e15d2d83  2021-10-01  34.77\n",
       "3  652b3c9c-5e29-4bf0-9373-924687b1567e  2021-10-01  35.42\n",
       "4  45b57434-4666-4b57-9798-35489dc1092a  2021-10-01  35.04"
      ]
     },
     "execution_count": 12,
     "metadata": {},
     "output_type": "execute_result"
    }
   ],
   "source": [
    "data1.head()"
   ]
  },
  {
   "cell_type": "code",
   "execution_count": 13,
   "id": "2d40919b-dd72-4db0-9e88-7ffcb40f5801",
   "metadata": {},
   "outputs": [
    {
     "data": {
      "text/html": [
       "<div>\n",
       "<style scoped>\n",
       "    .dataframe tbody tr th:only-of-type {\n",
       "        vertical-align: middle;\n",
       "    }\n",
       "\n",
       "    .dataframe tbody tr th {\n",
       "        vertical-align: top;\n",
       "    }\n",
       "\n",
       "    .dataframe thead th {\n",
       "        text-align: right;\n",
       "    }\n",
       "</style>\n",
       "<table border=\"1\" class=\"dataframe\">\n",
       "  <thead>\n",
       "    <tr style=\"text-align: right;\">\n",
       "      <th></th>\n",
       "      <th>ctr</th>\n",
       "    </tr>\n",
       "  </thead>\n",
       "  <tbody>\n",
       "    <tr>\n",
       "      <th>count</th>\n",
       "      <td>950875.00</td>\n",
       "    </tr>\n",
       "    <tr>\n",
       "      <th>mean</th>\n",
       "      <td>33.00</td>\n",
       "    </tr>\n",
       "    <tr>\n",
       "      <th>std</th>\n",
       "      <td>1.73</td>\n",
       "    </tr>\n",
       "    <tr>\n",
       "      <th>min</th>\n",
       "      <td>30.00</td>\n",
       "    </tr>\n",
       "    <tr>\n",
       "      <th>25%</th>\n",
       "      <td>31.50</td>\n",
       "    </tr>\n",
       "    <tr>\n",
       "      <th>50%</th>\n",
       "      <td>33.00</td>\n",
       "    </tr>\n",
       "    <tr>\n",
       "      <th>75%</th>\n",
       "      <td>34.50</td>\n",
       "    </tr>\n",
       "    <tr>\n",
       "      <th>max</th>\n",
       "      <td>36.00</td>\n",
       "    </tr>\n",
       "  </tbody>\n",
       "</table>\n",
       "</div>"
      ],
      "text/plain": [
       "             ctr\n",
       "count  950875.00\n",
       "mean       33.00\n",
       "std         1.73\n",
       "min        30.00\n",
       "25%        31.50\n",
       "50%        33.00\n",
       "75%        34.50\n",
       "max        36.00"
      ]
     },
     "execution_count": 13,
     "metadata": {},
     "output_type": "execute_result"
    }
   ],
   "source": [
    "data1.describe().round(2)"
   ]
  },
  {
   "cell_type": "markdown",
   "id": "53d3f19e-f5d8-48e4-99dc-da69063a876a",
   "metadata": {},
   "source": [
    "# Sample Size Determination and Power Calculation"
   ]
  },
  {
   "cell_type": "code",
   "execution_count": 14,
   "id": "261d359e-a4cc-40fe-b51e-ecbaf42ad4a0",
   "metadata": {},
   "outputs": [],
   "source": [
    "from scipy import stats"
   ]
  },
  {
   "cell_type": "code",
   "execution_count": 15,
   "id": "05d5b7bd-061f-41be-9728-f2f3b1c3778d",
   "metadata": {},
   "outputs": [],
   "source": [
    "def binomial_sample_size(metric, mde, alpha, beta):\n",
    "   \n",
    "    snd = stats.norm(0, 1)\n",
    "\n",
    "    Z_beta = snd.ppf(1-beta)\n",
    "    print(Z_beta)\n",
    "\n",
    "    Z_alpha = snd.ppf(1-alpha/2)\n",
    "    print(Z_alpha)\n",
    "\n",
    "\n",
    "    p = (metric + metric + mde) / 2\n",
    "    print(p)\n",
    "\n",
    "    N = (2 * p * (1 - p) * (Z_alpha + Z_beta)**2 / mde**2)\n",
    "\n",
    "    return N"
   ]
  },
  {
   "cell_type": "code",
   "execution_count": 16,
   "id": "f11c391c-7028-4dbc-9acc-dde499ad4100",
   "metadata": {},
   "outputs": [
    {
     "name": "stdout",
     "output_type": "stream",
     "text": [
      "0.8416212335729143\n",
      "1.959963984540054\n",
      "0.34\n"
     ]
    },
    {
     "data": {
      "text/plain": [
       "8806.443061939677"
      ]
     },
     "execution_count": 16,
     "metadata": {},
     "output_type": "execute_result"
    }
   ],
   "source": [
    "binomial_sample_size(metric=0.33, mde=0.02, alpha=0.05, beta=0.2)"
   ]
  },
  {
   "cell_type": "markdown",
   "id": "413c254a-c6a1-4459-b17f-a7a90f54ac6e",
   "metadata": {},
   "source": [
    "So, at least 8,807 users need to be exposed to the test"
   ]
  },
  {
   "cell_type": "markdown",
   "id": "2dd9ebd2-86d4-435e-b73a-f476097f5fa3",
   "metadata": {},
   "source": [
    "# For Continuous Distribution [Daily Active Users (DAU)]"
   ]
  },
  {
   "cell_type": "code",
   "execution_count": 17,
   "id": "a56f7b74-05b4-46c2-86b2-7ac459895f10",
   "metadata": {},
   "outputs": [],
   "source": [
    "def continuos_sample_size(metric, mde, sd, alpha, beta):\n",
    "    # standard normal distribution to determine z-values\n",
    "    snd = stats.norm(0, 1)\n",
    "\n",
    "    Z_beta = snd.ppf(1-beta)\n",
    "    print(Z_beta)\n",
    "\n",
    "    Z_alpha = snd.ppf(1-alpha/2)\n",
    "    print(Z_alpha)\n",
    "\n",
    "    N = (2 * sd**2 * (Z_beta + Z_alpha)**2 / mde**2)\n",
    "\n",
    "    return N"
   ]
  },
  {
   "cell_type": "code",
   "execution_count": 18,
   "id": "e1bdb4f4-4459-4379-890b-56904e9aba4d",
   "metadata": {},
   "outputs": [
    {
     "name": "stdout",
     "output_type": "stream",
     "text": [
      "0.8416212335729143\n",
      "1.959963984540054\n"
     ]
    },
    {
     "data": {
      "text/plain": [
       "1.4443682906698845"
      ]
     },
     "execution_count": 18,
     "metadata": {},
     "output_type": "execute_result"
    }
   ],
   "source": [
    "continuos_sample_size(metric=30673, mde=300, sd=91, alpha=0.05, beta=0.2)"
   ]
  },
  {
   "cell_type": "markdown",
   "id": "1fd9685e-0dc2-47ef-a6c8-5b475066001b",
   "metadata": {},
   "source": [
    "### So, the test should run for at least 1.44 ~ 2 days\n"
   ]
  },
  {
   "cell_type": "markdown",
   "id": "25377b3e-b252-469f-aa02-9d29e0c619e4",
   "metadata": {},
   "source": [
    "# A/B Testing Process\n",
    "### We first need to randomly assign the test to 8,807 Users"
   ]
  },
  {
   "cell_type": "code",
   "execution_count": 19,
   "id": "788470c9-c348-4fa0-8de0-2789fb9b6836",
   "metadata": {},
   "outputs": [
    {
     "data": {
      "text/html": [
       "<div>\n",
       "<style scoped>\n",
       "    .dataframe tbody tr th:only-of-type {\n",
       "        vertical-align: middle;\n",
       "    }\n",
       "\n",
       "    .dataframe tbody tr th {\n",
       "        vertical-align: top;\n",
       "    }\n",
       "\n",
       "    .dataframe thead th {\n",
       "        text-align: right;\n",
       "    }\n",
       "</style>\n",
       "<table border=\"1\" class=\"dataframe\">\n",
       "  <thead>\n",
       "    <tr style=\"text-align: right;\">\n",
       "      <th></th>\n",
       "      <th>userid</th>\n",
       "      <th>ts</th>\n",
       "      <th>groupid</th>\n",
       "    </tr>\n",
       "  </thead>\n",
       "  <tbody>\n",
       "    <tr>\n",
       "      <th>0</th>\n",
       "      <td>c5d77c89-33a3-4fe3-9e31-179dec09d49c</td>\n",
       "      <td>2021-11-02T07:31:42Z</td>\n",
       "      <td>0</td>\n",
       "    </tr>\n",
       "    <tr>\n",
       "      <th>1</th>\n",
       "      <td>9061d751-7a94-44d3-8792-5ca5ec59aa89</td>\n",
       "      <td>2021-11-13T07:43:51Z</td>\n",
       "      <td>0</td>\n",
       "    </tr>\n",
       "    <tr>\n",
       "      <th>2</th>\n",
       "      <td>a5b70ae7-f07c-4773-9df4-ce112bc9dc48</td>\n",
       "      <td>2021-11-20T19:26:07Z</td>\n",
       "      <td>0</td>\n",
       "    </tr>\n",
       "    <tr>\n",
       "      <th>3</th>\n",
       "      <td>d2646662-269f-49de-aab1-8776afced9a3</td>\n",
       "      <td>2021-11-20T11:09:02Z</td>\n",
       "      <td>0</td>\n",
       "    </tr>\n",
       "    <tr>\n",
       "      <th>4</th>\n",
       "      <td>2d9b23b7-4e5e-4162-9f0f-49e593fdd2b5</td>\n",
       "      <td>2021-11-04T07:42:07Z</td>\n",
       "      <td>0</td>\n",
       "    </tr>\n",
       "  </tbody>\n",
       "</table>\n",
       "</div>"
      ],
      "text/plain": [
       "                                 userid                    ts  groupid\n",
       "0  c5d77c89-33a3-4fe3-9e31-179dec09d49c  2021-11-02T07:31:42Z        0\n",
       "1  9061d751-7a94-44d3-8792-5ca5ec59aa89  2021-11-13T07:43:51Z        0\n",
       "2  a5b70ae7-f07c-4773-9df4-ce112bc9dc48  2021-11-20T19:26:07Z        0\n",
       "3  d2646662-269f-49de-aab1-8776afced9a3  2021-11-20T11:09:02Z        0\n",
       "4  2d9b23b7-4e5e-4162-9f0f-49e593fdd2b5  2021-11-04T07:42:07Z        0"
      ]
     },
     "execution_count": 19,
     "metadata": {},
     "output_type": "execute_result"
    }
   ],
   "source": [
    "data = pd.read_csv(\"Assignments.csv\")\n",
    "data.head()"
   ]
  },
  {
   "cell_type": "code",
   "execution_count": 20,
   "id": "c9cc3224-8c90-4dd2-b08a-b18c148c406a",
   "metadata": {},
   "outputs": [
    {
     "name": "stdout",
     "output_type": "stream",
     "text": [
      "2021-11-02\n"
     ]
    }
   ],
   "source": [
    "print(datetime.strptime(data.head(1)['ts'][0], '%Y-%m-%dT%H:%M:%SZ').strftime(\"%Y-%m-%d\"))"
   ]
  },
  {
   "cell_type": "code",
   "execution_count": 21,
   "id": "d594b16c-b85a-4043-83ec-3d3e37c69f97",
   "metadata": {},
   "outputs": [
    {
     "data": {
      "text/html": [
       "<div>\n",
       "<style scoped>\n",
       "    .dataframe tbody tr th:only-of-type {\n",
       "        vertical-align: middle;\n",
       "    }\n",
       "\n",
       "    .dataframe tbody tr th {\n",
       "        vertical-align: top;\n",
       "    }\n",
       "\n",
       "    .dataframe thead th {\n",
       "        text-align: right;\n",
       "    }\n",
       "</style>\n",
       "<table border=\"1\" class=\"dataframe\">\n",
       "  <thead>\n",
       "    <tr style=\"text-align: right;\">\n",
       "      <th></th>\n",
       "      <th>userid</th>\n",
       "      <th>ts</th>\n",
       "      <th>groupid</th>\n",
       "      <th>dt</th>\n",
       "    </tr>\n",
       "  </thead>\n",
       "  <tbody>\n",
       "    <tr>\n",
       "      <th>0</th>\n",
       "      <td>c5d77c89-33a3-4fe3-9e31-179dec09d49c</td>\n",
       "      <td>2021-11-02T07:31:42Z</td>\n",
       "      <td>0</td>\n",
       "      <td>2021-11-02</td>\n",
       "    </tr>\n",
       "    <tr>\n",
       "      <th>1</th>\n",
       "      <td>9061d751-7a94-44d3-8792-5ca5ec59aa89</td>\n",
       "      <td>2021-11-13T07:43:51Z</td>\n",
       "      <td>0</td>\n",
       "      <td>2021-11-13</td>\n",
       "    </tr>\n",
       "    <tr>\n",
       "      <th>2</th>\n",
       "      <td>a5b70ae7-f07c-4773-9df4-ce112bc9dc48</td>\n",
       "      <td>2021-11-20T19:26:07Z</td>\n",
       "      <td>0</td>\n",
       "      <td>2021-11-20</td>\n",
       "    </tr>\n",
       "    <tr>\n",
       "      <th>3</th>\n",
       "      <td>d2646662-269f-49de-aab1-8776afced9a3</td>\n",
       "      <td>2021-11-20T11:09:02Z</td>\n",
       "      <td>0</td>\n",
       "      <td>2021-11-20</td>\n",
       "    </tr>\n",
       "    <tr>\n",
       "      <th>4</th>\n",
       "      <td>2d9b23b7-4e5e-4162-9f0f-49e593fdd2b5</td>\n",
       "      <td>2021-11-04T07:42:07Z</td>\n",
       "      <td>0</td>\n",
       "      <td>2021-11-04</td>\n",
       "    </tr>\n",
       "  </tbody>\n",
       "</table>\n",
       "</div>"
      ],
      "text/plain": [
       "                                 userid                    ts  groupid  \\\n",
       "0  c5d77c89-33a3-4fe3-9e31-179dec09d49c  2021-11-02T07:31:42Z        0   \n",
       "1  9061d751-7a94-44d3-8792-5ca5ec59aa89  2021-11-13T07:43:51Z        0   \n",
       "2  a5b70ae7-f07c-4773-9df4-ce112bc9dc48  2021-11-20T19:26:07Z        0   \n",
       "3  d2646662-269f-49de-aab1-8776afced9a3  2021-11-20T11:09:02Z        0   \n",
       "4  2d9b23b7-4e5e-4162-9f0f-49e593fdd2b5  2021-11-04T07:42:07Z        0   \n",
       "\n",
       "           dt  \n",
       "0  2021-11-02  \n",
       "1  2021-11-13  \n",
       "2  2021-11-20  \n",
       "3  2021-11-20  \n",
       "4  2021-11-04  "
      ]
     },
     "execution_count": 21,
     "metadata": {},
     "output_type": "execute_result"
    }
   ],
   "source": [
    "data['dt'] = data['ts'].map(lambda x: datetime.strptime(x, '%Y-%m-%dT%H:%M:%SZ').strftime(\"%Y-%m-%d\"))\n",
    "data.head()"
   ]
  },
  {
   "cell_type": "code",
   "execution_count": 22,
   "id": "7affcf0c-cd7c-450b-b356-0f48b04d94ef",
   "metadata": {},
   "outputs": [
    {
     "data": {
      "text/html": [
       "<div>\n",
       "<style scoped>\n",
       "    .dataframe tbody tr th:only-of-type {\n",
       "        vertical-align: middle;\n",
       "    }\n",
       "\n",
       "    .dataframe tbody tr th {\n",
       "        vertical-align: top;\n",
       "    }\n",
       "\n",
       "    .dataframe thead th {\n",
       "        text-align: right;\n",
       "    }\n",
       "</style>\n",
       "<table border=\"1\" class=\"dataframe\">\n",
       "  <thead>\n",
       "    <tr style=\"text-align: right;\">\n",
       "      <th></th>\n",
       "      <th>groupid</th>\n",
       "    </tr>\n",
       "  </thead>\n",
       "  <tbody>\n",
       "    <tr>\n",
       "      <th>count</th>\n",
       "      <td>60000.0000</td>\n",
       "    </tr>\n",
       "    <tr>\n",
       "      <th>mean</th>\n",
       "      <td>0.5008</td>\n",
       "    </tr>\n",
       "    <tr>\n",
       "      <th>std</th>\n",
       "      <td>0.5000</td>\n",
       "    </tr>\n",
       "    <tr>\n",
       "      <th>min</th>\n",
       "      <td>0.0000</td>\n",
       "    </tr>\n",
       "    <tr>\n",
       "      <th>25%</th>\n",
       "      <td>0.0000</td>\n",
       "    </tr>\n",
       "    <tr>\n",
       "      <th>50%</th>\n",
       "      <td>1.0000</td>\n",
       "    </tr>\n",
       "    <tr>\n",
       "      <th>75%</th>\n",
       "      <td>1.0000</td>\n",
       "    </tr>\n",
       "    <tr>\n",
       "      <th>max</th>\n",
       "      <td>1.0000</td>\n",
       "    </tr>\n",
       "  </tbody>\n",
       "</table>\n",
       "</div>"
      ],
      "text/plain": [
       "          groupid\n",
       "count  60000.0000\n",
       "mean       0.5008\n",
       "std        0.5000\n",
       "min        0.0000\n",
       "25%        0.0000\n",
       "50%        1.0000\n",
       "75%        1.0000\n",
       "max        1.0000"
      ]
     },
     "execution_count": 22,
     "metadata": {},
     "output_type": "execute_result"
    }
   ],
   "source": [
    "data.describe().round(4)"
   ]
  },
  {
   "cell_type": "code",
   "execution_count": 23,
   "id": "1cd47569-2270-4beb-9abe-18db8cd4c90d",
   "metadata": {},
   "outputs": [
    {
     "data": {
      "text/html": [
       "<div>\n",
       "<style scoped>\n",
       "    .dataframe tbody tr th:only-of-type {\n",
       "        vertical-align: middle;\n",
       "    }\n",
       "\n",
       "    .dataframe tbody tr th {\n",
       "        vertical-align: top;\n",
       "    }\n",
       "\n",
       "    .dataframe thead th {\n",
       "        text-align: right;\n",
       "    }\n",
       "</style>\n",
       "<table border=\"1\" class=\"dataframe\">\n",
       "  <thead>\n",
       "    <tr style=\"text-align: right;\">\n",
       "      <th></th>\n",
       "      <th>groupid</th>\n",
       "      <th>number_of_users</th>\n",
       "    </tr>\n",
       "  </thead>\n",
       "  <tbody>\n",
       "    <tr>\n",
       "      <th>0</th>\n",
       "      <td>0</td>\n",
       "      <td>29951</td>\n",
       "    </tr>\n",
       "    <tr>\n",
       "      <th>1</th>\n",
       "      <td>1</td>\n",
       "      <td>30049</td>\n",
       "    </tr>\n",
       "  </tbody>\n",
       "</table>\n",
       "</div>"
      ],
      "text/plain": [
       "   groupid  number_of_users\n",
       "0        0            29951\n",
       "1        1            30049"
      ]
     },
     "execution_count": 23,
     "metadata": {},
     "output_type": "execute_result"
    }
   ],
   "source": [
    "data.groupby(['groupid'])[\"userid\"].nunique().reset_index().rename(columns={\"userid\":\"number_of_users\"})"
   ]
  },
  {
   "cell_type": "code",
   "execution_count": 24,
   "id": "9c2137cc-0b2d-400d-9026-28b7fd42477e",
   "metadata": {},
   "outputs": [
    {
     "data": {
      "text/html": [
       "<div>\n",
       "<style scoped>\n",
       "    .dataframe tbody tr th:only-of-type {\n",
       "        vertical-align: middle;\n",
       "    }\n",
       "\n",
       "    .dataframe tbody tr th {\n",
       "        vertical-align: top;\n",
       "    }\n",
       "\n",
       "    .dataframe thead th {\n",
       "        text-align: right;\n",
       "    }\n",
       "</style>\n",
       "<table border=\"1\" class=\"dataframe\">\n",
       "  <thead>\n",
       "    <tr style=\"text-align: right;\">\n",
       "      <th></th>\n",
       "      <th>groupid</th>\n",
       "      <th>dt</th>\n",
       "      <th>number_of_users</th>\n",
       "    </tr>\n",
       "  </thead>\n",
       "  <tbody>\n",
       "    <tr>\n",
       "      <th>0</th>\n",
       "      <td>0</td>\n",
       "      <td>2021-11-01</td>\n",
       "      <td>1497</td>\n",
       "    </tr>\n",
       "    <tr>\n",
       "      <th>1</th>\n",
       "      <td>0</td>\n",
       "      <td>2021-11-02</td>\n",
       "      <td>1467</td>\n",
       "    </tr>\n",
       "    <tr>\n",
       "      <th>2</th>\n",
       "      <td>0</td>\n",
       "      <td>2021-11-03</td>\n",
       "      <td>1532</td>\n",
       "    </tr>\n",
       "    <tr>\n",
       "      <th>3</th>\n",
       "      <td>0</td>\n",
       "      <td>2021-11-04</td>\n",
       "      <td>1509</td>\n",
       "    </tr>\n",
       "    <tr>\n",
       "      <th>4</th>\n",
       "      <td>0</td>\n",
       "      <td>2021-11-05</td>\n",
       "      <td>1503</td>\n",
       "    </tr>\n",
       "  </tbody>\n",
       "</table>\n",
       "</div>"
      ],
      "text/plain": [
       "   groupid          dt  number_of_users\n",
       "0        0  2021-11-01             1497\n",
       "1        0  2021-11-02             1467\n",
       "2        0  2021-11-03             1532\n",
       "3        0  2021-11-04             1509\n",
       "4        0  2021-11-05             1503"
      ]
     },
     "execution_count": 24,
     "metadata": {},
     "output_type": "execute_result"
    }
   ],
   "source": [
    "data_count = data.groupby(['groupid','dt'])[\"userid\"].nunique().reset_index().rename(columns={\"userid\":\"number_of_users\"})\n",
    "data_count.head()"
   ]
  },
  {
   "cell_type": "code",
   "execution_count": 25,
   "id": "0a8eb879-a444-4ab7-ada0-8f6411e766f9",
   "metadata": {},
   "outputs": [
    {
     "data": {
      "text/html": [
       "\n",
       "<style>\n",
       "  #altair-viz-37383923473c4e739bb5d709a9ad43fc.vega-embed {\n",
       "    width: 100%;\n",
       "    display: flex;\n",
       "  }\n",
       "\n",
       "  #altair-viz-37383923473c4e739bb5d709a9ad43fc.vega-embed details,\n",
       "  #altair-viz-37383923473c4e739bb5d709a9ad43fc.vega-embed details summary {\n",
       "    position: relative;\n",
       "  }\n",
       "</style>\n",
       "<div id=\"altair-viz-37383923473c4e739bb5d709a9ad43fc\"></div>\n",
       "<script type=\"text/javascript\">\n",
       "  var VEGA_DEBUG = (typeof VEGA_DEBUG == \"undefined\") ? {} : VEGA_DEBUG;\n",
       "  (function(spec, embedOpt){\n",
       "    let outputDiv = document.currentScript.previousElementSibling;\n",
       "    if (outputDiv.id !== \"altair-viz-37383923473c4e739bb5d709a9ad43fc\") {\n",
       "      outputDiv = document.getElementById(\"altair-viz-37383923473c4e739bb5d709a9ad43fc\");\n",
       "    }\n",
       "\n",
       "    const paths = {\n",
       "      \"vega\": \"https://cdn.jsdelivr.net/npm/vega@5?noext\",\n",
       "      \"vega-lib\": \"https://cdn.jsdelivr.net/npm/vega-lib?noext\",\n",
       "      \"vega-lite\": \"https://cdn.jsdelivr.net/npm/vega-lite@5.20.1?noext\",\n",
       "      \"vega-embed\": \"https://cdn.jsdelivr.net/npm/vega-embed@6?noext\",\n",
       "    };\n",
       "\n",
       "    function maybeLoadScript(lib, version) {\n",
       "      var key = `${lib.replace(\"-\", \"\")}_version`;\n",
       "      return (VEGA_DEBUG[key] == version) ?\n",
       "        Promise.resolve(paths[lib]) :\n",
       "        new Promise(function(resolve, reject) {\n",
       "          var s = document.createElement('script');\n",
       "          document.getElementsByTagName(\"head\")[0].appendChild(s);\n",
       "          s.async = true;\n",
       "          s.onload = () => {\n",
       "            VEGA_DEBUG[key] = version;\n",
       "            return resolve(paths[lib]);\n",
       "          };\n",
       "          s.onerror = () => reject(`Error loading script: ${paths[lib]}`);\n",
       "          s.src = paths[lib];\n",
       "        });\n",
       "    }\n",
       "\n",
       "    function showError(err) {\n",
       "      outputDiv.innerHTML = `<div class=\"error\" style=\"color:red;\">${err}</div>`;\n",
       "      throw err;\n",
       "    }\n",
       "\n",
       "    function displayChart(vegaEmbed) {\n",
       "      vegaEmbed(outputDiv, spec, embedOpt)\n",
       "        .catch(err => showError(`Javascript Error: ${err.message}<br>This usually means there's a typo in your chart specification. See the javascript console for the full traceback.`));\n",
       "    }\n",
       "\n",
       "    if(typeof define === \"function\" && define.amd) {\n",
       "      requirejs.config({paths});\n",
       "      let deps = [\"vega-embed\"];\n",
       "      require(deps, displayChart, err => showError(`Error loading script: ${err.message}`));\n",
       "    } else {\n",
       "      maybeLoadScript(\"vega\", \"5\")\n",
       "        .then(() => maybeLoadScript(\"vega-lite\", \"5.20.1\"))\n",
       "        .then(() => maybeLoadScript(\"vega-embed\", \"6\"))\n",
       "        .catch(showError)\n",
       "        .then(() => displayChart(vegaEmbed));\n",
       "    }\n",
       "  })({\"config\": {\"view\": {\"continuousWidth\": 300, \"continuousHeight\": 300}}, \"data\": {\"name\": \"data-6f450ddf6bf197861a1355a37af818f5\"}, \"mark\": {\"type\": \"line\", \"size\": 3}, \"encoding\": {\"color\": {\"field\": \"groupid\", \"type\": \"ordinal\"}, \"tooltip\": [{\"field\": \"number_of_users\", \"type\": \"quantitative\"}], \"x\": {\"field\": \"dt\", \"type\": \"temporal\"}, \"y\": {\"field\": \"number_of_users\", \"type\": \"quantitative\"}}, \"height\": 400, \"width\": 600, \"$schema\": \"https://vega.github.io/schema/vega-lite/v5.20.1.json\", \"datasets\": {\"data-6f450ddf6bf197861a1355a37af818f5\": [{\"groupid\": 0, \"dt\": \"2021-11-01\", \"number_of_users\": 1497}, {\"groupid\": 0, \"dt\": \"2021-11-02\", \"number_of_users\": 1467}, {\"groupid\": 0, \"dt\": \"2021-11-03\", \"number_of_users\": 1532}, {\"groupid\": 0, \"dt\": \"2021-11-04\", \"number_of_users\": 1509}, {\"groupid\": 0, \"dt\": \"2021-11-05\", \"number_of_users\": 1503}, {\"groupid\": 0, \"dt\": \"2021-11-06\", \"number_of_users\": 1510}, {\"groupid\": 0, \"dt\": \"2021-11-07\", \"number_of_users\": 1505}, {\"groupid\": 0, \"dt\": \"2021-11-08\", \"number_of_users\": 1517}, {\"groupid\": 0, \"dt\": \"2021-11-09\", \"number_of_users\": 1541}, {\"groupid\": 0, \"dt\": \"2021-11-10\", \"number_of_users\": 1505}, {\"groupid\": 0, \"dt\": \"2021-11-11\", \"number_of_users\": 1495}, {\"groupid\": 0, \"dt\": \"2021-11-12\", \"number_of_users\": 1464}, {\"groupid\": 0, \"dt\": \"2021-11-13\", \"number_of_users\": 1455}, {\"groupid\": 0, \"dt\": \"2021-11-14\", \"number_of_users\": 1495}, {\"groupid\": 0, \"dt\": \"2021-11-15\", \"number_of_users\": 1513}, {\"groupid\": 0, \"dt\": \"2021-11-16\", \"number_of_users\": 1436}, {\"groupid\": 0, \"dt\": \"2021-11-17\", \"number_of_users\": 1490}, {\"groupid\": 0, \"dt\": \"2021-11-18\", \"number_of_users\": 1517}, {\"groupid\": 0, \"dt\": \"2021-11-19\", \"number_of_users\": 1496}, {\"groupid\": 0, \"dt\": \"2021-11-20\", \"number_of_users\": 1504}, {\"groupid\": 1, \"dt\": \"2021-11-01\", \"number_of_users\": 1504}, {\"groupid\": 1, \"dt\": \"2021-11-02\", \"number_of_users\": 1464}, {\"groupid\": 1, \"dt\": \"2021-11-03\", \"number_of_users\": 1510}, {\"groupid\": 1, \"dt\": \"2021-11-04\", \"number_of_users\": 1507}, {\"groupid\": 1, \"dt\": \"2021-11-05\", \"number_of_users\": 1519}, {\"groupid\": 1, \"dt\": \"2021-11-06\", \"number_of_users\": 1538}, {\"groupid\": 1, \"dt\": \"2021-11-07\", \"number_of_users\": 1516}, {\"groupid\": 1, \"dt\": \"2021-11-08\", \"number_of_users\": 1443}, {\"groupid\": 1, \"dt\": \"2021-11-09\", \"number_of_users\": 1454}, {\"groupid\": 1, \"dt\": \"2021-11-10\", \"number_of_users\": 1506}, {\"groupid\": 1, \"dt\": \"2021-11-11\", \"number_of_users\": 1477}, {\"groupid\": 1, \"dt\": \"2021-11-12\", \"number_of_users\": 1532}, {\"groupid\": 1, \"dt\": \"2021-11-13\", \"number_of_users\": 1522}, {\"groupid\": 1, \"dt\": \"2021-11-14\", \"number_of_users\": 1482}, {\"groupid\": 1, \"dt\": \"2021-11-15\", \"number_of_users\": 1524}, {\"groupid\": 1, \"dt\": \"2021-11-16\", \"number_of_users\": 1509}, {\"groupid\": 1, \"dt\": \"2021-11-17\", \"number_of_users\": 1462}, {\"groupid\": 1, \"dt\": \"2021-11-18\", \"number_of_users\": 1529}, {\"groupid\": 1, \"dt\": \"2021-11-19\", \"number_of_users\": 1494}, {\"groupid\": 1, \"dt\": \"2021-11-20\", \"number_of_users\": 1557}]}}, {\"mode\": \"vega-lite\"});\n",
       "</script>"
      ],
      "text/plain": [
       "alt.Chart(...)"
      ]
     },
     "execution_count": 25,
     "metadata": {},
     "output_type": "execute_result"
    }
   ],
   "source": [
    "alt.Chart(data_count).mark_line(size=3).encode(\n",
    "    alt.X('dt:T'),\n",
    "    alt.Y('number_of_users:Q'),\n",
    "    color='groupid:O',\n",
    "    tooltip=['number_of_users']\n",
    ").properties(\n",
    "    width=600,\n",
    "    height=400\n",
    ")"
   ]
  },
  {
   "cell_type": "markdown",
   "id": "2dccbbc0-7a88-49ca-a467-d01a879256fc",
   "metadata": {},
   "source": [
    "# Comparing Activity (activeness and activity_level) between the Groups:"
   ]
  },
  {
   "cell_type": "code",
   "execution_count": 26,
   "id": "cc95293a-6286-4ee7-a8a9-ccf036f69a5b",
   "metadata": {},
   "outputs": [
    {
     "data": {
      "text/html": [
       "<div>\n",
       "<style scoped>\n",
       "    .dataframe tbody tr th:only-of-type {\n",
       "        vertical-align: middle;\n",
       "    }\n",
       "\n",
       "    .dataframe tbody tr th {\n",
       "        vertical-align: top;\n",
       "    }\n",
       "\n",
       "    .dataframe thead th {\n",
       "        text-align: right;\n",
       "    }\n",
       "</style>\n",
       "<table border=\"1\" class=\"dataframe\">\n",
       "  <thead>\n",
       "    <tr style=\"text-align: right;\">\n",
       "      <th></th>\n",
       "      <th>userid</th>\n",
       "      <th>dt</th>\n",
       "      <th>groupid</th>\n",
       "      <th>activity_level</th>\n",
       "    </tr>\n",
       "  </thead>\n",
       "  <tbody>\n",
       "    <tr>\n",
       "      <th>0</th>\n",
       "      <td>a5b70ae7-f07c-4773-9df4-ce112bc9dc48</td>\n",
       "      <td>2021-10-01</td>\n",
       "      <td>0</td>\n",
       "      <td>0</td>\n",
       "    </tr>\n",
       "    <tr>\n",
       "      <th>1</th>\n",
       "      <td>d2646662-269f-49de-aab1-8776afced9a3</td>\n",
       "      <td>2021-10-01</td>\n",
       "      <td>0</td>\n",
       "      <td>0</td>\n",
       "    </tr>\n",
       "    <tr>\n",
       "      <th>2</th>\n",
       "      <td>c4d1cfa8-283d-49ad-a894-90aedc39c798</td>\n",
       "      <td>2021-10-01</td>\n",
       "      <td>1</td>\n",
       "      <td>0</td>\n",
       "    </tr>\n",
       "    <tr>\n",
       "      <th>3</th>\n",
       "      <td>6889f87f-5356-4904-a35a-6ea5020011db</td>\n",
       "      <td>2021-10-01</td>\n",
       "      <td>0</td>\n",
       "      <td>0</td>\n",
       "    </tr>\n",
       "    <tr>\n",
       "      <th>4</th>\n",
       "      <td>dbee604c-474a-4c9d-b013-508e5a0e3059</td>\n",
       "      <td>2021-10-01</td>\n",
       "      <td>1</td>\n",
       "      <td>0</td>\n",
       "    </tr>\n",
       "  </tbody>\n",
       "</table>\n",
       "</div>"
      ],
      "text/plain": [
       "                                 userid          dt  groupid  activity_level\n",
       "0  a5b70ae7-f07c-4773-9df4-ce112bc9dc48  2021-10-01        0               0\n",
       "1  d2646662-269f-49de-aab1-8776afced9a3  2021-10-01        0               0\n",
       "2  c4d1cfa8-283d-49ad-a894-90aedc39c798  2021-10-01        1               0\n",
       "3  6889f87f-5356-4904-a35a-6ea5020011db  2021-10-01        0               0\n",
       "4  dbee604c-474a-4c9d-b013-508e5a0e3059  2021-10-01        1               0"
      ]
     },
     "execution_count": 26,
     "metadata": {},
     "output_type": "execute_result"
    }
   ],
   "source": [
    "data_act = pd.read_csv(\"Activity_all.csv\")\n",
    "data_act.head()"
   ]
  },
  {
   "cell_type": "code",
   "execution_count": 27,
   "id": "90b687ed-da11-4c41-87e5-7f0f705b54b1",
   "metadata": {},
   "outputs": [
    {
     "data": {
      "text/html": [
       "<div>\n",
       "<style scoped>\n",
       "    .dataframe tbody tr th:only-of-type {\n",
       "        vertical-align: middle;\n",
       "    }\n",
       "\n",
       "    .dataframe tbody tr th {\n",
       "        vertical-align: top;\n",
       "    }\n",
       "\n",
       "    .dataframe thead tr th {\n",
       "        text-align: left;\n",
       "    }\n",
       "\n",
       "    .dataframe thead tr:last-of-type th {\n",
       "        text-align: right;\n",
       "    }\n",
       "</style>\n",
       "<table border=\"1\" class=\"dataframe\">\n",
       "  <thead>\n",
       "    <tr>\n",
       "      <th></th>\n",
       "      <th></th>\n",
       "      <th colspan=\"8\" halign=\"left\">activity_level</th>\n",
       "    </tr>\n",
       "    <tr>\n",
       "      <th></th>\n",
       "      <th></th>\n",
       "      <th>count</th>\n",
       "      <th>mean</th>\n",
       "      <th>std</th>\n",
       "      <th>min</th>\n",
       "      <th>25%</th>\n",
       "      <th>50%</th>\n",
       "      <th>75%</th>\n",
       "      <th>max</th>\n",
       "    </tr>\n",
       "    <tr>\n",
       "      <th>groupid</th>\n",
       "      <th>dt</th>\n",
       "      <th></th>\n",
       "      <th></th>\n",
       "      <th></th>\n",
       "      <th></th>\n",
       "      <th></th>\n",
       "      <th></th>\n",
       "      <th></th>\n",
       "      <th></th>\n",
       "    </tr>\n",
       "  </thead>\n",
       "  <tbody>\n",
       "    <tr>\n",
       "      <th rowspan=\"5\" valign=\"top\">0</th>\n",
       "      <th>2021-10-01</th>\n",
       "      <td>29951.0</td>\n",
       "      <td>5.24</td>\n",
       "      <td>6.52</td>\n",
       "      <td>0.0</td>\n",
       "      <td>0.0</td>\n",
       "      <td>1.0</td>\n",
       "      <td>10.0</td>\n",
       "      <td>20.0</td>\n",
       "    </tr>\n",
       "    <tr>\n",
       "      <th>2021-10-02</th>\n",
       "      <td>29951.0</td>\n",
       "      <td>5.26</td>\n",
       "      <td>6.51</td>\n",
       "      <td>0.0</td>\n",
       "      <td>0.0</td>\n",
       "      <td>1.0</td>\n",
       "      <td>10.0</td>\n",
       "      <td>20.0</td>\n",
       "    </tr>\n",
       "    <tr>\n",
       "      <th>2021-10-03</th>\n",
       "      <td>29951.0</td>\n",
       "      <td>5.27</td>\n",
       "      <td>6.51</td>\n",
       "      <td>0.0</td>\n",
       "      <td>0.0</td>\n",
       "      <td>1.0</td>\n",
       "      <td>10.0</td>\n",
       "      <td>20.0</td>\n",
       "    </tr>\n",
       "    <tr>\n",
       "      <th>2021-10-04</th>\n",
       "      <td>29951.0</td>\n",
       "      <td>5.21</td>\n",
       "      <td>6.51</td>\n",
       "      <td>0.0</td>\n",
       "      <td>0.0</td>\n",
       "      <td>1.0</td>\n",
       "      <td>10.0</td>\n",
       "      <td>20.0</td>\n",
       "    </tr>\n",
       "    <tr>\n",
       "      <th>2021-10-05</th>\n",
       "      <td>29951.0</td>\n",
       "      <td>5.18</td>\n",
       "      <td>6.51</td>\n",
       "      <td>0.0</td>\n",
       "      <td>0.0</td>\n",
       "      <td>1.0</td>\n",
       "      <td>10.0</td>\n",
       "      <td>20.0</td>\n",
       "    </tr>\n",
       "    <tr>\n",
       "      <th>...</th>\n",
       "      <th>...</th>\n",
       "      <td>...</td>\n",
       "      <td>...</td>\n",
       "      <td>...</td>\n",
       "      <td>...</td>\n",
       "      <td>...</td>\n",
       "      <td>...</td>\n",
       "      <td>...</td>\n",
       "      <td>...</td>\n",
       "    </tr>\n",
       "    <tr>\n",
       "      <th rowspan=\"5\" valign=\"top\">1</th>\n",
       "      <th>2021-11-26</th>\n",
       "      <td>30049.0</td>\n",
       "      <td>10.03</td>\n",
       "      <td>5.77</td>\n",
       "      <td>0.0</td>\n",
       "      <td>5.0</td>\n",
       "      <td>10.0</td>\n",
       "      <td>15.0</td>\n",
       "      <td>20.0</td>\n",
       "    </tr>\n",
       "    <tr>\n",
       "      <th>2021-11-27</th>\n",
       "      <td>30049.0</td>\n",
       "      <td>10.03</td>\n",
       "      <td>5.77</td>\n",
       "      <td>0.0</td>\n",
       "      <td>5.0</td>\n",
       "      <td>10.0</td>\n",
       "      <td>15.0</td>\n",
       "      <td>20.0</td>\n",
       "    </tr>\n",
       "    <tr>\n",
       "      <th>2021-11-28</th>\n",
       "      <td>30049.0</td>\n",
       "      <td>9.98</td>\n",
       "      <td>5.79</td>\n",
       "      <td>0.0</td>\n",
       "      <td>5.0</td>\n",
       "      <td>10.0</td>\n",
       "      <td>15.0</td>\n",
       "      <td>20.0</td>\n",
       "    </tr>\n",
       "    <tr>\n",
       "      <th>2021-11-29</th>\n",
       "      <td>30049.0</td>\n",
       "      <td>9.97</td>\n",
       "      <td>5.80</td>\n",
       "      <td>0.0</td>\n",
       "      <td>5.0</td>\n",
       "      <td>10.0</td>\n",
       "      <td>15.0</td>\n",
       "      <td>20.0</td>\n",
       "    </tr>\n",
       "    <tr>\n",
       "      <th>2021-11-30</th>\n",
       "      <td>30049.0</td>\n",
       "      <td>9.96</td>\n",
       "      <td>5.76</td>\n",
       "      <td>0.0</td>\n",
       "      <td>5.0</td>\n",
       "      <td>10.0</td>\n",
       "      <td>15.0</td>\n",
       "      <td>20.0</td>\n",
       "    </tr>\n",
       "  </tbody>\n",
       "</table>\n",
       "<p>122 rows × 8 columns</p>\n",
       "</div>"
      ],
      "text/plain": [
       "                   activity_level                                         \n",
       "                            count   mean   std  min  25%   50%   75%   max\n",
       "groupid dt                                                                \n",
       "0       2021-10-01        29951.0   5.24  6.52  0.0  0.0   1.0  10.0  20.0\n",
       "        2021-10-02        29951.0   5.26  6.51  0.0  0.0   1.0  10.0  20.0\n",
       "        2021-10-03        29951.0   5.27  6.51  0.0  0.0   1.0  10.0  20.0\n",
       "        2021-10-04        29951.0   5.21  6.51  0.0  0.0   1.0  10.0  20.0\n",
       "        2021-10-05        29951.0   5.18  6.51  0.0  0.0   1.0  10.0  20.0\n",
       "...                           ...    ...   ...  ...  ...   ...   ...   ...\n",
       "1       2021-11-26        30049.0  10.03  5.77  0.0  5.0  10.0  15.0  20.0\n",
       "        2021-11-27        30049.0  10.03  5.77  0.0  5.0  10.0  15.0  20.0\n",
       "        2021-11-28        30049.0   9.98  5.79  0.0  5.0  10.0  15.0  20.0\n",
       "        2021-11-29        30049.0   9.97  5.80  0.0  5.0  10.0  15.0  20.0\n",
       "        2021-11-30        30049.0   9.96  5.76  0.0  5.0  10.0  15.0  20.0\n",
       "\n",
       "[122 rows x 8 columns]"
      ]
     },
     "execution_count": 27,
     "metadata": {},
     "output_type": "execute_result"
    }
   ],
   "source": [
    "data_act.groupby(['groupid','dt']).describe().round(2)"
   ]
  },
  {
   "cell_type": "markdown",
   "id": "a8ff9640-f2ae-49d7-8277-22e836041463",
   "metadata": {},
   "source": [
    "#### We can clearly observe that the Mean and Median Activity Level of the Test Group (who were exposed to the new ads) is way higher than the Control Group (who were not exposed to the new ads)"
   ]
  },
  {
   "cell_type": "code",
   "execution_count": 28,
   "id": "5b2107b5-6d9c-4b42-aa70-4b60f124490b",
   "metadata": {},
   "outputs": [
    {
     "data": {
      "text/html": [
       "<div>\n",
       "<style scoped>\n",
       "    .dataframe tbody tr th:only-of-type {\n",
       "        vertical-align: middle;\n",
       "    }\n",
       "\n",
       "    .dataframe tbody tr th {\n",
       "        vertical-align: top;\n",
       "    }\n",
       "\n",
       "    .dataframe thead th {\n",
       "        text-align: right;\n",
       "    }\n",
       "</style>\n",
       "<table border=\"1\" class=\"dataframe\">\n",
       "  <thead>\n",
       "    <tr style=\"text-align: right;\">\n",
       "      <th></th>\n",
       "      <th>dt</th>\n",
       "      <th>groupid</th>\n",
       "      <th>number_of_active_users</th>\n",
       "    </tr>\n",
       "  </thead>\n",
       "  <tbody>\n",
       "    <tr>\n",
       "      <th>0</th>\n",
       "      <td>2021-10-01</td>\n",
       "      <td>0</td>\n",
       "      <td>15337</td>\n",
       "    </tr>\n",
       "    <tr>\n",
       "      <th>1</th>\n",
       "      <td>2021-10-01</td>\n",
       "      <td>1</td>\n",
       "      <td>15297</td>\n",
       "    </tr>\n",
       "    <tr>\n",
       "      <th>2</th>\n",
       "      <td>2021-10-02</td>\n",
       "      <td>0</td>\n",
       "      <td>15354</td>\n",
       "    </tr>\n",
       "    <tr>\n",
       "      <th>3</th>\n",
       "      <td>2021-10-02</td>\n",
       "      <td>1</td>\n",
       "      <td>15421</td>\n",
       "    </tr>\n",
       "    <tr>\n",
       "      <th>4</th>\n",
       "      <td>2021-10-03</td>\n",
       "      <td>0</td>\n",
       "      <td>15423</td>\n",
       "    </tr>\n",
       "  </tbody>\n",
       "</table>\n",
       "</div>"
      ],
      "text/plain": [
       "           dt  groupid  number_of_active_users\n",
       "0  2021-10-01        0                   15337\n",
       "1  2021-10-01        1                   15297\n",
       "2  2021-10-02        0                   15354\n",
       "3  2021-10-02        1                   15421\n",
       "4  2021-10-03        0                   15423"
      ]
     },
     "execution_count": 28,
     "metadata": {},
     "output_type": "execute_result"
    }
   ],
   "source": [
    "data_act.query('activity_level > 0').groupby(['dt', 'groupid'])['userid'].nunique().reset_index().rename(columns={\"userid\":\"number_of_active_users\"}).head()"
   ]
  },
  {
   "cell_type": "code",
   "execution_count": 29,
   "id": "b2e28ff3-f1ee-4814-8e98-13dd9a1f2152",
   "metadata": {},
   "outputs": [
    {
     "data": {
      "text/html": [
       "\n",
       "<style>\n",
       "  #altair-viz-d2416c7bcb2f455aba67d8ec38f93dd2.vega-embed {\n",
       "    width: 100%;\n",
       "    display: flex;\n",
       "  }\n",
       "\n",
       "  #altair-viz-d2416c7bcb2f455aba67d8ec38f93dd2.vega-embed details,\n",
       "  #altair-viz-d2416c7bcb2f455aba67d8ec38f93dd2.vega-embed details summary {\n",
       "    position: relative;\n",
       "  }\n",
       "</style>\n",
       "<div id=\"altair-viz-d2416c7bcb2f455aba67d8ec38f93dd2\"></div>\n",
       "<script type=\"text/javascript\">\n",
       "  var VEGA_DEBUG = (typeof VEGA_DEBUG == \"undefined\") ? {} : VEGA_DEBUG;\n",
       "  (function(spec, embedOpt){\n",
       "    let outputDiv = document.currentScript.previousElementSibling;\n",
       "    if (outputDiv.id !== \"altair-viz-d2416c7bcb2f455aba67d8ec38f93dd2\") {\n",
       "      outputDiv = document.getElementById(\"altair-viz-d2416c7bcb2f455aba67d8ec38f93dd2\");\n",
       "    }\n",
       "\n",
       "    const paths = {\n",
       "      \"vega\": \"https://cdn.jsdelivr.net/npm/vega@5?noext\",\n",
       "      \"vega-lib\": \"https://cdn.jsdelivr.net/npm/vega-lib?noext\",\n",
       "      \"vega-lite\": \"https://cdn.jsdelivr.net/npm/vega-lite@5.20.1?noext\",\n",
       "      \"vega-embed\": \"https://cdn.jsdelivr.net/npm/vega-embed@6?noext\",\n",
       "    };\n",
       "\n",
       "    function maybeLoadScript(lib, version) {\n",
       "      var key = `${lib.replace(\"-\", \"\")}_version`;\n",
       "      return (VEGA_DEBUG[key] == version) ?\n",
       "        Promise.resolve(paths[lib]) :\n",
       "        new Promise(function(resolve, reject) {\n",
       "          var s = document.createElement('script');\n",
       "          document.getElementsByTagName(\"head\")[0].appendChild(s);\n",
       "          s.async = true;\n",
       "          s.onload = () => {\n",
       "            VEGA_DEBUG[key] = version;\n",
       "            return resolve(paths[lib]);\n",
       "          };\n",
       "          s.onerror = () => reject(`Error loading script: ${paths[lib]}`);\n",
       "          s.src = paths[lib];\n",
       "        });\n",
       "    }\n",
       "\n",
       "    function showError(err) {\n",
       "      outputDiv.innerHTML = `<div class=\"error\" style=\"color:red;\">${err}</div>`;\n",
       "      throw err;\n",
       "    }\n",
       "\n",
       "    function displayChart(vegaEmbed) {\n",
       "      vegaEmbed(outputDiv, spec, embedOpt)\n",
       "        .catch(err => showError(`Javascript Error: ${err.message}<br>This usually means there's a typo in your chart specification. See the javascript console for the full traceback.`));\n",
       "    }\n",
       "\n",
       "    if(typeof define === \"function\" && define.amd) {\n",
       "      requirejs.config({paths});\n",
       "      let deps = [\"vega-embed\"];\n",
       "      require(deps, displayChart, err => showError(`Error loading script: ${err.message}`));\n",
       "    } else {\n",
       "      maybeLoadScript(\"vega\", \"5\")\n",
       "        .then(() => maybeLoadScript(\"vega-lite\", \"5.20.1\"))\n",
       "        .then(() => maybeLoadScript(\"vega-embed\", \"6\"))\n",
       "        .catch(showError)\n",
       "        .then(() => displayChart(vegaEmbed));\n",
       "    }\n",
       "  })({\"config\": {\"view\": {\"continuousWidth\": 300, \"continuousHeight\": 300}}, \"data\": {\"name\": \"data-9da9e7d606f29c90aaa89dff1333ed1c\"}, \"mark\": {\"type\": \"line\", \"size\": 3}, \"encoding\": {\"color\": {\"field\": \"groupid\", \"type\": \"ordinal\"}, \"tooltip\": [{\"field\": \"number_of_active_users\", \"type\": \"quantitative\"}], \"x\": {\"field\": \"dt\", \"type\": \"nominal\"}, \"y\": {\"field\": \"number_of_active_users\", \"type\": \"quantitative\"}}, \"height\": 600, \"width\": 900, \"$schema\": \"https://vega.github.io/schema/vega-lite/v5.20.1.json\", \"datasets\": {\"data-9da9e7d606f29c90aaa89dff1333ed1c\": [{\"dt\": \"2021-10-01\", \"groupid\": 0, \"number_of_active_users\": 15337}, {\"dt\": \"2021-10-01\", \"groupid\": 1, \"number_of_active_users\": 15297}, {\"dt\": \"2021-10-02\", \"groupid\": 0, \"number_of_active_users\": 15354}, {\"dt\": \"2021-10-02\", \"groupid\": 1, \"number_of_active_users\": 15421}, {\"dt\": \"2021-10-03\", \"groupid\": 0, \"number_of_active_users\": 15423}, {\"dt\": \"2021-10-03\", \"groupid\": 1, \"number_of_active_users\": 15362}, {\"dt\": \"2021-10-04\", \"groupid\": 0, \"number_of_active_users\": 15211}, {\"dt\": \"2021-10-04\", \"groupid\": 1, \"number_of_active_users\": 15388}, {\"dt\": \"2021-10-05\", \"groupid\": 0, \"number_of_active_users\": 15126}, {\"dt\": \"2021-10-05\", \"groupid\": 1, \"number_of_active_users\": 15462}, {\"dt\": \"2021-10-06\", \"groupid\": 0, \"number_of_active_users\": 15335}, {\"dt\": \"2021-10-06\", \"groupid\": 1, \"number_of_active_users\": 15304}, {\"dt\": \"2021-10-07\", \"groupid\": 0, \"number_of_active_users\": 15346}, {\"dt\": \"2021-10-07\", \"groupid\": 1, \"number_of_active_users\": 15291}, {\"dt\": \"2021-10-08\", \"groupid\": 0, \"number_of_active_users\": 15357}, {\"dt\": \"2021-10-08\", \"groupid\": 1, \"number_of_active_users\": 15243}, {\"dt\": \"2021-10-09\", \"groupid\": 0, \"number_of_active_users\": 15371}, {\"dt\": \"2021-10-09\", \"groupid\": 1, \"number_of_active_users\": 15531}, {\"dt\": \"2021-10-10\", \"groupid\": 0, \"number_of_active_users\": 15277}, {\"dt\": \"2021-10-10\", \"groupid\": 1, \"number_of_active_users\": 15304}, {\"dt\": \"2021-10-11\", \"groupid\": 0, \"number_of_active_users\": 15226}, {\"dt\": \"2021-10-11\", \"groupid\": 1, \"number_of_active_users\": 15263}, {\"dt\": \"2021-10-12\", \"groupid\": 0, \"number_of_active_users\": 15290}, {\"dt\": \"2021-10-12\", \"groupid\": 1, \"number_of_active_users\": 15425}, {\"dt\": \"2021-10-13\", \"groupid\": 0, \"number_of_active_users\": 15334}, {\"dt\": \"2021-10-13\", \"groupid\": 1, \"number_of_active_users\": 15427}, {\"dt\": \"2021-10-14\", \"groupid\": 0, \"number_of_active_users\": 15295}, {\"dt\": \"2021-10-14\", \"groupid\": 1, \"number_of_active_users\": 15421}, {\"dt\": \"2021-10-15\", \"groupid\": 0, \"number_of_active_users\": 15277}, {\"dt\": \"2021-10-15\", \"groupid\": 1, \"number_of_active_users\": 15360}, {\"dt\": \"2021-10-16\", \"groupid\": 0, \"number_of_active_users\": 15348}, {\"dt\": \"2021-10-16\", \"groupid\": 1, \"number_of_active_users\": 15360}, {\"dt\": \"2021-10-17\", \"groupid\": 0, \"number_of_active_users\": 15430}, {\"dt\": \"2021-10-17\", \"groupid\": 1, \"number_of_active_users\": 15311}, {\"dt\": \"2021-10-18\", \"groupid\": 0, \"number_of_active_users\": 15244}, {\"dt\": \"2021-10-18\", \"groupid\": 1, \"number_of_active_users\": 15450}, {\"dt\": \"2021-10-19\", \"groupid\": 0, \"number_of_active_users\": 15303}, {\"dt\": \"2021-10-19\", \"groupid\": 1, \"number_of_active_users\": 15284}, {\"dt\": \"2021-10-20\", \"groupid\": 0, \"number_of_active_users\": 15382}, {\"dt\": \"2021-10-20\", \"groupid\": 1, \"number_of_active_users\": 15413}, {\"dt\": \"2021-10-21\", \"groupid\": 0, \"number_of_active_users\": 15431}, {\"dt\": \"2021-10-21\", \"groupid\": 1, \"number_of_active_users\": 15274}, {\"dt\": \"2021-10-22\", \"groupid\": 0, \"number_of_active_users\": 15356}, {\"dt\": \"2021-10-22\", \"groupid\": 1, \"number_of_active_users\": 15217}, {\"dt\": \"2021-10-23\", \"groupid\": 0, \"number_of_active_users\": 15151}, {\"dt\": \"2021-10-23\", \"groupid\": 1, \"number_of_active_users\": 15494}, {\"dt\": \"2021-10-24\", \"groupid\": 0, \"number_of_active_users\": 15512}, {\"dt\": \"2021-10-24\", \"groupid\": 1, \"number_of_active_users\": 15303}, {\"dt\": \"2021-10-25\", \"groupid\": 0, \"number_of_active_users\": 15351}, {\"dt\": \"2021-10-25\", \"groupid\": 1, \"number_of_active_users\": 15265}, {\"dt\": \"2021-10-26\", \"groupid\": 0, \"number_of_active_users\": 15280}, {\"dt\": \"2021-10-26\", \"groupid\": 1, \"number_of_active_users\": 15393}, {\"dt\": \"2021-10-27\", \"groupid\": 0, \"number_of_active_users\": 15459}, {\"dt\": \"2021-10-27\", \"groupid\": 1, \"number_of_active_users\": 15202}, {\"dt\": \"2021-10-28\", \"groupid\": 0, \"number_of_active_users\": 15434}, {\"dt\": \"2021-10-28\", \"groupid\": 1, \"number_of_active_users\": 15300}, {\"dt\": \"2021-10-29\", \"groupid\": 0, \"number_of_active_users\": 15214}, {\"dt\": \"2021-10-29\", \"groupid\": 1, \"number_of_active_users\": 15509}, {\"dt\": \"2021-10-30\", \"groupid\": 0, \"number_of_active_users\": 15285}, {\"dt\": \"2021-10-30\", \"groupid\": 1, \"number_of_active_users\": 15343}, {\"dt\": \"2021-10-31\", \"groupid\": 0, \"number_of_active_users\": 15208}, {\"dt\": \"2021-10-31\", \"groupid\": 1, \"number_of_active_users\": 15311}, {\"dt\": \"2021-11-01\", \"groupid\": 0, \"number_of_active_users\": 15989}, {\"dt\": \"2021-11-01\", \"groupid\": 1, \"number_of_active_users\": 29318}, {\"dt\": \"2021-11-02\", \"groupid\": 0, \"number_of_active_users\": 16024}, {\"dt\": \"2021-11-02\", \"groupid\": 1, \"number_of_active_users\": 29289}, {\"dt\": \"2021-11-03\", \"groupid\": 0, \"number_of_active_users\": 16049}, {\"dt\": \"2021-11-03\", \"groupid\": 1, \"number_of_active_users\": 29306}, {\"dt\": \"2021-11-04\", \"groupid\": 0, \"number_of_active_users\": 16040}, {\"dt\": \"2021-11-04\", \"groupid\": 1, \"number_of_active_users\": 29267}, {\"dt\": \"2021-11-05\", \"groupid\": 0, \"number_of_active_users\": 16045}, {\"dt\": \"2021-11-05\", \"groupid\": 1, \"number_of_active_users\": 29336}, {\"dt\": \"2021-11-06\", \"groupid\": 0, \"number_of_active_users\": 15991}, {\"dt\": \"2021-11-06\", \"groupid\": 1, \"number_of_active_users\": 29306}, {\"dt\": \"2021-11-07\", \"groupid\": 0, \"number_of_active_users\": 16133}, {\"dt\": \"2021-11-07\", \"groupid\": 1, \"number_of_active_users\": 29255}, {\"dt\": \"2021-11-08\", \"groupid\": 0, \"number_of_active_users\": 16119}, {\"dt\": \"2021-11-08\", \"groupid\": 1, \"number_of_active_users\": 29263}, {\"dt\": \"2021-11-09\", \"groupid\": 0, \"number_of_active_users\": 15953}, {\"dt\": \"2021-11-09\", \"groupid\": 1, \"number_of_active_users\": 29286}, {\"dt\": \"2021-11-10\", \"groupid\": 0, \"number_of_active_users\": 15990}, {\"dt\": \"2021-11-10\", \"groupid\": 1, \"number_of_active_users\": 29340}, {\"dt\": \"2021-11-11\", \"groupid\": 0, \"number_of_active_users\": 16045}, {\"dt\": \"2021-11-11\", \"groupid\": 1, \"number_of_active_users\": 29349}, {\"dt\": \"2021-11-12\", \"groupid\": 0, \"number_of_active_users\": 15859}, {\"dt\": \"2021-11-12\", \"groupid\": 1, \"number_of_active_users\": 29278}, {\"dt\": \"2021-11-13\", \"groupid\": 0, \"number_of_active_users\": 15973}, {\"dt\": \"2021-11-13\", \"groupid\": 1, \"number_of_active_users\": 29258}, {\"dt\": \"2021-11-14\", \"groupid\": 0, \"number_of_active_users\": 16016}, {\"dt\": \"2021-11-14\", \"groupid\": 1, \"number_of_active_users\": 29322}, {\"dt\": \"2021-11-15\", \"groupid\": 0, \"number_of_active_users\": 16112}, {\"dt\": \"2021-11-15\", \"groupid\": 1, \"number_of_active_users\": 29337}, {\"dt\": \"2021-11-16\", \"groupid\": 0, \"number_of_active_users\": 16147}, {\"dt\": \"2021-11-16\", \"groupid\": 1, \"number_of_active_users\": 29300}, {\"dt\": \"2021-11-17\", \"groupid\": 0, \"number_of_active_users\": 16015}, {\"dt\": \"2021-11-17\", \"groupid\": 1, \"number_of_active_users\": 29296}, {\"dt\": \"2021-11-18\", \"groupid\": 0, \"number_of_active_users\": 16007}, {\"dt\": \"2021-11-18\", \"groupid\": 1, \"number_of_active_users\": 29274}, {\"dt\": \"2021-11-19\", \"groupid\": 0, \"number_of_active_users\": 16104}, {\"dt\": \"2021-11-19\", \"groupid\": 1, \"number_of_active_users\": 29292}, {\"dt\": \"2021-11-20\", \"groupid\": 0, \"number_of_active_users\": 16090}, {\"dt\": \"2021-11-20\", \"groupid\": 1, \"number_of_active_users\": 29329}, {\"dt\": \"2021-11-21\", \"groupid\": 0, \"number_of_active_users\": 15294}, {\"dt\": \"2021-11-21\", \"groupid\": 1, \"number_of_active_users\": 29309}, {\"dt\": \"2021-11-22\", \"groupid\": 0, \"number_of_active_users\": 15207}, {\"dt\": \"2021-11-22\", \"groupid\": 1, \"number_of_active_users\": 29278}, {\"dt\": \"2021-11-23\", \"groupid\": 0, \"number_of_active_users\": 15424}, {\"dt\": \"2021-11-23\", \"groupid\": 1, \"number_of_active_users\": 29300}, {\"dt\": \"2021-11-24\", \"groupid\": 0, \"number_of_active_users\": 15328}, {\"dt\": \"2021-11-24\", \"groupid\": 1, \"number_of_active_users\": 29287}, {\"dt\": \"2021-11-25\", \"groupid\": 0, \"number_of_active_users\": 15163}, {\"dt\": \"2021-11-25\", \"groupid\": 1, \"number_of_active_users\": 29301}, {\"dt\": \"2021-11-26\", \"groupid\": 0, \"number_of_active_users\": 15226}, {\"dt\": \"2021-11-26\", \"groupid\": 1, \"number_of_active_users\": 29303}, {\"dt\": \"2021-11-27\", \"groupid\": 0, \"number_of_active_users\": 15286}, {\"dt\": \"2021-11-27\", \"groupid\": 1, \"number_of_active_users\": 29350}, {\"dt\": \"2021-11-28\", \"groupid\": 0, \"number_of_active_users\": 15283}, {\"dt\": \"2021-11-28\", \"groupid\": 1, \"number_of_active_users\": 29273}, {\"dt\": \"2021-11-29\", \"groupid\": 0, \"number_of_active_users\": 15356}, {\"dt\": \"2021-11-29\", \"groupid\": 1, \"number_of_active_users\": 29289}, {\"dt\": \"2021-11-30\", \"groupid\": 0, \"number_of_active_users\": 15192}, {\"dt\": \"2021-11-30\", \"groupid\": 1, \"number_of_active_users\": 29382}]}}, {\"mode\": \"vega-lite\"});\n",
       "</script>"
      ],
      "text/plain": [
       "alt.Chart(...)"
      ]
     },
     "execution_count": 29,
     "metadata": {},
     "output_type": "execute_result"
    }
   ],
   "source": [
    "alt.Chart(data_act.query('activity_level > 0').groupby(['dt', 'groupid'])['userid'].nunique().reset_index().rename(columns={\"userid\":\"number_of_active_users\"})).mark_line(size=3).encode(\n",
    "    alt.X('dt'),\n",
    "    alt.Y('number_of_active_users'),\n",
    "    color='groupid:O',\n",
    "    tooltip=['number_of_active_users']\n",
    ").properties(\n",
    "    width=900,\n",
    "    height=600\n",
    ")"
   ]
  },
  {
   "cell_type": "markdown",
   "id": "f6737a23-4785-48b6-aa8c-d1a49ab7fcb0",
   "metadata": {},
   "source": [
    "##### So, we can see that after the test starts (1st of November, 2021) the test group (groupid = 1) has way more Number of Active Users. This is good for the business. The new adds aren't driving away our active users."
   ]
  },
  {
   "cell_type": "markdown",
   "id": "19b95621-7d80-4e20-8822-5a43efeadc4d",
   "metadata": {},
   "source": [
    "### Control Group's Active User's Statistics after the Test Starts:"
   ]
  },
  {
   "cell_type": "code",
   "execution_count": 30,
   "id": "fb7270d3-c560-484c-84f3-18bae4637ae7",
   "metadata": {},
   "outputs": [
    {
     "data": {
      "text/html": [
       "<div>\n",
       "<style scoped>\n",
       "    .dataframe tbody tr th:only-of-type {\n",
       "        vertical-align: middle;\n",
       "    }\n",
       "\n",
       "    .dataframe tbody tr th {\n",
       "        vertical-align: top;\n",
       "    }\n",
       "\n",
       "    .dataframe thead th {\n",
       "        text-align: right;\n",
       "    }\n",
       "</style>\n",
       "<table border=\"1\" class=\"dataframe\">\n",
       "  <thead>\n",
       "    <tr style=\"text-align: right;\">\n",
       "      <th></th>\n",
       "      <th>groupid</th>\n",
       "      <th>activity_level</th>\n",
       "    </tr>\n",
       "  </thead>\n",
       "  <tbody>\n",
       "    <tr>\n",
       "      <th>count</th>\n",
       "      <td>30.0</td>\n",
       "      <td>30.00</td>\n",
       "    </tr>\n",
       "    <tr>\n",
       "      <th>mean</th>\n",
       "      <td>0.0</td>\n",
       "      <td>15782.00</td>\n",
       "    </tr>\n",
       "    <tr>\n",
       "      <th>std</th>\n",
       "      <td>0.0</td>\n",
       "      <td>371.08</td>\n",
       "    </tr>\n",
       "    <tr>\n",
       "      <th>min</th>\n",
       "      <td>0.0</td>\n",
       "      <td>15163.00</td>\n",
       "    </tr>\n",
       "    <tr>\n",
       "      <th>25%</th>\n",
       "      <td>0.0</td>\n",
       "      <td>15335.00</td>\n",
       "    </tr>\n",
       "    <tr>\n",
       "      <th>50%</th>\n",
       "      <td>0.0</td>\n",
       "      <td>15990.50</td>\n",
       "    </tr>\n",
       "    <tr>\n",
       "      <th>75%</th>\n",
       "      <td>0.0</td>\n",
       "      <td>16045.00</td>\n",
       "    </tr>\n",
       "    <tr>\n",
       "      <th>max</th>\n",
       "      <td>0.0</td>\n",
       "      <td>16147.00</td>\n",
       "    </tr>\n",
       "  </tbody>\n",
       "</table>\n",
       "</div>"
      ],
      "text/plain": [
       "       groupid  activity_level\n",
       "count     30.0           30.00\n",
       "mean       0.0        15782.00\n",
       "std        0.0          371.08\n",
       "min        0.0        15163.00\n",
       "25%        0.0        15335.00\n",
       "50%        0.0        15990.50\n",
       "75%        0.0        16045.00\n",
       "max        0.0        16147.00"
      ]
     },
     "execution_count": 30,
     "metadata": {},
     "output_type": "execute_result"
    }
   ],
   "source": [
    "(\n",
    "    data_act.query('activity_level > 0 and groupid == 0 and dt >= \"2021-11-01\"')\n",
    "    .groupby(['dt','groupid']).count().reset_index()[['groupid','activity_level']].describe().round(2)\n",
    ")"
   ]
  },
  {
   "cell_type": "code",
   "execution_count": 31,
   "id": "05413bb5-8489-45f9-97a1-249f1d6d00a5",
   "metadata": {},
   "outputs": [
    {
     "data": {
      "text/html": [
       "<div>\n",
       "<style scoped>\n",
       "    .dataframe tbody tr th:only-of-type {\n",
       "        vertical-align: middle;\n",
       "    }\n",
       "\n",
       "    .dataframe tbody tr th {\n",
       "        vertical-align: top;\n",
       "    }\n",
       "\n",
       "    .dataframe thead tr th {\n",
       "        text-align: left;\n",
       "    }\n",
       "\n",
       "    .dataframe thead tr:last-of-type th {\n",
       "        text-align: right;\n",
       "    }\n",
       "</style>\n",
       "<table border=\"1\" class=\"dataframe\">\n",
       "  <thead>\n",
       "    <tr>\n",
       "      <th></th>\n",
       "      <th colspan=\"8\" halign=\"left\">activity_level</th>\n",
       "    </tr>\n",
       "    <tr>\n",
       "      <th></th>\n",
       "      <th>count</th>\n",
       "      <th>mean</th>\n",
       "      <th>std</th>\n",
       "      <th>min</th>\n",
       "      <th>25%</th>\n",
       "      <th>50%</th>\n",
       "      <th>75%</th>\n",
       "      <th>max</th>\n",
       "    </tr>\n",
       "    <tr>\n",
       "      <th>groupid</th>\n",
       "      <th></th>\n",
       "      <th></th>\n",
       "      <th></th>\n",
       "      <th></th>\n",
       "      <th></th>\n",
       "      <th></th>\n",
       "      <th></th>\n",
       "      <th></th>\n",
       "    </tr>\n",
       "  </thead>\n",
       "  <tbody>\n",
       "    <tr>\n",
       "      <th>0</th>\n",
       "      <td>898530.0</td>\n",
       "      <td>5.4</td>\n",
       "      <td>6.56</td>\n",
       "      <td>0.0</td>\n",
       "      <td>0.0</td>\n",
       "      <td>1.0</td>\n",
       "      <td>11.0</td>\n",
       "      <td>20.0</td>\n",
       "    </tr>\n",
       "    <tr>\n",
       "      <th>1</th>\n",
       "      <td>901470.0</td>\n",
       "      <td>10.0</td>\n",
       "      <td>5.79</td>\n",
       "      <td>0.0</td>\n",
       "      <td>5.0</td>\n",
       "      <td>10.0</td>\n",
       "      <td>15.0</td>\n",
       "      <td>20.0</td>\n",
       "    </tr>\n",
       "  </tbody>\n",
       "</table>\n",
       "</div>"
      ],
      "text/plain": [
       "        activity_level                                        \n",
       "                 count  mean   std  min  25%   50%   75%   max\n",
       "groupid                                                       \n",
       "0             898530.0   5.4  6.56  0.0  0.0   1.0  11.0  20.0\n",
       "1             901470.0  10.0  5.79  0.0  5.0  10.0  15.0  20.0"
      ]
     },
     "execution_count": 31,
     "metadata": {},
     "output_type": "execute_result"
    }
   ],
   "source": [
    "data_act.query('dt >= \"2021-11-01\"').groupby(['groupid']).describe().round(2)"
   ]
  },
  {
   "cell_type": "code",
   "execution_count": 32,
   "id": "fd185cf1-f911-4a45-9e0e-949bdd23edea",
   "metadata": {},
   "outputs": [
    {
     "data": {
      "text/html": [
       "<div>\n",
       "<style scoped>\n",
       "    .dataframe tbody tr th:only-of-type {\n",
       "        vertical-align: middle;\n",
       "    }\n",
       "\n",
       "    .dataframe tbody tr th {\n",
       "        vertical-align: top;\n",
       "    }\n",
       "\n",
       "    .dataframe thead tr th {\n",
       "        text-align: left;\n",
       "    }\n",
       "\n",
       "    .dataframe thead tr:last-of-type th {\n",
       "        text-align: right;\n",
       "    }\n",
       "</style>\n",
       "<table border=\"1\" class=\"dataframe\">\n",
       "  <thead>\n",
       "    <tr>\n",
       "      <th></th>\n",
       "      <th colspan=\"8\" halign=\"left\">activity_level</th>\n",
       "    </tr>\n",
       "    <tr>\n",
       "      <th></th>\n",
       "      <th>count</th>\n",
       "      <th>mean</th>\n",
       "      <th>std</th>\n",
       "      <th>min</th>\n",
       "      <th>25%</th>\n",
       "      <th>50%</th>\n",
       "      <th>75%</th>\n",
       "      <th>max</th>\n",
       "    </tr>\n",
       "    <tr>\n",
       "      <th>groupid</th>\n",
       "      <th></th>\n",
       "      <th></th>\n",
       "      <th></th>\n",
       "      <th></th>\n",
       "      <th></th>\n",
       "      <th></th>\n",
       "      <th></th>\n",
       "      <th></th>\n",
       "    </tr>\n",
       "  </thead>\n",
       "  <tbody>\n",
       "    <tr>\n",
       "      <th>0</th>\n",
       "      <td>928481.0</td>\n",
       "      <td>5.25</td>\n",
       "      <td>6.52</td>\n",
       "      <td>0.0</td>\n",
       "      <td>0.0</td>\n",
       "      <td>1.0</td>\n",
       "      <td>10.0</td>\n",
       "      <td>20.0</td>\n",
       "    </tr>\n",
       "    <tr>\n",
       "      <th>1</th>\n",
       "      <td>931519.0</td>\n",
       "      <td>5.24</td>\n",
       "      <td>6.52</td>\n",
       "      <td>0.0</td>\n",
       "      <td>0.0</td>\n",
       "      <td>1.0</td>\n",
       "      <td>10.0</td>\n",
       "      <td>20.0</td>\n",
       "    </tr>\n",
       "  </tbody>\n",
       "</table>\n",
       "</div>"
      ],
      "text/plain": [
       "        activity_level                                       \n",
       "                 count  mean   std  min  25%  50%   75%   max\n",
       "groupid                                                      \n",
       "0             928481.0  5.25  6.52  0.0  0.0  1.0  10.0  20.0\n",
       "1             931519.0  5.24  6.52  0.0  0.0  1.0  10.0  20.0"
      ]
     },
     "execution_count": 32,
     "metadata": {},
     "output_type": "execute_result"
    }
   ],
   "source": [
    "data_act.query('dt < \"2021-11-01\"').groupby('groupid').describe().round(2)"
   ]
  },
  {
   "cell_type": "markdown",
   "id": "5dbee088-f89d-4a0f-a4d9-639ef5db0b09",
   "metadata": {},
   "source": [
    "# The Tests\n",
    "## By the Activity Level (Guardrail Metric)"
   ]
  },
  {
   "cell_type": "code",
   "execution_count": 33,
   "id": "46122cbb-088c-4874-9551-863ecd698aa2",
   "metadata": {},
   "outputs": [],
   "source": [
    "from scipy.stats import ttest_ind"
   ]
  },
  {
   "cell_type": "code",
   "execution_count": 34,
   "id": "0d251bf9-c751-4d75-8e32-58a9ce111e7d",
   "metadata": {},
   "outputs": [
    {
     "data": {
      "text/plain": [
       "0    0\n",
       "1    0\n",
       "3    0\n",
       "6    0\n",
       "7    0\n",
       "Name: activity_level, dtype: int64"
      ]
     },
     "execution_count": 34,
     "metadata": {},
     "output_type": "execute_result"
    }
   ],
   "source": [
    "data_act.query('groupid == 0')['activity_level'].head()"
   ]
  },
  {
   "cell_type": "code",
   "execution_count": 35,
   "id": "2042bf82-ace8-434c-a35e-2bff834676ff",
   "metadata": {},
   "outputs": [
    {
     "data": {
      "text/plain": [
       "array([ 0,  0,  0, ..., 20, 20, 20], dtype=int64)"
      ]
     },
     "execution_count": 35,
     "metadata": {},
     "output_type": "execute_result"
    }
   ],
   "source": [
    "data_act.query('groupid == 0')['activity_level'].to_numpy()"
   ]
  },
  {
   "cell_type": "code",
   "execution_count": 36,
   "id": "36669e65-535f-4378-9f41-6fbe58a7d44f",
   "metadata": {},
   "outputs": [
    {
     "name": "stdout",
     "output_type": "stream",
     "text": [
      "0.0\n"
     ]
    }
   ],
   "source": [
    "res = ttest_ind(data_act.query('groupid == 0 and dt >= \"2021-11-01\"')['activity_level'].to_numpy(),\n",
    "                data_act.query('groupid == 1 and dt >= \"2021-11-01\"')['activity_level'].to_numpy()).pvalue\n",
    "\n",
    "print(res)"
   ]
  },
  {
   "cell_type": "markdown",
   "id": "ace76c66-5326-4e6e-8d96-42bfda9dffac",
   "metadata": {},
   "source": [
    "### The p-value is very small (<0.05) and hence we can reject the null hypothesis that the Mean Activity Level between the Test and Control Group is Equal at 5% of significance."
   ]
  },
  {
   "cell_type": "markdown",
   "id": "471a3ad4-ba2a-4941-8def-45f4f06edeaf",
   "metadata": {},
   "source": [
    "# By the Number of Active Users (Guardrail Metric)"
   ]
  },
  {
   "cell_type": "code",
   "execution_count": 37,
   "id": "d7ce3e24-e558-4307-8ebf-9ead0c790f8f",
   "metadata": {},
   "outputs": [
    {
     "data": {
      "text/html": [
       "<div>\n",
       "<style scoped>\n",
       "    .dataframe tbody tr th:only-of-type {\n",
       "        vertical-align: middle;\n",
       "    }\n",
       "\n",
       "    .dataframe tbody tr th {\n",
       "        vertical-align: top;\n",
       "    }\n",
       "\n",
       "    .dataframe thead th {\n",
       "        text-align: right;\n",
       "    }\n",
       "</style>\n",
       "<table border=\"1\" class=\"dataframe\">\n",
       "  <thead>\n",
       "    <tr style=\"text-align: right;\">\n",
       "      <th></th>\n",
       "      <th>dt</th>\n",
       "      <th>groupid</th>\n",
       "      <th>number_of_active_users</th>\n",
       "    </tr>\n",
       "  </thead>\n",
       "  <tbody>\n",
       "    <tr>\n",
       "      <th>0</th>\n",
       "      <td>2021-10-01</td>\n",
       "      <td>0</td>\n",
       "      <td>15337</td>\n",
       "    </tr>\n",
       "    <tr>\n",
       "      <th>1</th>\n",
       "      <td>2021-10-01</td>\n",
       "      <td>1</td>\n",
       "      <td>15297</td>\n",
       "    </tr>\n",
       "    <tr>\n",
       "      <th>2</th>\n",
       "      <td>2021-10-02</td>\n",
       "      <td>0</td>\n",
       "      <td>15354</td>\n",
       "    </tr>\n",
       "    <tr>\n",
       "      <th>3</th>\n",
       "      <td>2021-10-02</td>\n",
       "      <td>1</td>\n",
       "      <td>15421</td>\n",
       "    </tr>\n",
       "    <tr>\n",
       "      <th>4</th>\n",
       "      <td>2021-10-03</td>\n",
       "      <td>0</td>\n",
       "      <td>15423</td>\n",
       "    </tr>\n",
       "  </tbody>\n",
       "</table>\n",
       "</div>"
      ],
      "text/plain": [
       "           dt  groupid  number_of_active_users\n",
       "0  2021-10-01        0                   15337\n",
       "1  2021-10-01        1                   15297\n",
       "2  2021-10-02        0                   15354\n",
       "3  2021-10-02        1                   15421\n",
       "4  2021-10-03        0                   15423"
      ]
     },
     "execution_count": 37,
     "metadata": {},
     "output_type": "execute_result"
    }
   ],
   "source": [
    "data_act_count = data_act.query('activity_level > 0').groupby(['dt','groupid'])[\"userid\"].nunique().reset_index().rename(columns={\"userid\":\"number_of_active_users\"})\n",
    "data_act_count.head()"
   ]
  },
  {
   "cell_type": "code",
   "execution_count": 38,
   "id": "d65afb21-8e70-443d-aff3-441be952a987",
   "metadata": {},
   "outputs": [],
   "source": [
    "before = data_act_count.query('dt < \"2021-11-01\"')"
   ]
  },
  {
   "cell_type": "code",
   "execution_count": 39,
   "id": "c451c819-d1c6-4650-af3e-f9254e449181",
   "metadata": {},
   "outputs": [
    {
     "data": {
      "text/html": [
       "<div>\n",
       "<style scoped>\n",
       "    .dataframe tbody tr th:only-of-type {\n",
       "        vertical-align: middle;\n",
       "    }\n",
       "\n",
       "    .dataframe tbody tr th {\n",
       "        vertical-align: top;\n",
       "    }\n",
       "\n",
       "    .dataframe thead th {\n",
       "        text-align: right;\n",
       "    }\n",
       "</style>\n",
       "<table border=\"1\" class=\"dataframe\">\n",
       "  <thead>\n",
       "    <tr style=\"text-align: right;\">\n",
       "      <th></th>\n",
       "      <th>dt</th>\n",
       "      <th>groupid</th>\n",
       "      <th>number_of_active_users</th>\n",
       "    </tr>\n",
       "  </thead>\n",
       "  <tbody>\n",
       "    <tr>\n",
       "      <th>0</th>\n",
       "      <td>2021-10-01</td>\n",
       "      <td>0</td>\n",
       "      <td>15337</td>\n",
       "    </tr>\n",
       "    <tr>\n",
       "      <th>1</th>\n",
       "      <td>2021-10-01</td>\n",
       "      <td>1</td>\n",
       "      <td>15297</td>\n",
       "    </tr>\n",
       "    <tr>\n",
       "      <th>2</th>\n",
       "      <td>2021-10-02</td>\n",
       "      <td>0</td>\n",
       "      <td>15354</td>\n",
       "    </tr>\n",
       "    <tr>\n",
       "      <th>3</th>\n",
       "      <td>2021-10-02</td>\n",
       "      <td>1</td>\n",
       "      <td>15421</td>\n",
       "    </tr>\n",
       "    <tr>\n",
       "      <th>4</th>\n",
       "      <td>2021-10-03</td>\n",
       "      <td>0</td>\n",
       "      <td>15423</td>\n",
       "    </tr>\n",
       "  </tbody>\n",
       "</table>\n",
       "</div>"
      ],
      "text/plain": [
       "           dt  groupid  number_of_active_users\n",
       "0  2021-10-01        0                   15337\n",
       "1  2021-10-01        1                   15297\n",
       "2  2021-10-02        0                   15354\n",
       "3  2021-10-02        1                   15421\n",
       "4  2021-10-03        0                   15423"
      ]
     },
     "execution_count": 39,
     "metadata": {},
     "output_type": "execute_result"
    }
   ],
   "source": [
    "before.head()"
   ]
  },
  {
   "cell_type": "code",
   "execution_count": 40,
   "id": "8150da29-0843-4d33-b537-684370e1e158",
   "metadata": {},
   "outputs": [],
   "source": [
    "after = data_act_count.query('dt >= \"2021-11-01\"')"
   ]
  },
  {
   "cell_type": "code",
   "execution_count": 41,
   "id": "f80ea63c-4950-4a00-9329-dfd55b3f28a2",
   "metadata": {},
   "outputs": [
    {
     "data": {
      "text/html": [
       "<div>\n",
       "<style scoped>\n",
       "    .dataframe tbody tr th:only-of-type {\n",
       "        vertical-align: middle;\n",
       "    }\n",
       "\n",
       "    .dataframe tbody tr th {\n",
       "        vertical-align: top;\n",
       "    }\n",
       "\n",
       "    .dataframe thead th {\n",
       "        text-align: right;\n",
       "    }\n",
       "</style>\n",
       "<table border=\"1\" class=\"dataframe\">\n",
       "  <thead>\n",
       "    <tr style=\"text-align: right;\">\n",
       "      <th></th>\n",
       "      <th>dt</th>\n",
       "      <th>groupid</th>\n",
       "      <th>number_of_active_users</th>\n",
       "    </tr>\n",
       "  </thead>\n",
       "  <tbody>\n",
       "    <tr>\n",
       "      <th>62</th>\n",
       "      <td>2021-11-01</td>\n",
       "      <td>0</td>\n",
       "      <td>15989</td>\n",
       "    </tr>\n",
       "    <tr>\n",
       "      <th>63</th>\n",
       "      <td>2021-11-01</td>\n",
       "      <td>1</td>\n",
       "      <td>29318</td>\n",
       "    </tr>\n",
       "    <tr>\n",
       "      <th>64</th>\n",
       "      <td>2021-11-02</td>\n",
       "      <td>0</td>\n",
       "      <td>16024</td>\n",
       "    </tr>\n",
       "    <tr>\n",
       "      <th>65</th>\n",
       "      <td>2021-11-02</td>\n",
       "      <td>1</td>\n",
       "      <td>29289</td>\n",
       "    </tr>\n",
       "    <tr>\n",
       "      <th>66</th>\n",
       "      <td>2021-11-03</td>\n",
       "      <td>0</td>\n",
       "      <td>16049</td>\n",
       "    </tr>\n",
       "  </tbody>\n",
       "</table>\n",
       "</div>"
      ],
      "text/plain": [
       "            dt  groupid  number_of_active_users\n",
       "62  2021-11-01        0                   15989\n",
       "63  2021-11-01        1                   29318\n",
       "64  2021-11-02        0                   16024\n",
       "65  2021-11-02        1                   29289\n",
       "66  2021-11-03        0                   16049"
      ]
     },
     "execution_count": 41,
     "metadata": {},
     "output_type": "execute_result"
    }
   ],
   "source": [
    "after.head()"
   ]
  },
  {
   "cell_type": "markdown",
   "id": "d6dfdd4d-3055-49e0-885c-40e110f27b8e",
   "metadata": {},
   "source": [
    "#### Checking for the Pre-test Bias on Activity:"
   ]
  },
  {
   "cell_type": "code",
   "execution_count": 42,
   "id": "578017b9-21e0-420a-99ca-30de4d8f78c7",
   "metadata": {},
   "outputs": [
    {
     "data": {
      "text/plain": [
       "15320.870967741936"
      ]
     },
     "execution_count": 42,
     "metadata": {},
     "output_type": "execute_result"
    }
   ],
   "source": [
    "np.mean(before.query('groupid == 0')['number_of_active_users'].to_numpy())"
   ]
  },
  {
   "cell_type": "code",
   "execution_count": 43,
   "id": "a54e0b2e-f5f1-4ae6-b8de-f028f8e7799d",
   "metadata": {},
   "outputs": [
    {
     "data": {
      "text/plain": [
       "15352.516129032258"
      ]
     },
     "execution_count": 43,
     "metadata": {},
     "output_type": "execute_result"
    }
   ],
   "source": [
    "np.mean(before.query('groupid == 1')['number_of_active_users'].to_numpy())"
   ]
  },
  {
   "cell_type": "markdown",
   "id": "9f14d7d4-f61c-46f0-8300-38a167bdf0ba",
   "metadata": {},
   "source": [
    "#### So, before the test started the Mean Daily Active Users between the groups were similar. So, no pre-test Bias Exists."
   ]
  },
  {
   "cell_type": "code",
   "execution_count": 47,
   "id": "de50d85b-07a2-4829-8827-e90229840af8",
   "metadata": {},
   "outputs": [
    {
     "name": "stdout",
     "output_type": "stream",
     "text": [
      "0.16308423538280842\n"
     ]
    }
   ],
   "source": [
    "res = ttest_ind(before.query('groupid == 0')['number_of_active_users'].to_numpy(), before.query('groupid == 1')['number_of_active_users']\n",
    "                .to_numpy()).pvalue\n",
    "\n",
    "print(res)"
   ]
  },
  {
   "cell_type": "markdown",
   "id": "6de094cc-602b-404b-bf38-00a1fa65c507",
   "metadata": {},
   "source": [
    "#### The p-value (>0.05) also suggests that the Mean DAU weren't significantly different at 5% Level of Significance before the test. Hence, no pre-test bias existed"
   ]
  },
  {
   "cell_type": "markdown",
   "id": "2517ca91-591a-4225-91d0-35d28d344abd",
   "metadata": {},
   "source": [
    "## after the test starts:"
   ]
  },
  {
   "cell_type": "code",
   "execution_count": 48,
   "id": "c45d91ed-02bc-44fc-b13c-d864c54399da",
   "metadata": {},
   "outputs": [
    {
     "data": {
      "text/plain": [
       "15782.0"
      ]
     },
     "execution_count": 48,
     "metadata": {},
     "output_type": "execute_result"
    }
   ],
   "source": [
    "np.mean(after.query('groupid==0')['number_of_active_users'].to_numpy())"
   ]
  },
  {
   "cell_type": "code",
   "execution_count": 49,
   "id": "407ea065-4428-43b7-9803-5a90f914700e",
   "metadata": {},
   "outputs": [
    {
     "data": {
      "text/plain": [
       "29302.433333333334"
      ]
     },
     "execution_count": 49,
     "metadata": {},
     "output_type": "execute_result"
    }
   ],
   "source": [
    "np.mean(after.query('groupid == 1')['number_of_active_users'].to_numpy())"
   ]
  },
  {
   "cell_type": "markdown",
   "id": "d9bb0a31-d3d9-498a-a26b-5508885b333b",
   "metadata": {},
   "source": [
    "### A clear difference between the groups. But, performing  hypothesis test will help to find the  inference about the population:"
   ]
  },
  {
   "cell_type": "code",
   "execution_count": 50,
   "id": "19524349-2961-442f-958f-b3e9da2df3cd",
   "metadata": {},
   "outputs": [
    {
     "name": "stdout",
     "output_type": "stream",
     "text": [
      "6.590603584107244e-84\n"
     ]
    }
   ],
   "source": [
    "res = ttest_ind(after.query('groupid == 0')['number_of_active_users'].to_numpy(), after.query('groupid == 1')['number_of_active_users']\n",
    "                .to_numpy()).pvalue\n",
    "\n",
    "print(res)"
   ]
  },
  {
   "cell_type": "code",
   "execution_count": 51,
   "id": "e15190f0-8235-484b-bf3b-95185ff7e546",
   "metadata": {},
   "outputs": [
    {
     "data": {
      "text/plain": [
       "'0.0000000000000000000000000000000000000000000000000000000000000000000000000000000000065906035841072442'"
      ]
     },
     "execution_count": 51,
     "metadata": {},
     "output_type": "execute_result"
    }
   ],
   "source": [
    "\"{:.100f}\".format(res)"
   ]
  },
  {
   "cell_type": "markdown",
   "id": "7171f3bc-0e31-45bb-b19b-6b6d929d417e",
   "metadata": {},
   "source": [
    "##### The p-value is very small (<0.05) and hence we can reject the null hypothesis that the Mean Daily Active Users (DAU) between the Test and Control Group is Equal at 5% of significance after the test starts."
   ]
  },
  {
   "cell_type": "markdown",
   "id": "1093b256-ee09-4ed6-b1e4-f545d6ed0f30",
   "metadata": {},
   "source": [
    "## Click through rate (CTR) [Success Metric]"
   ]
  },
  {
   "cell_type": "code",
   "execution_count": 52,
   "id": "86d8e07c-6996-4032-9035-00941ba82efb",
   "metadata": {},
   "outputs": [
    {
     "data": {
      "text/html": [
       "<div>\n",
       "<style scoped>\n",
       "    .dataframe tbody tr th:only-of-type {\n",
       "        vertical-align: middle;\n",
       "    }\n",
       "\n",
       "    .dataframe tbody tr th {\n",
       "        vertical-align: top;\n",
       "    }\n",
       "\n",
       "    .dataframe thead th {\n",
       "        text-align: right;\n",
       "    }\n",
       "</style>\n",
       "<table border=\"1\" class=\"dataframe\">\n",
       "  <thead>\n",
       "    <tr style=\"text-align: right;\">\n",
       "      <th></th>\n",
       "      <th>userid</th>\n",
       "      <th>dt</th>\n",
       "      <th>groupid</th>\n",
       "      <th>ctr</th>\n",
       "    </tr>\n",
       "  </thead>\n",
       "  <tbody>\n",
       "    <tr>\n",
       "      <th>0</th>\n",
       "      <td>60389fa7-2d71-4cdf-831c-c2bb277ffa1e</td>\n",
       "      <td>2021-11-13</td>\n",
       "      <td>0</td>\n",
       "      <td>31.81</td>\n",
       "    </tr>\n",
       "    <tr>\n",
       "      <th>1</th>\n",
       "      <td>b59cb225-d160-4851-92d2-7cc8120a2f63</td>\n",
       "      <td>2021-11-13</td>\n",
       "      <td>0</td>\n",
       "      <td>30.46</td>\n",
       "    </tr>\n",
       "    <tr>\n",
       "      <th>2</th>\n",
       "      <td>aa336050-934e-453f-a5b0-dd881fcd114e</td>\n",
       "      <td>2021-11-13</td>\n",
       "      <td>0</td>\n",
       "      <td>34.25</td>\n",
       "    </tr>\n",
       "    <tr>\n",
       "      <th>3</th>\n",
       "      <td>8df767f4-a10f-4322-a722-676b7e02b372</td>\n",
       "      <td>2021-11-13</td>\n",
       "      <td>0</td>\n",
       "      <td>34.92</td>\n",
       "    </tr>\n",
       "    <tr>\n",
       "      <th>4</th>\n",
       "      <td>a74762ed-4da0-42ab-91d2-40d7e808dfe9</td>\n",
       "      <td>2021-11-13</td>\n",
       "      <td>0</td>\n",
       "      <td>34.95</td>\n",
       "    </tr>\n",
       "  </tbody>\n",
       "</table>\n",
       "</div>"
      ],
      "text/plain": [
       "                                 userid          dt  groupid    ctr\n",
       "0  60389fa7-2d71-4cdf-831c-c2bb277ffa1e  2021-11-13        0  31.81\n",
       "1  b59cb225-d160-4851-92d2-7cc8120a2f63  2021-11-13        0  30.46\n",
       "2  aa336050-934e-453f-a5b0-dd881fcd114e  2021-11-13        0  34.25\n",
       "3  8df767f4-a10f-4322-a722-676b7e02b372  2021-11-13        0  34.92\n",
       "4  a74762ed-4da0-42ab-91d2-40d7e808dfe9  2021-11-13        0  34.95"
      ]
     },
     "execution_count": 52,
     "metadata": {},
     "output_type": "execute_result"
    }
   ],
   "source": [
    "data_ctr = pd.read_csv(\"Ctr_all.csv\")\n",
    "data_ctr.head()"
   ]
  },
  {
   "cell_type": "code",
   "execution_count": 53,
   "id": "94248bfc-a203-4a4c-ba94-47ff6a54729d",
   "metadata": {},
   "outputs": [
    {
     "data": {
      "text/html": [
       "<div>\n",
       "<style scoped>\n",
       "    .dataframe tbody tr th:only-of-type {\n",
       "        vertical-align: middle;\n",
       "    }\n",
       "\n",
       "    .dataframe tbody tr th {\n",
       "        vertical-align: top;\n",
       "    }\n",
       "\n",
       "    .dataframe thead th {\n",
       "        text-align: right;\n",
       "    }\n",
       "</style>\n",
       "<table border=\"1\" class=\"dataframe\">\n",
       "  <thead>\n",
       "    <tr style=\"text-align: right;\">\n",
       "      <th></th>\n",
       "      <th>groupid</th>\n",
       "      <th>dt</th>\n",
       "      <th>avg_daily_ctr</th>\n",
       "    </tr>\n",
       "  </thead>\n",
       "  <tbody>\n",
       "    <tr>\n",
       "      <th>0</th>\n",
       "      <td>0</td>\n",
       "      <td>2021-10-01</td>\n",
       "      <td>32.980627</td>\n",
       "    </tr>\n",
       "    <tr>\n",
       "      <th>1</th>\n",
       "      <td>0</td>\n",
       "      <td>2021-10-02</td>\n",
       "      <td>33.004056</td>\n",
       "    </tr>\n",
       "    <tr>\n",
       "      <th>2</th>\n",
       "      <td>0</td>\n",
       "      <td>2021-10-03</td>\n",
       "      <td>33.002006</td>\n",
       "    </tr>\n",
       "    <tr>\n",
       "      <th>3</th>\n",
       "      <td>0</td>\n",
       "      <td>2021-10-04</td>\n",
       "      <td>32.990363</td>\n",
       "    </tr>\n",
       "    <tr>\n",
       "      <th>4</th>\n",
       "      <td>0</td>\n",
       "      <td>2021-10-05</td>\n",
       "      <td>33.014167</td>\n",
       "    </tr>\n",
       "    <tr>\n",
       "      <th>...</th>\n",
       "      <td>...</td>\n",
       "      <td>...</td>\n",
       "      <td>...</td>\n",
       "    </tr>\n",
       "    <tr>\n",
       "      <th>117</th>\n",
       "      <td>1</td>\n",
       "      <td>2021-11-26</td>\n",
       "      <td>37.997834</td>\n",
       "    </tr>\n",
       "    <tr>\n",
       "      <th>118</th>\n",
       "      <td>1</td>\n",
       "      <td>2021-11-27</td>\n",
       "      <td>37.978912</td>\n",
       "    </tr>\n",
       "    <tr>\n",
       "      <th>119</th>\n",
       "      <td>1</td>\n",
       "      <td>2021-11-28</td>\n",
       "      <td>37.992709</td>\n",
       "    </tr>\n",
       "    <tr>\n",
       "      <th>120</th>\n",
       "      <td>1</td>\n",
       "      <td>2021-11-29</td>\n",
       "      <td>37.987909</td>\n",
       "    </tr>\n",
       "    <tr>\n",
       "      <th>121</th>\n",
       "      <td>1</td>\n",
       "      <td>2021-11-30</td>\n",
       "      <td>37.997982</td>\n",
       "    </tr>\n",
       "  </tbody>\n",
       "</table>\n",
       "<p>122 rows × 3 columns</p>\n",
       "</div>"
      ],
      "text/plain": [
       "     groupid          dt  avg_daily_ctr\n",
       "0          0  2021-10-01      32.980627\n",
       "1          0  2021-10-02      33.004056\n",
       "2          0  2021-10-03      33.002006\n",
       "3          0  2021-10-04      32.990363\n",
       "4          0  2021-10-05      33.014167\n",
       "..       ...         ...            ...\n",
       "117        1  2021-11-26      37.997834\n",
       "118        1  2021-11-27      37.978912\n",
       "119        1  2021-11-28      37.992709\n",
       "120        1  2021-11-29      37.987909\n",
       "121        1  2021-11-30      37.997982\n",
       "\n",
       "[122 rows x 3 columns]"
      ]
     },
     "execution_count": 53,
     "metadata": {},
     "output_type": "execute_result"
    }
   ],
   "source": [
    "data_ctr_avg = data_ctr.groupby(['groupid','dt'])[\"ctr\"].mean().reset_index().rename(columns={\"ctr\":\"avg_daily_ctr\"})\n",
    "data_ctr_avg"
   ]
  },
  {
   "cell_type": "code",
   "execution_count": 54,
   "id": "7a26675d-aab0-4d15-a29f-532549b0df7e",
   "metadata": {},
   "outputs": [
    {
     "data": {
      "text/html": [
       "\n",
       "<style>\n",
       "  #altair-viz-472a7be047d44090a936ba357c14bae3.vega-embed {\n",
       "    width: 100%;\n",
       "    display: flex;\n",
       "  }\n",
       "\n",
       "  #altair-viz-472a7be047d44090a936ba357c14bae3.vega-embed details,\n",
       "  #altair-viz-472a7be047d44090a936ba357c14bae3.vega-embed details summary {\n",
       "    position: relative;\n",
       "  }\n",
       "</style>\n",
       "<div id=\"altair-viz-472a7be047d44090a936ba357c14bae3\"></div>\n",
       "<script type=\"text/javascript\">\n",
       "  var VEGA_DEBUG = (typeof VEGA_DEBUG == \"undefined\") ? {} : VEGA_DEBUG;\n",
       "  (function(spec, embedOpt){\n",
       "    let outputDiv = document.currentScript.previousElementSibling;\n",
       "    if (outputDiv.id !== \"altair-viz-472a7be047d44090a936ba357c14bae3\") {\n",
       "      outputDiv = document.getElementById(\"altair-viz-472a7be047d44090a936ba357c14bae3\");\n",
       "    }\n",
       "\n",
       "    const paths = {\n",
       "      \"vega\": \"https://cdn.jsdelivr.net/npm/vega@5?noext\",\n",
       "      \"vega-lib\": \"https://cdn.jsdelivr.net/npm/vega-lib?noext\",\n",
       "      \"vega-lite\": \"https://cdn.jsdelivr.net/npm/vega-lite@5.20.1?noext\",\n",
       "      \"vega-embed\": \"https://cdn.jsdelivr.net/npm/vega-embed@6?noext\",\n",
       "    };\n",
       "\n",
       "    function maybeLoadScript(lib, version) {\n",
       "      var key = `${lib.replace(\"-\", \"\")}_version`;\n",
       "      return (VEGA_DEBUG[key] == version) ?\n",
       "        Promise.resolve(paths[lib]) :\n",
       "        new Promise(function(resolve, reject) {\n",
       "          var s = document.createElement('script');\n",
       "          document.getElementsByTagName(\"head\")[0].appendChild(s);\n",
       "          s.async = true;\n",
       "          s.onload = () => {\n",
       "            VEGA_DEBUG[key] = version;\n",
       "            return resolve(paths[lib]);\n",
       "          };\n",
       "          s.onerror = () => reject(`Error loading script: ${paths[lib]}`);\n",
       "          s.src = paths[lib];\n",
       "        });\n",
       "    }\n",
       "\n",
       "    function showError(err) {\n",
       "      outputDiv.innerHTML = `<div class=\"error\" style=\"color:red;\">${err}</div>`;\n",
       "      throw err;\n",
       "    }\n",
       "\n",
       "    function displayChart(vegaEmbed) {\n",
       "      vegaEmbed(outputDiv, spec, embedOpt)\n",
       "        .catch(err => showError(`Javascript Error: ${err.message}<br>This usually means there's a typo in your chart specification. See the javascript console for the full traceback.`));\n",
       "    }\n",
       "\n",
       "    if(typeof define === \"function\" && define.amd) {\n",
       "      requirejs.config({paths});\n",
       "      let deps = [\"vega-embed\"];\n",
       "      require(deps, displayChart, err => showError(`Error loading script: ${err.message}`));\n",
       "    } else {\n",
       "      maybeLoadScript(\"vega\", \"5\")\n",
       "        .then(() => maybeLoadScript(\"vega-lite\", \"5.20.1\"))\n",
       "        .then(() => maybeLoadScript(\"vega-embed\", \"6\"))\n",
       "        .catch(showError)\n",
       "        .then(() => displayChart(vegaEmbed));\n",
       "    }\n",
       "  })({\"config\": {\"view\": {\"continuousWidth\": 300, \"continuousHeight\": 300}}, \"data\": {\"name\": \"data-87fa28a8f513c3e7ee043423ca868c02\"}, \"mark\": {\"type\": \"line\", \"size\": 5}, \"encoding\": {\"color\": {\"field\": \"groupid\", \"type\": \"ordinal\"}, \"tooltip\": [{\"field\": \"avg_daily_ctr\", \"type\": \"quantitative\"}], \"x\": {\"field\": \"dt\", \"type\": \"nominal\"}, \"y\": {\"field\": \"avg_daily_ctr\", \"type\": \"quantitative\"}}, \"height\": 400, \"width\": 600, \"$schema\": \"https://vega.github.io/schema/vega-lite/v5.20.1.json\", \"datasets\": {\"data-87fa28a8f513c3e7ee043423ca868c02\": [{\"groupid\": 0, \"dt\": \"2021-10-01\", \"avg_daily_ctr\": 32.98062658929386}, {\"groupid\": 0, \"dt\": \"2021-10-02\", \"avg_daily_ctr\": 33.00405627198124}, {\"groupid\": 0, \"dt\": \"2021-10-03\", \"avg_daily_ctr\": 33.002006094793494}, {\"groupid\": 0, \"dt\": \"2021-10-04\", \"avg_daily_ctr\": 32.99036289527316}, {\"groupid\": 0, \"dt\": \"2021-10-05\", \"avg_daily_ctr\": 33.01416699722332}, {\"groupid\": 0, \"dt\": \"2021-10-06\", \"avg_daily_ctr\": 33.02166025432018}, {\"groupid\": 0, \"dt\": \"2021-10-07\", \"avg_daily_ctr\": 32.97636582822886}, {\"groupid\": 0, \"dt\": \"2021-10-08\", \"avg_daily_ctr\": 33.003954548414406}, {\"groupid\": 0, \"dt\": \"2021-10-09\", \"avg_daily_ctr\": 33.02420792401275}, {\"groupid\": 0, \"dt\": \"2021-10-10\", \"avg_daily_ctr\": 33.002929240034035}, {\"groupid\": 0, \"dt\": \"2021-10-11\", \"avg_daily_ctr\": 32.990675817680284}, {\"groupid\": 0, \"dt\": \"2021-10-12\", \"avg_daily_ctr\": 32.982114453891434}, {\"groupid\": 0, \"dt\": \"2021-10-13\", \"avg_daily_ctr\": 33.00414308073562}, {\"groupid\": 0, \"dt\": \"2021-10-14\", \"avg_daily_ctr\": 32.99352795031056}, {\"groupid\": 0, \"dt\": \"2021-10-15\", \"avg_daily_ctr\": 33.01448648294822}, {\"groupid\": 0, \"dt\": \"2021-10-16\", \"avg_daily_ctr\": 32.99120927808183}, {\"groupid\": 0, \"dt\": \"2021-10-17\", \"avg_daily_ctr\": 32.994388204795854}, {\"groupid\": 0, \"dt\": \"2021-10-18\", \"avg_daily_ctr\": 33.001452374704805}, {\"groupid\": 0, \"dt\": \"2021-10-19\", \"avg_daily_ctr\": 33.010430634516105}, {\"groupid\": 0, \"dt\": \"2021-10-20\", \"avg_daily_ctr\": 32.99715316603823}, {\"groupid\": 0, \"dt\": \"2021-10-21\", \"avg_daily_ctr\": 32.99495625688549}, {\"groupid\": 0, \"dt\": \"2021-10-22\", \"avg_daily_ctr\": 33.007837327429016}, {\"groupid\": 0, \"dt\": \"2021-10-23\", \"avg_daily_ctr\": 33.02130354432051}, {\"groupid\": 0, \"dt\": \"2021-10-24\", \"avg_daily_ctr\": 32.96157039711191}, {\"groupid\": 0, \"dt\": \"2021-10-25\", \"avg_daily_ctr\": 32.997385838056154}, {\"groupid\": 0, \"dt\": \"2021-10-26\", \"avg_daily_ctr\": 33.02775523560209}, {\"groupid\": 0, \"dt\": \"2021-10-27\", \"avg_daily_ctr\": 33.008124070120964}, {\"groupid\": 0, \"dt\": \"2021-10-28\", \"avg_daily_ctr\": 33.00568031618504}, {\"groupid\": 0, \"dt\": \"2021-10-29\", \"avg_daily_ctr\": 33.00055146575523}, {\"groupid\": 0, \"dt\": \"2021-10-30\", \"avg_daily_ctr\": 33.000058227019956}, {\"groupid\": 0, \"dt\": \"2021-10-31\", \"avg_daily_ctr\": 33.003953840084165}, {\"groupid\": 0, \"dt\": \"2021-11-01\", \"avg_daily_ctr\": 32.982671211457884}, {\"groupid\": 0, \"dt\": \"2021-11-02\", \"avg_daily_ctr\": 33.01498315027459}, {\"groupid\": 0, \"dt\": \"2021-11-03\", \"avg_daily_ctr\": 33.008268427939434}, {\"groupid\": 0, \"dt\": \"2021-11-04\", \"avg_daily_ctr\": 32.98667892768079}, {\"groupid\": 0, \"dt\": \"2021-11-05\", \"avg_daily_ctr\": 33.00476597070738}, {\"groupid\": 0, \"dt\": \"2021-11-06\", \"avg_daily_ctr\": 32.998322181226946}, {\"groupid\": 0, \"dt\": \"2021-11-07\", \"avg_daily_ctr\": 33.00622760800843}, {\"groupid\": 0, \"dt\": \"2021-11-08\", \"avg_daily_ctr\": 32.99077858427942}, {\"groupid\": 0, \"dt\": \"2021-11-09\", \"avg_daily_ctr\": 33.021024885601456}, {\"groupid\": 0, \"dt\": \"2021-11-10\", \"avg_daily_ctr\": 32.99329080675422}, {\"groupid\": 0, \"dt\": \"2021-11-11\", \"avg_daily_ctr\": 33.00973761296354}, {\"groupid\": 0, \"dt\": \"2021-11-12\", \"avg_daily_ctr\": 32.98669714357778}, {\"groupid\": 0, \"dt\": \"2021-11-13\", \"avg_daily_ctr\": 32.9809378325925}, {\"groupid\": 0, \"dt\": \"2021-11-14\", \"avg_daily_ctr\": 33.0229763986014}, {\"groupid\": 0, \"dt\": \"2021-11-15\", \"avg_daily_ctr\": 32.98153984607745}, {\"groupid\": 0, \"dt\": \"2021-11-16\", \"avg_daily_ctr\": 32.99275716851428}, {\"groupid\": 0, \"dt\": \"2021-11-17\", \"avg_daily_ctr\": 32.98997876990322}, {\"groupid\": 0, \"dt\": \"2021-11-18\", \"avg_daily_ctr\": 32.9980620978322}, {\"groupid\": 0, \"dt\": \"2021-11-19\", \"avg_daily_ctr\": 32.99927657724789}, {\"groupid\": 0, \"dt\": \"2021-11-20\", \"avg_daily_ctr\": 32.98435487880671}, {\"groupid\": 0, \"dt\": \"2021-11-21\", \"avg_daily_ctr\": 33.01392049169609}, {\"groupid\": 0, \"dt\": \"2021-11-22\", \"avg_daily_ctr\": 33.006160978496744}, {\"groupid\": 0, \"dt\": \"2021-11-23\", \"avg_daily_ctr\": 32.99264911825726}, {\"groupid\": 0, \"dt\": \"2021-11-24\", \"avg_daily_ctr\": 32.995949895615865}, {\"groupid\": 0, \"dt\": \"2021-11-25\", \"avg_daily_ctr\": 32.97369649805447}, {\"groupid\": 0, \"dt\": \"2021-11-26\", \"avg_daily_ctr\": 32.98306712202811}, {\"groupid\": 0, \"dt\": \"2021-11-27\", \"avg_daily_ctr\": 32.998942169305245}, {\"groupid\": 0, \"dt\": \"2021-11-28\", \"avg_daily_ctr\": 32.99494667277367}, {\"groupid\": 0, \"dt\": \"2021-11-29\", \"avg_daily_ctr\": 33.00110054701745}, {\"groupid\": 0, \"dt\": \"2021-11-30\", \"avg_daily_ctr\": 32.99472551342812}, {\"groupid\": 1, \"dt\": \"2021-10-01\", \"avg_daily_ctr\": 33.00629862064457}, {\"groupid\": 1, \"dt\": \"2021-10-02\", \"avg_daily_ctr\": 32.97932624343428}, {\"groupid\": 1, \"dt\": \"2021-10-03\", \"avg_daily_ctr\": 32.98813891420388}, {\"groupid\": 1, \"dt\": \"2021-10-04\", \"avg_daily_ctr\": 32.99559591889784}, {\"groupid\": 1, \"dt\": \"2021-10-05\", \"avg_daily_ctr\": 32.994796274738064}, {\"groupid\": 1, \"dt\": \"2021-10-06\", \"avg_daily_ctr\": 33.015461317302666}, {\"groupid\": 1, \"dt\": \"2021-10-07\", \"avg_daily_ctr\": 33.00067752272579}, {\"groupid\": 1, \"dt\": \"2021-10-08\", \"avg_daily_ctr\": 32.99331299612937}, {\"groupid\": 1, \"dt\": \"2021-10-09\", \"avg_daily_ctr\": 32.98615221170562}, {\"groupid\": 1, \"dt\": \"2021-10-10\", \"avg_daily_ctr\": 33.011332331416625}, {\"groupid\": 1, \"dt\": \"2021-10-11\", \"avg_daily_ctr\": 32.98992596475136}, {\"groupid\": 1, \"dt\": \"2021-10-12\", \"avg_daily_ctr\": 33.01009529983793}, {\"groupid\": 1, \"dt\": \"2021-10-13\", \"avg_daily_ctr\": 32.96447332598691}, {\"groupid\": 1, \"dt\": \"2021-10-14\", \"avg_daily_ctr\": 33.006175993774725}, {\"groupid\": 1, \"dt\": \"2021-10-15\", \"avg_daily_ctr\": 33.00258072916667}, {\"groupid\": 1, \"dt\": \"2021-10-16\", \"avg_daily_ctr\": 32.990841796875}, {\"groupid\": 1, \"dt\": \"2021-10-17\", \"avg_daily_ctr\": 33.00950754359611}, {\"groupid\": 1, \"dt\": \"2021-10-18\", \"avg_daily_ctr\": 33.01399029126214}, {\"groupid\": 1, \"dt\": \"2021-10-19\", \"avg_daily_ctr\": 32.99257982203612}, {\"groupid\": 1, \"dt\": \"2021-10-20\", \"avg_daily_ctr\": 33.012096282359046}, {\"groupid\": 1, \"dt\": \"2021-10-21\", \"avg_daily_ctr\": 33.00020230456986}, {\"groupid\": 1, \"dt\": \"2021-10-22\", \"avg_daily_ctr\": 33.00572320431097}, {\"groupid\": 1, \"dt\": \"2021-10-23\", \"avg_daily_ctr\": 33.00335355621531}, {\"groupid\": 1, \"dt\": \"2021-10-24\", \"avg_daily_ctr\": 33.0069234790564}, {\"groupid\": 1, \"dt\": \"2021-10-25\", \"avg_daily_ctr\": 32.98301932525385}, {\"groupid\": 1, \"dt\": \"2021-10-26\", \"avg_daily_ctr\": 33.00083999220425}, {\"groupid\": 1, \"dt\": \"2021-10-27\", \"avg_daily_ctr\": 33.005947901591895}, {\"groupid\": 1, \"dt\": \"2021-10-28\", \"avg_daily_ctr\": 33.00574117647059}, {\"groupid\": 1, \"dt\": \"2021-10-29\", \"avg_daily_ctr\": 33.00783867431814}, {\"groupid\": 1, \"dt\": \"2021-10-30\", \"avg_daily_ctr\": 33.03274001173173}, {\"groupid\": 1, \"dt\": \"2021-10-31\", \"avg_daily_ctr\": 32.97118672849585}, {\"groupid\": 1, \"dt\": \"2021-11-01\", \"avg_daily_ctr\": 37.9946186643018}, {\"groupid\": 1, \"dt\": \"2021-11-02\", \"avg_daily_ctr\": 38.01365632148588}, {\"groupid\": 1, \"dt\": \"2021-11-03\", \"avg_daily_ctr\": 37.99556200095543}, {\"groupid\": 1, \"dt\": \"2021-11-04\", \"avg_daily_ctr\": 37.988511634263844}, {\"groupid\": 1, \"dt\": \"2021-11-05\", \"avg_daily_ctr\": 38.00281565312245}, {\"groupid\": 1, \"dt\": \"2021-11-06\", \"avg_daily_ctr\": 38.01312666348188}, {\"groupid\": 1, \"dt\": \"2021-11-07\", \"avg_daily_ctr\": 37.99576243377201}, {\"groupid\": 1, \"dt\": \"2021-11-08\", \"avg_daily_ctr\": 37.99487099750538}, {\"groupid\": 1, \"dt\": \"2021-11-09\", \"avg_daily_ctr\": 38.01321723690501}, {\"groupid\": 1, \"dt\": \"2021-11-10\", \"avg_daily_ctr\": 37.99005896387185}, {\"groupid\": 1, \"dt\": \"2021-11-11\", \"avg_daily_ctr\": 37.994286006337525}, {\"groupid\": 1, \"dt\": \"2021-11-12\", \"avg_daily_ctr\": 37.99615957374138}, {\"groupid\": 1, \"dt\": \"2021-11-13\", \"avg_daily_ctr\": 38.004073074031034}, {\"groupid\": 1, \"dt\": \"2021-11-14\", \"avg_daily_ctr\": 38.002104563126665}, {\"groupid\": 1, \"dt\": \"2021-11-15\", \"avg_daily_ctr\": 37.99379248048539}, {\"groupid\": 1, \"dt\": \"2021-11-16\", \"avg_daily_ctr\": 38.00073617747441}, {\"groupid\": 1, \"dt\": \"2021-11-17\", \"avg_daily_ctr\": 38.01606465046422}, {\"groupid\": 1, \"dt\": \"2021-11-18\", \"avg_daily_ctr\": 38.00059780009565}, {\"groupid\": 1, \"dt\": \"2021-11-19\", \"avg_daily_ctr\": 37.99372593199508}, {\"groupid\": 1, \"dt\": \"2021-11-20\", \"avg_daily_ctr\": 37.99248218486822}, {\"groupid\": 1, \"dt\": \"2021-11-21\", \"avg_daily_ctr\": 37.99136715684602}, {\"groupid\": 1, \"dt\": \"2021-11-22\", \"avg_daily_ctr\": 37.99126989548466}, {\"groupid\": 1, \"dt\": \"2021-11-23\", \"avg_daily_ctr\": 37.99545767918089}, {\"groupid\": 1, \"dt\": \"2021-11-24\", \"avg_daily_ctr\": 37.98753166934135}, {\"groupid\": 1, \"dt\": \"2021-11-25\", \"avg_daily_ctr\": 37.99161564451725}, {\"groupid\": 1, \"dt\": \"2021-11-26\", \"avg_daily_ctr\": 37.99783435143159}, {\"groupid\": 1, \"dt\": \"2021-11-27\", \"avg_daily_ctr\": 37.97891209540034}, {\"groupid\": 1, \"dt\": \"2021-11-28\", \"avg_daily_ctr\": 37.992709322583956}, {\"groupid\": 1, \"dt\": \"2021-11-29\", \"avg_daily_ctr\": 37.987909112636146}, {\"groupid\": 1, \"dt\": \"2021-11-30\", \"avg_daily_ctr\": 37.99798209788305}]}}, {\"mode\": \"vega-lite\"});\n",
       "</script>"
      ],
      "text/plain": [
       "alt.Chart(...)"
      ]
     },
     "execution_count": 54,
     "metadata": {},
     "output_type": "execute_result"
    }
   ],
   "source": [
    "alt.Chart(data_ctr_avg).mark_line(size=5).encode(\n",
    "    alt.X('dt'),\n",
    "    alt.Y('avg_daily_ctr'),\n",
    "    color='groupid:O',\n",
    "    tooltip=['avg_daily_ctr']\n",
    ").properties(\n",
    "    width=600,\n",
    "    height=400\n",
    ")"
   ]
  },
  {
   "cell_type": "markdown",
   "id": "78f1c98a-ee3d-4370-b696-c83254a1f215",
   "metadata": {},
   "source": [
    "#### A Clear Increament between the groups after the test started."
   ]
  },
  {
   "cell_type": "code",
   "execution_count": 55,
   "id": "930f812f-53ca-45d4-b4df-5a917a865e6c",
   "metadata": {},
   "outputs": [
    {
     "data": {
      "text/html": [
       "<div>\n",
       "<style scoped>\n",
       "    .dataframe tbody tr th:only-of-type {\n",
       "        vertical-align: middle;\n",
       "    }\n",
       "\n",
       "    .dataframe tbody tr th {\n",
       "        vertical-align: top;\n",
       "    }\n",
       "\n",
       "    .dataframe thead th {\n",
       "        text-align: right;\n",
       "    }\n",
       "</style>\n",
       "<table border=\"1\" class=\"dataframe\">\n",
       "  <thead>\n",
       "    <tr style=\"text-align: right;\">\n",
       "      <th></th>\n",
       "      <th>groupid</th>\n",
       "      <th>ctr</th>\n",
       "    </tr>\n",
       "  </thead>\n",
       "  <tbody>\n",
       "    <tr>\n",
       "      <th>808703</th>\n",
       "      <td>0</td>\n",
       "      <td>34.28</td>\n",
       "    </tr>\n",
       "    <tr>\n",
       "      <th>808704</th>\n",
       "      <td>0</td>\n",
       "      <td>34.67</td>\n",
       "    </tr>\n",
       "    <tr>\n",
       "      <th>808705</th>\n",
       "      <td>0</td>\n",
       "      <td>34.77</td>\n",
       "    </tr>\n",
       "    <tr>\n",
       "      <th>808706</th>\n",
       "      <td>0</td>\n",
       "      <td>35.42</td>\n",
       "    </tr>\n",
       "    <tr>\n",
       "      <th>808707</th>\n",
       "      <td>0</td>\n",
       "      <td>35.04</td>\n",
       "    </tr>\n",
       "    <tr>\n",
       "      <th>...</th>\n",
       "      <td>...</td>\n",
       "      <td>...</td>\n",
       "    </tr>\n",
       "    <tr>\n",
       "      <th>1759573</th>\n",
       "      <td>1</td>\n",
       "      <td>32.33</td>\n",
       "    </tr>\n",
       "    <tr>\n",
       "      <th>1759574</th>\n",
       "      <td>1</td>\n",
       "      <td>30.09</td>\n",
       "    </tr>\n",
       "    <tr>\n",
       "      <th>1759575</th>\n",
       "      <td>1</td>\n",
       "      <td>35.71</td>\n",
       "    </tr>\n",
       "    <tr>\n",
       "      <th>1759576</th>\n",
       "      <td>1</td>\n",
       "      <td>34.76</td>\n",
       "    </tr>\n",
       "    <tr>\n",
       "      <th>1759577</th>\n",
       "      <td>1</td>\n",
       "      <td>30.91</td>\n",
       "    </tr>\n",
       "  </tbody>\n",
       "</table>\n",
       "<p>950875 rows × 2 columns</p>\n",
       "</div>"
      ],
      "text/plain": [
       "         groupid    ctr\n",
       "808703         0  34.28\n",
       "808704         0  34.67\n",
       "808705         0  34.77\n",
       "808706         0  35.42\n",
       "808707         0  35.04\n",
       "...          ...    ...\n",
       "1759573        1  32.33\n",
       "1759574        1  30.09\n",
       "1759575        1  35.71\n",
       "1759576        1  34.76\n",
       "1759577        1  30.91\n",
       "\n",
       "[950875 rows x 2 columns]"
      ]
     },
     "execution_count": 55,
     "metadata": {},
     "output_type": "execute_result"
    }
   ],
   "source": [
    "before = data_ctr.query('dt < \"2021-11-01\"')[['groupid', 'ctr']]\n",
    "before"
   ]
  },
  {
   "cell_type": "code",
   "execution_count": 56,
   "id": "63a86695-2084-41b6-8c59-755ddb147757",
   "metadata": {},
   "outputs": [
    {
     "data": {
      "text/html": [
       "<div>\n",
       "<style scoped>\n",
       "    .dataframe tbody tr th:only-of-type {\n",
       "        vertical-align: middle;\n",
       "    }\n",
       "\n",
       "    .dataframe tbody tr th {\n",
       "        vertical-align: top;\n",
       "    }\n",
       "\n",
       "    .dataframe thead th {\n",
       "        text-align: right;\n",
       "    }\n",
       "</style>\n",
       "<table border=\"1\" class=\"dataframe\">\n",
       "  <thead>\n",
       "    <tr style=\"text-align: right;\">\n",
       "      <th></th>\n",
       "      <th>groupid</th>\n",
       "      <th>ctr</th>\n",
       "    </tr>\n",
       "  </thead>\n",
       "  <tbody>\n",
       "    <tr>\n",
       "      <th>0</th>\n",
       "      <td>0</td>\n",
       "      <td>31.81</td>\n",
       "    </tr>\n",
       "    <tr>\n",
       "      <th>1</th>\n",
       "      <td>0</td>\n",
       "      <td>30.46</td>\n",
       "    </tr>\n",
       "    <tr>\n",
       "      <th>2</th>\n",
       "      <td>0</td>\n",
       "      <td>34.25</td>\n",
       "    </tr>\n",
       "    <tr>\n",
       "      <th>3</th>\n",
       "      <td>0</td>\n",
       "      <td>34.92</td>\n",
       "    </tr>\n",
       "    <tr>\n",
       "      <th>4</th>\n",
       "      <td>0</td>\n",
       "      <td>34.95</td>\n",
       "    </tr>\n",
       "    <tr>\n",
       "      <th>...</th>\n",
       "      <td>...</td>\n",
       "      <td>...</td>\n",
       "    </tr>\n",
       "    <tr>\n",
       "      <th>2303403</th>\n",
       "      <td>1</td>\n",
       "      <td>37.27</td>\n",
       "    </tr>\n",
       "    <tr>\n",
       "      <th>2303404</th>\n",
       "      <td>1</td>\n",
       "      <td>39.14</td>\n",
       "    </tr>\n",
       "    <tr>\n",
       "      <th>2303405</th>\n",
       "      <td>1</td>\n",
       "      <td>40.05</td>\n",
       "    </tr>\n",
       "    <tr>\n",
       "      <th>2303406</th>\n",
       "      <td>1</td>\n",
       "      <td>38.14</td>\n",
       "    </tr>\n",
       "    <tr>\n",
       "      <th>2303407</th>\n",
       "      <td>1</td>\n",
       "      <td>37.98</td>\n",
       "    </tr>\n",
       "  </tbody>\n",
       "</table>\n",
       "<p>1352533 rows × 2 columns</p>\n",
       "</div>"
      ],
      "text/plain": [
       "         groupid    ctr\n",
       "0              0  31.81\n",
       "1              0  30.46\n",
       "2              0  34.25\n",
       "3              0  34.92\n",
       "4              0  34.95\n",
       "...          ...    ...\n",
       "2303403        1  37.27\n",
       "2303404        1  39.14\n",
       "2303405        1  40.05\n",
       "2303406        1  38.14\n",
       "2303407        1  37.98\n",
       "\n",
       "[1352533 rows x 2 columns]"
      ]
     },
     "execution_count": 56,
     "metadata": {},
     "output_type": "execute_result"
    }
   ],
   "source": [
    "after = data_ctr.query('dt >= \"2021-11-01\"')[['groupid', 'ctr']]\n",
    "after"
   ]
  },
  {
   "cell_type": "code",
   "execution_count": 57,
   "id": "698d375c-1f25-460c-a57b-f2641ce84234",
   "metadata": {},
   "outputs": [
    {
     "data": {
      "text/plain": [
       "33.00091277553074"
      ]
     },
     "execution_count": 57,
     "metadata": {},
     "output_type": "execute_result"
    }
   ],
   "source": [
    "before.query('groupid == 0')['ctr'].to_numpy().mean()"
   ]
  },
  {
   "cell_type": "code",
   "execution_count": 58,
   "id": "6977ad22-7485-434c-9692-e3c29c73df92",
   "metadata": {},
   "outputs": [
    {
     "data": {
      "text/plain": [
       "32.99957172093258"
      ]
     },
     "execution_count": 58,
     "metadata": {},
     "output_type": "execute_result"
    }
   ],
   "source": [
    "before.query('groupid == 1')['ctr'].to_numpy().mean()"
   ]
  },
  {
   "cell_type": "markdown",
   "id": "0dafa53b-d6d6-444b-9b89-64cdc334aa35",
   "metadata": {},
   "source": [
    "##### Before the test the mean CTR was similar."
   ]
  },
  {
   "cell_type": "code",
   "execution_count": 59,
   "id": "d43b7200-90c3-424b-ac44-70a9ab2ce8d5",
   "metadata": {},
   "outputs": [
    {
     "data": {
      "text/plain": [
       "32.996977569382835"
      ]
     },
     "execution_count": 59,
     "metadata": {},
     "output_type": "execute_result"
    }
   ],
   "source": [
    "after.query('groupid == 0')['ctr'].to_numpy().mean()"
   ]
  },
  {
   "cell_type": "code",
   "execution_count": 60,
   "id": "cf450c2b-2ec9-4233-93c5-da6b932fa649",
   "metadata": {},
   "outputs": [
    {
     "data": {
      "text/plain": [
       "37.99695912626142"
      ]
     },
     "execution_count": 60,
     "metadata": {},
     "output_type": "execute_result"
    }
   ],
   "source": [
    "after.query('groupid == 1')['ctr'].to_numpy().mean()"
   ]
  },
  {
   "cell_type": "markdown",
   "id": "6f612963-d8b6-47db-92a7-57840aef0e8d",
   "metadata": {},
   "source": [
    "### But, after the test started there was a clear improvement in the mean CTR."
   ]
  },
  {
   "cell_type": "code",
   "execution_count": 61,
   "id": "1ae0f6eb-4e81-4659-b01c-0cf5179381cc",
   "metadata": {},
   "outputs": [
    {
     "data": {
      "text/plain": [
       "1.7336979501682888"
      ]
     },
     "execution_count": 61,
     "metadata": {},
     "output_type": "execute_result"
    }
   ],
   "source": [
    "before.query('groupid == 0')['ctr'].to_numpy().std()"
   ]
  },
  {
   "cell_type": "code",
   "execution_count": 62,
   "id": "2d3c2d96-b34e-4e06-9233-3807f9866cfb",
   "metadata": {},
   "outputs": [
    {
     "data": {
      "text/plain": [
       "1.7296548367391134"
      ]
     },
     "execution_count": 62,
     "metadata": {},
     "output_type": "execute_result"
    }
   ],
   "source": [
    "before.query('groupid == 1')['ctr'].to_numpy().std()"
   ]
  },
  {
   "cell_type": "code",
   "execution_count": 63,
   "id": "48b10fd3-8130-47cf-ba99-87b636e33627",
   "metadata": {},
   "outputs": [
    {
     "data": {
      "text/plain": [
       "1.7331985918552912"
      ]
     },
     "execution_count": 63,
     "metadata": {},
     "output_type": "execute_result"
    }
   ],
   "source": [
    "after.query('groupid == 0')['ctr'].to_numpy().std()"
   ]
  },
  {
   "cell_type": "code",
   "execution_count": null,
   "id": "36a1a1dc-c19c-42cd-889b-098f213c270f",
   "metadata": {},
   "outputs": [],
   "source": [
    "after.query('groupid == 1')['ctr'].to_numpy().std()"
   ]
  },
  {
   "cell_type": "markdown",
   "id": "993e73b7-5263-4a99-ac5a-cf634d4ace98",
   "metadata": {},
   "source": [
    "### performing hypothesis tests:"
   ]
  },
  {
   "cell_type": "code",
   "execution_count": 64,
   "id": "b43fa859-e874-495f-84b8-09fe10faffae",
   "metadata": {},
   "outputs": [
    {
     "name": "stdout",
     "output_type": "stream",
     "text": [
      "0.705741417344299\n"
     ]
    }
   ],
   "source": [
    "res = ttest_ind(before.query('groupid == 0')['ctr'].to_numpy(), before.query('groupid == 1')['ctr']\n",
    "                .to_numpy()).pvalue\n",
    "\n",
    "print(res)"
   ]
  },
  {
   "cell_type": "markdown",
   "id": "37eecad0-da1a-4c89-b56a-26fe00ea80cc",
   "metadata": {},
   "source": [
    "#### High p-value (p > 0.05); Hence, failed to reject the null hypothesis (mean ctr between the groups is equal) at 5% level of significance."
   ]
  },
  {
   "cell_type": "markdown",
   "id": "55c58f30-ac74-41f2-ac89-8ee63333a885",
   "metadata": {},
   "source": [
    "##### After the Test:"
   ]
  },
  {
   "cell_type": "code",
   "execution_count": 65,
   "id": "07e00ed2-c026-44c2-9c0c-fba1f1fb1a95",
   "metadata": {},
   "outputs": [
    {
     "name": "stdout",
     "output_type": "stream",
     "text": [
      "0.0\n"
     ]
    }
   ],
   "source": [
    "res = ttest_ind(after.query('groupid == 0')['ctr'].to_numpy(), after.query('groupid == 1')['ctr']\n",
    "                .to_numpy()).pvalue\n",
    "print(res)"
   ]
  },
  {
   "cell_type": "code",
   "execution_count": 66,
   "id": "2b44407a-3904-4432-a008-be715bae0847",
   "metadata": {},
   "outputs": [
    {
     "data": {
      "text/plain": [
       "'0.0000000000000000000000000000000000000000000000000000000000000000000000000000000000000000000000000000'"
      ]
     },
     "execution_count": 66,
     "metadata": {},
     "output_type": "execute_result"
    }
   ],
   "source": [
    "\"{:.100f}\".format(res)"
   ]
  },
  {
   "cell_type": "markdown",
   "id": "ac7ada78-bcac-430b-9661-f76d7b75a783",
   "metadata": {},
   "source": [
    "#### Very Low p-value (p < 0.05); Hence, rejecting the null hypothesis (mean ctr between the groups is equal) at 5% level of significance.\n",
    "\n",
    "Hence, we can conclude that the new ad policy is a hit interms of our success metric (CTR) as well as our Guardrail Metrics (Daily Active Users and Daily Activity Level)."
   ]
  },
  {
   "cell_type": "code",
   "execution_count": null,
   "id": "81e5964b-d982-47b2-a330-5bed9185950c",
   "metadata": {},
   "outputs": [],
   "source": []
  }
 ],
 "metadata": {
  "kernelspec": {
   "display_name": "Python 3 (ipykernel)",
   "language": "python",
   "name": "python3"
  },
  "language_info": {
   "codemirror_mode": {
    "name": "ipython",
    "version": 3
   },
   "file_extension": ".py",
   "mimetype": "text/x-python",
   "name": "python",
   "nbconvert_exporter": "python",
   "pygments_lexer": "ipython3",
   "version": "3.12.2"
  }
 },
 "nbformat": 4,
 "nbformat_minor": 5
}
